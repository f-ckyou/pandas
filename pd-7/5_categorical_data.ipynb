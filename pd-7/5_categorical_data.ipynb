{
 "cells": [
  {
   "cell_type": "markdown",
   "metadata": {},
   "source": [
    "## [ Categorical Data ]\n",
    "- is a pandas data type used for columns that have a fixed and limited number of possible values (categories)\n",
    "\n",
    "#### Benefits of Using Categorical Data\n",
    "\n",
    "1. **Less Memory Usage**  \n",
    "   Stores categories as integers under the hood, not strings.\n",
    "\n",
    "2. **Faster Performance**  \n",
    "   Comparisons and groupings are quicker.\n",
    "\n",
    "3. **Clear Data Meaning**  \n",
    "   Helps distinguish **true categories** (like `gender`, `city`, `rating`) from free-form text.\n",
    "\n",
    "\n",
    "#### Background & Motivation\n",
    "\n",
    "Before categorical types:\n",
    "\n",
    "- Strings were used to represent categories like `\"male\"`, `\"female\"`, `\"yes\"`, `\"no\"`, etc.\n",
    "- But string operations are **slow** and **memory-heavy**.\n",
    "- There was **no way to define ordering** (like `\"low\" < \"medium\" < \"high\"`).\n",
    "- Missing values and inconsistent labels could cause bugs in analysis.\n",
    "\n",
    "**So pandas introduced `Categorical` data type to solve this.**\n",
    "\n",
    "\n",
    "####  Features of Categorical Data\n",
    "\n",
    "| Feature                | Description                                           |\n",
    "|------------------------|-------------------------------------------------------|\n",
    "| **Categories**         | The possible values (like \"small\", \"medium\", \"large\") |\n",
    "| **Order** (optional)   | Categories can be **ordered** (e.g., low < medium < high) |\n",
    "| **Efficient Storage**  | Internally stored as integers + a mapping table       |\n",
    "| **Group-by Friendly**  | Useful for `groupby()`, `pivot_table()`, etc.         |\n"
   ]
  },
  {
   "cell_type": "code",
   "execution_count": 7,
   "metadata": {},
   "outputs": [
    {
     "data": {
      "text/plain": [
       "0     apple\n",
       "1    orange\n",
       "2     apple\n",
       "3     apple\n",
       "4     apple\n",
       "5    orange\n",
       "6     apple\n",
       "7     apple\n",
       "dtype: object"
      ]
     },
     "execution_count": 7,
     "metadata": {},
     "output_type": "execute_result"
    }
   ],
   "source": [
    "import numpy as np \n",
    "import pandas as pd \n",
    "\n",
    "values = pd.Series(['apple', 'orange', 'apple', 'apple'] * 2)\n",
    "values"
   ]
  },
  {
   "cell_type": "code",
   "execution_count": 9,
   "metadata": {},
   "outputs": [
    {
     "name": "stdout",
     "output_type": "stream",
     "text": [
      "['apple' 'orange']\n",
      "apple     6\n",
      "orange    2\n",
      "Name: count, dtype: int64\n"
     ]
    }
   ],
   "source": [
    "print(pd.unique(values))\n",
    "print(pd.Series(values).value_counts())"
   ]
  },
  {
   "cell_type": "code",
   "execution_count": null,
   "metadata": {},
   "outputs": [],
   "source": [
    "# Many data systems (for data warehousing, statistical computing, or other uses) have developed specialized approaches for representing data with repeated values for more efficient storage and computation. In data warehousing.\n",
    "#  A best practice is to use so-called dimension tables containing the distinct values and storing the primary observations as integer keys referencing the dimension table\n",
    "\n",
    "\n",
    "# Summary: \n",
    "# To save space and work faster: \n",
    "#     don't repeat the same text over and over\n",
    "#     instead, store each unique value once in a dimension table\n",
    "#     in your main table, just store an integer code that points to that value \n",
    "#     this technique is used in data warehousing, pandas categorical data, and many analytics tools"
   ]
  },
  {
   "cell_type": "markdown",
   "metadata": {},
   "source": [
    "- Data Systems: these are tools or platforms used to store, manage, and analyze data\n",
    "    - databases (MySQL, PostgreSQL)\n",
    "    - data warehouses (amazon redshift, google bigquery)\n",
    "    - statistical tools (R, pandas in python)\n",
    "\n",
    "- Repeated Values: refers to data that appears multiple times in a dataset\n",
    "\n",
    "- Efficient Storage and Computation: to avoid redundancy and save space and time, data systems try do:\n",
    "    - store repeated values only once\n",
    "    - use references or codes instead of full repeated strings\n",
    "    - Why?\n",
    "        - reduces memory usage\n",
    "        - makes searching and comparing faster\n",
    "\n",
    "- Data Warehousing: it is a system designed for analyzing large datasets(often from different sources) to support dicision-making\n",
    "    - Characteristics: \n",
    "        - stores historical data\n",
    "        - used for reporting, analytics, BI (business intelligence)\n",
    "\n",
    "- Dimension Tables: these are tables in a data warehouse that store unique values for certain attributes (like city_names, product_names, etc)\n",
    "    - Instead of storing full strings repeatedly, we store: \n",
    "        - a unique ID (like 1,2,3,...)\n",
    "        - the corresponding string once "
   ]
  },
  {
   "cell_type": "code",
   "execution_count": 14,
   "metadata": {},
   "outputs": [
    {
     "name": "stdout",
     "output_type": "stream",
     "text": [
      "0    0\n",
      "1    1\n",
      "2    0\n",
      "3    0\n",
      "4    0\n",
      "5    1\n",
      "6    0\n",
      "7    0\n",
      "dtype: int64\n",
      "0     apple\n",
      "1    orange\n",
      "dtype: object\n"
     ]
    },
    {
     "data": {
      "text/plain": [
       "0     apple\n",
       "1    orange\n",
       "0     apple\n",
       "0     apple\n",
       "0     apple\n",
       "1    orange\n",
       "0     apple\n",
       "0     apple\n",
       "dtype: object"
      ]
     },
     "execution_count": 14,
     "metadata": {},
     "output_type": "execute_result"
    }
   ],
   "source": [
    "values = pd.Series([0,1,0,0] * 2)\n",
    "dim = pd.Series(['apple', 'orange']) # dim[0] -> apple , dim[1] -> orange\n",
    "\n",
    "print(values)\n",
    "print(dim)\n",
    "\n",
    "dim.take(values)    # dim.take([0,1,0,0,0,1,0,0])\n",
    "\n",
    "# dim.take(values) returns a new Series -- it's a copy not a view, and it is not stored anywhere unless we assign it"
   ]
  },
  {
   "cell_type": "markdown",
   "metadata": {},
   "source": [
    "\n",
    "#### **Key Points on Categorical (Dictionary-Encoded) Representation in pandas**\n",
    "\n",
    "1. **Categorical Representation**:\n",
    "   - Data is stored as **integer codes** referring to a **set of distinct values** (called *categories*).\n",
    "   - This is also known as **dictionary-encoded representation**.\n",
    "\n",
    "2. **Terminology**:\n",
    "   - The **distinct values**: called *categories*, *dictionary*, or *levels*.\n",
    "   - The **integers** referencing them: called *category codes* or simply *codes*.\n",
    "\n",
    "3. **Performance**:\n",
    "   - Categorical representation is **memory-efficient** and **faster** for certain operations.\n",
    "   - Useful for **analytics** where values repeat often (e.g., gender, region, product types).\n",
    "\n",
    "4. **Transformations on Categories**:\n",
    "   - You can change the **categories** without modifying the **underlying codes**.\n",
    "   - Common low-cost transformations include:\n",
    "     - ✅ **Renaming categories**\n",
    "     - ✅ **Appending new categories** (while keeping existing order/positions unchanged)\n"
   ]
  },
  {
   "cell_type": "markdown",
   "metadata": {},
   "source": [
    "--- "
   ]
  },
  {
   "cell_type": "markdown",
   "metadata": {},
   "source": [
    "## [ Categorical Extension Type in pandas ]\n",
    "- pandas provides a **special data type** called `Categorical` for handling data using **integer-based encoding**.\n",
    "- It stores repeated values as **integer codes**, pointing to a list of **unique categories** (like a lookup table).\n",
    "- **Why it's useful**:  \n",
    "   - This method:\n",
    "   - ✅ Saves **memory**\n",
    "   - ✅ Offers **faster performance**\n",
    "   - ✅ Is especially helpful for **string data with many repeated values**\n",
    "- Great for data like *city names*, *product types*, *status labels* (like 'Yes', 'No'), etc.\n"
   ]
  },
  {
   "cell_type": "code",
   "execution_count": 16,
   "metadata": {},
   "outputs": [
    {
     "data": {
      "text/html": [
       "<div>\n",
       "<style scoped>\n",
       "    .dataframe tbody tr th:only-of-type {\n",
       "        vertical-align: middle;\n",
       "    }\n",
       "\n",
       "    .dataframe tbody tr th {\n",
       "        vertical-align: top;\n",
       "    }\n",
       "\n",
       "    .dataframe thead th {\n",
       "        text-align: right;\n",
       "    }\n",
       "</style>\n",
       "<table border=\"1\" class=\"dataframe\">\n",
       "  <thead>\n",
       "    <tr style=\"text-align: right;\">\n",
       "      <th></th>\n",
       "      <th>basket_id</th>\n",
       "      <th>fruit</th>\n",
       "      <th>count</th>\n",
       "      <th>weight</th>\n",
       "    </tr>\n",
       "  </thead>\n",
       "  <tbody>\n",
       "    <tr>\n",
       "      <th>0</th>\n",
       "      <td>0</td>\n",
       "      <td>apple</td>\n",
       "      <td>11</td>\n",
       "      <td>1.564438</td>\n",
       "    </tr>\n",
       "    <tr>\n",
       "      <th>1</th>\n",
       "      <td>1</td>\n",
       "      <td>orange</td>\n",
       "      <td>5</td>\n",
       "      <td>1.331256</td>\n",
       "    </tr>\n",
       "    <tr>\n",
       "      <th>2</th>\n",
       "      <td>2</td>\n",
       "      <td>apple</td>\n",
       "      <td>12</td>\n",
       "      <td>2.393235</td>\n",
       "    </tr>\n",
       "    <tr>\n",
       "      <th>3</th>\n",
       "      <td>3</td>\n",
       "      <td>apple</td>\n",
       "      <td>6</td>\n",
       "      <td>0.746937</td>\n",
       "    </tr>\n",
       "    <tr>\n",
       "      <th>4</th>\n",
       "      <td>4</td>\n",
       "      <td>apple</td>\n",
       "      <td>5</td>\n",
       "      <td>2.691024</td>\n",
       "    </tr>\n",
       "    <tr>\n",
       "      <th>5</th>\n",
       "      <td>5</td>\n",
       "      <td>orange</td>\n",
       "      <td>12</td>\n",
       "      <td>3.767211</td>\n",
       "    </tr>\n",
       "    <tr>\n",
       "      <th>6</th>\n",
       "      <td>6</td>\n",
       "      <td>apple</td>\n",
       "      <td>10</td>\n",
       "      <td>0.992983</td>\n",
       "    </tr>\n",
       "    <tr>\n",
       "      <th>7</th>\n",
       "      <td>7</td>\n",
       "      <td>apple</td>\n",
       "      <td>11</td>\n",
       "      <td>3.795525</td>\n",
       "    </tr>\n",
       "  </tbody>\n",
       "</table>\n",
       "</div>"
      ],
      "text/plain": [
       "   basket_id   fruit  count    weight\n",
       "0          0   apple     11  1.564438\n",
       "1          1  orange      5  1.331256\n",
       "2          2   apple     12  2.393235\n",
       "3          3   apple      6  0.746937\n",
       "4          4   apple      5  2.691024\n",
       "5          5  orange     12  3.767211\n",
       "6          6   apple     10  0.992983\n",
       "7          7   apple     11  3.795525"
      ]
     },
     "execution_count": 16,
     "metadata": {},
     "output_type": "execute_result"
    }
   ],
   "source": [
    "fruits = ['apple', 'orange', 'apple', 'apple'] * 2\n",
    "N = len(fruits)\n",
    "\n",
    "rng = np.random.default_rng(seed=12345)\n",
    "\n",
    "df = pd.DataFrame({'fruit': fruits,\n",
    "                     'basket_id': np.arange(N),\n",
    "                     'count': rng.integers(3, 15, size=N),\n",
    "                     'weight': rng.uniform(0, 4, size=N)},\n",
    "                    columns=['basket_id', 'fruit', 'count', 'weight'])\n",
    "df "
   ]
  },
  {
   "cell_type": "code",
   "execution_count": 17,
   "metadata": {},
   "outputs": [
    {
     "data": {
      "text/plain": [
       "0     apple\n",
       "1    orange\n",
       "2     apple\n",
       "3     apple\n",
       "4     apple\n",
       "5    orange\n",
       "6     apple\n",
       "7     apple\n",
       "Name: fruit, dtype: category\n",
       "Categories (2, object): ['apple', 'orange']"
      ]
     },
     "execution_count": 17,
     "metadata": {},
     "output_type": "execute_result"
    }
   ],
   "source": [
    "# here df['fruit'] is an array of python strings objects. we can convert it to categorical by calling\n",
    "fruit_cat = df['fruit'].astype('category')\n",
    "fruit_cat # series object"
   ]
  },
  {
   "cell_type": "code",
   "execution_count": 21,
   "metadata": {},
   "outputs": [
    {
     "data": {
      "text/plain": [
       "pandas.core.arrays.categorical.Categorical"
      ]
     },
     "execution_count": 21,
     "metadata": {},
     "output_type": "execute_result"
    }
   ],
   "source": [
    "# the values for fruit_cat are now an instance of pandas.Categorical, which you can access via the .array attribute\n",
    "\n",
    "c = fruit_cat.array\n",
    "type(c)\n",
    "\n",
    "# s.array returns the actual data container behind the series"
   ]
  },
  {
   "cell_type": "code",
   "execution_count": 24,
   "metadata": {},
   "outputs": [
    {
     "name": "stdout",
     "output_type": "stream",
     "text": [
      "Index(['apple', 'orange'], dtype='object')\n",
      "[0 1 0 0 0 1 0 0]\n"
     ]
    }
   ],
   "source": [
    "# the categorical object has categories and codes attributes\n",
    "print(c.categories)\n",
    "print(c.codes)\n",
    "# fruit_cat.categories: series object has no object categories\n",
    "\n",
    "# these can be accessed more easily using the cat accessor"
   ]
  },
  {
   "cell_type": "code",
   "execution_count": 25,
   "metadata": {},
   "outputs": [
    {
     "data": {
      "text/plain": [
       "{0: 'apple', 1: 'orange'}"
      ]
     },
     "execution_count": 25,
     "metadata": {},
     "output_type": "execute_result"
    }
   ],
   "source": [
    "# trick to get a mapping between codes and categories is \n",
    "dict(enumerate(c.categories))\n",
    "\n",
    "# what integer code corresponds to which category label"
   ]
  },
  {
   "cell_type": "code",
   "execution_count": 32,
   "metadata": {},
   "outputs": [
    {
     "data": {
      "text/plain": [
       "0     apple\n",
       "1    orange\n",
       "2     apple\n",
       "3     apple\n",
       "4     apple\n",
       "5    orange\n",
       "6     apple\n",
       "7     apple\n",
       "Name: fruit, dtype: category\n",
       "Categories (2, object): ['apple', 'orange']"
      ]
     },
     "execution_count": 32,
     "metadata": {},
     "output_type": "execute_result"
    }
   ],
   "source": [
    "# we can convert a DataFrame column to categorical \n",
    "df['fruit'] = df['fruit'].astype('category')\n",
    "df['fruit']"
   ]
  },
  {
   "cell_type": "code",
   "execution_count": 35,
   "metadata": {},
   "outputs": [
    {
     "data": {
      "text/plain": [
       "['foo', 'bar', 'baz', 'foo', 'bar']\n",
       "Categories (3, object): ['bar', 'baz', 'foo']"
      ]
     },
     "execution_count": 35,
     "metadata": {},
     "output_type": "execute_result"
    }
   ],
   "source": [
    "# we can also create pandas.Categorical directly from other types of Python sequences\n",
    "my_categories = pd.Categorical(['foo', 'bar', 'baz', 'foo', 'bar'])\n",
    "my_categories"
   ]
  },
  {
   "cell_type": "code",
   "execution_count": 38,
   "metadata": {},
   "outputs": [
    {
     "name": "stdout",
     "output_type": "stream",
     "text": [
      "['foo', 'baz', 'bar', 'baz', 'baz', 'bar', 'foo', 'foo', 'bar', 'baz']\n",
      "Categories (3, object): ['foo', 'bar', 'baz']\n",
      "['foo', 'baz', 'bar', 'baz', 'baz', 'bar', 'foo', 'foo', 'bar', 'baz']\n",
      "Categories (3, object): ['foo' < 'bar' < 'baz']\n"
     ]
    }
   ],
   "source": [
    "# if you have obtained categorical encoded data from another source, you can use the alternative from_codes constructor\n",
    "\n",
    "categories = ['foo', 'bar', 'baz']\n",
    "codes = [0,2,1,2,2,1,0,0,1,2]\n",
    "\n",
    "res = pd.Categorical.from_codes(codes, categories) \n",
    "print(res)\n",
    "\n",
    "# unless explicitly specified, categorical conversions assume no specific ordering of the categories. \n",
    "# so the categories array may be in a different order depending on the ordering of the input data \n",
    "# when using from_codes or any of the other constructors, you can indicate that the categorie have a meaninggul odering\n",
    "\n",
    "ordered_cat = pd.Categorical.from_codes(codes, categories, ordered=True)\n",
    "print(ordered_cat)\n",
    "\n",
    "# no difference in print output, but underlying metadata knows it's ordered\n",
    "\n",
    "# when to use ordered: \n",
    "    # the categories have a natural ranking \n",
    "    # you need to compare values or sort them in a meaningful order"
   ]
  },
  {
   "cell_type": "markdown",
   "metadata": {},
   "source": [
    "categorical data need not be strings, a categorical array can consist of any immutable value types"
   ]
  },
  {
   "cell_type": "markdown",
   "metadata": {},
   "source": [
    "## [ Computations with Categories ]"
   ]
  }
 ],
 "metadata": {
  "kernelspec": {
   "display_name": "env1",
   "language": "python",
   "name": "python3"
  },
  "language_info": {
   "codemirror_mode": {
    "name": "ipython",
    "version": 3
   },
   "file_extension": ".py",
   "mimetype": "text/x-python",
   "name": "python",
   "nbconvert_exporter": "python",
   "pygments_lexer": "ipython3",
   "version": "3.13.2"
  }
 },
 "nbformat": 4,
 "nbformat_minor": 2
}
