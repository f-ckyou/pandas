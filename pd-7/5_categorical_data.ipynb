{
 "cells": [
  {
   "cell_type": "markdown",
   "metadata": {},
   "source": [
    "## [ Categorical Data ]\n",
    "- is a pandas data type used for columns that have a fixed and limited number of possible values (categories)\n",
    "\n",
    "#### Benefits of Using Categorical Data\n",
    "\n",
    "1. **Less Memory Usage**  \n",
    "   Stores categories as integers under the hood, not strings.\n",
    "\n",
    "2. **Faster Performance**  \n",
    "   Comparisons and groupings are quicker.\n",
    "\n",
    "3. **Clear Data Meaning**  \n",
    "   Helps distinguish **true categories** (like `gender`, `city`, `rating`) from free-form text.\n",
    "\n",
    "\n",
    "#### Background & Motivation\n",
    "\n",
    "Before categorical types:\n",
    "\n",
    "- Strings were used to represent categories like `\"male\"`, `\"female\"`, `\"yes\"`, `\"no\"`, etc.\n",
    "- But string operations are **slow** and **memory-heavy**.\n",
    "- There was **no way to define ordering** (like `\"low\" < \"medium\" < \"high\"`).\n",
    "- Missing values and inconsistent labels could cause bugs in analysis.\n",
    "\n",
    "**So pandas introduced `Categorical` data type to solve this.**\n",
    "\n",
    "\n",
    "####  Features of Categorical Data\n",
    "\n",
    "| Feature                | Description                                           |\n",
    "|------------------------|-------------------------------------------------------|\n",
    "| **Categories**         | The possible values (like \"small\", \"medium\", \"large\") |\n",
    "| **Order** (optional)   | Categories can be **ordered** (e.g., low < medium < high) |\n",
    "| **Efficient Storage**  | Internally stored as integers + a mapping table       |\n",
    "| **Group-by Friendly**  | Useful for `groupby()`, `pivot_table()`, etc.         |\n"
   ]
  },
  {
   "cell_type": "code",
   "execution_count": 1,
   "metadata": {},
   "outputs": [
    {
     "data": {
      "text/plain": [
       "0     apple\n",
       "1    orange\n",
       "2     apple\n",
       "3     apple\n",
       "4     apple\n",
       "5    orange\n",
       "6     apple\n",
       "7     apple\n",
       "dtype: object"
      ]
     },
     "execution_count": 1,
     "metadata": {},
     "output_type": "execute_result"
    }
   ],
   "source": [
    "import numpy as np \n",
    "import pandas as pd \n",
    "\n",
    "values = pd.Series(['apple', 'orange', 'apple', 'apple'] * 2)\n",
    "values"
   ]
  },
  {
   "cell_type": "code",
   "execution_count": 2,
   "metadata": {},
   "outputs": [
    {
     "name": "stdout",
     "output_type": "stream",
     "text": [
      "['apple' 'orange']\n",
      "apple     6\n",
      "orange    2\n",
      "Name: count, dtype: int64\n"
     ]
    }
   ],
   "source": [
    "print(pd.unique(values))\n",
    "print(pd.Series(values).value_counts())"
   ]
  },
  {
   "cell_type": "code",
   "execution_count": 3,
   "metadata": {},
   "outputs": [],
   "source": [
    "# Many data systems (for data warehousing, statistical computing, or other uses) have developed specialized approaches for representing data with repeated values for more efficient storage and computation. In data warehousing.\n",
    "#  A best practice is to use so-called dimension tables containing the distinct values and storing the primary observations as integer keys referencing the dimension table\n",
    "\n",
    "\n",
    "# Summary: \n",
    "# To save space and work faster: \n",
    "#     don't repeat the same text over and over\n",
    "#     instead, store each unique value once in a dimension table\n",
    "#     in your main table, just store an integer code that points to that value \n",
    "#     this technique is used in data warehousing, pandas categorical data, and many analytics tools"
   ]
  },
  {
   "cell_type": "markdown",
   "metadata": {},
   "source": [
    "- Data Systems: these are tools or platforms used to store, manage, and analyze data\n",
    "    - databases (MySQL, PostgreSQL)\n",
    "    - data warehouses (amazon redshift, google bigquery)\n",
    "    - statistical tools (R, pandas in python)\n",
    "\n",
    "- Repeated Values: refers to data that appears multiple times in a dataset\n",
    "\n",
    "- Efficient Storage and Computation: to avoid redundancy and save space and time, data systems try do:\n",
    "    - store repeated values only once\n",
    "    - use references or codes instead of full repeated strings\n",
    "    - Why?\n",
    "        - reduces memory usage\n",
    "        - makes searching and comparing faster\n",
    "\n",
    "- Data Warehousing: it is a system designed for analyzing large datasets(often from different sources) to support dicision-making\n",
    "    - Characteristics: \n",
    "        - stores historical data\n",
    "        - used for reporting, analytics, BI (business intelligence)\n",
    "\n",
    "- Dimension Tables: these are tables in a data warehouse that store unique values for certain attributes (like city_names, product_names, etc)\n",
    "    - Instead of storing full strings repeatedly, we store: \n",
    "        - a unique ID (like 1,2,3,...)\n",
    "        - the corresponding string once "
   ]
  },
  {
   "cell_type": "code",
   "execution_count": 4,
   "metadata": {},
   "outputs": [
    {
     "name": "stdout",
     "output_type": "stream",
     "text": [
      "0    0\n",
      "1    1\n",
      "2    0\n",
      "3    0\n",
      "4    0\n",
      "5    1\n",
      "6    0\n",
      "7    0\n",
      "dtype: int64\n",
      "0     apple\n",
      "1    orange\n",
      "dtype: object\n"
     ]
    },
    {
     "data": {
      "text/plain": [
       "0     apple\n",
       "1    orange\n",
       "0     apple\n",
       "0     apple\n",
       "0     apple\n",
       "1    orange\n",
       "0     apple\n",
       "0     apple\n",
       "dtype: object"
      ]
     },
     "execution_count": 4,
     "metadata": {},
     "output_type": "execute_result"
    }
   ],
   "source": [
    "values = pd.Series([0,1,0,0] * 2)\n",
    "dim = pd.Series(['apple', 'orange']) # dim[0] -> apple , dim[1] -> orange\n",
    "\n",
    "print(values)\n",
    "print(dim)\n",
    "\n",
    "dim.take(values)    # dim.take([0,1,0,0,0,1,0,0])\n",
    "\n",
    "# dim.take(values) returns a new Series -- it's a copy not a view, and it is not stored anywhere unless we assign it"
   ]
  },
  {
   "cell_type": "markdown",
   "metadata": {},
   "source": [
    "\n",
    "#### **Key Points on Categorical (Dictionary-Encoded) Representation in pandas**\n",
    "\n",
    "1. **Categorical Representation**:\n",
    "   - Data is stored as **integer codes** referring to a **set of distinct values** (called *categories*).\n",
    "   - This is also known as **dictionary-encoded representation**.\n",
    "\n",
    "2. **Terminology**:\n",
    "   - The **distinct values**: called *categories*, *dictionary*, or *levels*.\n",
    "   - The **integers** referencing them: called *category codes* or simply *codes*.\n",
    "\n",
    "3. **Performance**:\n",
    "   - Categorical representation is **memory-efficient** and **faster** for certain operations.\n",
    "   - Useful for **analytics** where values repeat often (e.g., gender, region, product types).\n",
    "\n",
    "4. **Transformations on Categories**:\n",
    "   - You can change the **categories** without modifying the **underlying codes**.\n",
    "   - Common low-cost transformations include:\n",
    "     - ✅ **Renaming categories**\n",
    "     - ✅ **Appending new categories** (while keeping existing order/positions unchanged)\n"
   ]
  },
  {
   "cell_type": "markdown",
   "metadata": {},
   "source": [
    "--- "
   ]
  },
  {
   "cell_type": "markdown",
   "metadata": {},
   "source": [
    "## [ Categorical Extension Type in pandas ]\n",
    "- pandas provides a **special data type** called `Categorical` for handling data using **integer-based encoding**.\n",
    "- It stores repeated values as **integer codes**, pointing to a list of **unique categories** (like a lookup table).\n",
    "- **Why it's useful**:  \n",
    "   - This method:\n",
    "   - ✅ Saves **memory**\n",
    "   - ✅ Offers **faster performance**\n",
    "   - ✅ Is especially helpful for **string data with many repeated values**\n",
    "- Great for data like *city names*, *product types*, *status labels* (like 'Yes', 'No'), etc.\n"
   ]
  },
  {
   "cell_type": "code",
   "execution_count": 5,
   "metadata": {},
   "outputs": [
    {
     "data": {
      "text/html": [
       "<div>\n",
       "<style scoped>\n",
       "    .dataframe tbody tr th:only-of-type {\n",
       "        vertical-align: middle;\n",
       "    }\n",
       "\n",
       "    .dataframe tbody tr th {\n",
       "        vertical-align: top;\n",
       "    }\n",
       "\n",
       "    .dataframe thead th {\n",
       "        text-align: right;\n",
       "    }\n",
       "</style>\n",
       "<table border=\"1\" class=\"dataframe\">\n",
       "  <thead>\n",
       "    <tr style=\"text-align: right;\">\n",
       "      <th></th>\n",
       "      <th>basket_id</th>\n",
       "      <th>fruit</th>\n",
       "      <th>count</th>\n",
       "      <th>weight</th>\n",
       "    </tr>\n",
       "  </thead>\n",
       "  <tbody>\n",
       "    <tr>\n",
       "      <th>0</th>\n",
       "      <td>0</td>\n",
       "      <td>apple</td>\n",
       "      <td>11</td>\n",
       "      <td>1.564438</td>\n",
       "    </tr>\n",
       "    <tr>\n",
       "      <th>1</th>\n",
       "      <td>1</td>\n",
       "      <td>orange</td>\n",
       "      <td>5</td>\n",
       "      <td>1.331256</td>\n",
       "    </tr>\n",
       "    <tr>\n",
       "      <th>2</th>\n",
       "      <td>2</td>\n",
       "      <td>apple</td>\n",
       "      <td>12</td>\n",
       "      <td>2.393235</td>\n",
       "    </tr>\n",
       "    <tr>\n",
       "      <th>3</th>\n",
       "      <td>3</td>\n",
       "      <td>apple</td>\n",
       "      <td>6</td>\n",
       "      <td>0.746937</td>\n",
       "    </tr>\n",
       "    <tr>\n",
       "      <th>4</th>\n",
       "      <td>4</td>\n",
       "      <td>apple</td>\n",
       "      <td>5</td>\n",
       "      <td>2.691024</td>\n",
       "    </tr>\n",
       "    <tr>\n",
       "      <th>5</th>\n",
       "      <td>5</td>\n",
       "      <td>orange</td>\n",
       "      <td>12</td>\n",
       "      <td>3.767211</td>\n",
       "    </tr>\n",
       "    <tr>\n",
       "      <th>6</th>\n",
       "      <td>6</td>\n",
       "      <td>apple</td>\n",
       "      <td>10</td>\n",
       "      <td>0.992983</td>\n",
       "    </tr>\n",
       "    <tr>\n",
       "      <th>7</th>\n",
       "      <td>7</td>\n",
       "      <td>apple</td>\n",
       "      <td>11</td>\n",
       "      <td>3.795525</td>\n",
       "    </tr>\n",
       "  </tbody>\n",
       "</table>\n",
       "</div>"
      ],
      "text/plain": [
       "   basket_id   fruit  count    weight\n",
       "0          0   apple     11  1.564438\n",
       "1          1  orange      5  1.331256\n",
       "2          2   apple     12  2.393235\n",
       "3          3   apple      6  0.746937\n",
       "4          4   apple      5  2.691024\n",
       "5          5  orange     12  3.767211\n",
       "6          6   apple     10  0.992983\n",
       "7          7   apple     11  3.795525"
      ]
     },
     "execution_count": 5,
     "metadata": {},
     "output_type": "execute_result"
    }
   ],
   "source": [
    "fruits = ['apple', 'orange', 'apple', 'apple'] * 2\n",
    "N = len(fruits)\n",
    "\n",
    "rng = np.random.default_rng(seed=12345)\n",
    "\n",
    "df = pd.DataFrame({'fruit': fruits,\n",
    "                     'basket_id': np.arange(N),\n",
    "                     'count': rng.integers(3, 15, size=N),\n",
    "                     'weight': rng.uniform(0, 4, size=N)},\n",
    "                    columns=['basket_id', 'fruit', 'count', 'weight'])\n",
    "df "
   ]
  },
  {
   "cell_type": "code",
   "execution_count": 6,
   "metadata": {},
   "outputs": [
    {
     "data": {
      "text/plain": [
       "0     apple\n",
       "1    orange\n",
       "2     apple\n",
       "3     apple\n",
       "4     apple\n",
       "5    orange\n",
       "6     apple\n",
       "7     apple\n",
       "Name: fruit, dtype: category\n",
       "Categories (2, object): ['apple', 'orange']"
      ]
     },
     "execution_count": 6,
     "metadata": {},
     "output_type": "execute_result"
    }
   ],
   "source": [
    "# here df['fruit'] is an array of python strings objects. we can convert it to categorical by calling\n",
    "fruit_cat = df['fruit'].astype('category')\n",
    "fruit_cat # series object"
   ]
  },
  {
   "cell_type": "code",
   "execution_count": 7,
   "metadata": {},
   "outputs": [
    {
     "data": {
      "text/plain": [
       "pandas.core.arrays.categorical.Categorical"
      ]
     },
     "execution_count": 7,
     "metadata": {},
     "output_type": "execute_result"
    }
   ],
   "source": [
    "# the values for fruit_cat are now an instance of pandas.Categorical, which you can access via the .array attribute\n",
    "\n",
    "c = fruit_cat.array\n",
    "type(c)\n",
    "\n",
    "# s.array returns the actual data container behind the series"
   ]
  },
  {
   "cell_type": "code",
   "execution_count": 8,
   "metadata": {},
   "outputs": [
    {
     "name": "stdout",
     "output_type": "stream",
     "text": [
      "Index(['apple', 'orange'], dtype='object')\n",
      "[0 1 0 0 0 1 0 0]\n"
     ]
    }
   ],
   "source": [
    "# the categorical object has categories and codes attributes\n",
    "print(c.categories)\n",
    "print(c.codes)\n",
    "# fruit_cat.categories: series object has no object categories\n",
    "\n",
    "# these can be accessed more easily using the cat accessor"
   ]
  },
  {
   "cell_type": "code",
   "execution_count": 9,
   "metadata": {},
   "outputs": [
    {
     "data": {
      "text/plain": [
       "{0: 'apple', 1: 'orange'}"
      ]
     },
     "execution_count": 9,
     "metadata": {},
     "output_type": "execute_result"
    }
   ],
   "source": [
    "# trick to get a mapping between codes and categories is \n",
    "dict(enumerate(c.categories))\n",
    "\n",
    "# what integer code corresponds to which category label"
   ]
  },
  {
   "cell_type": "code",
   "execution_count": 10,
   "metadata": {},
   "outputs": [
    {
     "data": {
      "text/plain": [
       "0     apple\n",
       "1    orange\n",
       "2     apple\n",
       "3     apple\n",
       "4     apple\n",
       "5    orange\n",
       "6     apple\n",
       "7     apple\n",
       "Name: fruit, dtype: category\n",
       "Categories (2, object): ['apple', 'orange']"
      ]
     },
     "execution_count": 10,
     "metadata": {},
     "output_type": "execute_result"
    }
   ],
   "source": [
    "# we can convert a DataFrame column to categorical \n",
    "df['fruit'] = df['fruit'].astype('category')\n",
    "df['fruit']"
   ]
  },
  {
   "cell_type": "code",
   "execution_count": 11,
   "metadata": {},
   "outputs": [
    {
     "data": {
      "text/plain": [
       "['foo', 'bar', 'baz', 'foo', 'bar']\n",
       "Categories (3, object): ['bar', 'baz', 'foo']"
      ]
     },
     "execution_count": 11,
     "metadata": {},
     "output_type": "execute_result"
    }
   ],
   "source": [
    "# we can also create pandas.Categorical directly from other types of Python sequences\n",
    "my_categories = pd.Categorical(['foo', 'bar', 'baz', 'foo', 'bar'])\n",
    "my_categories"
   ]
  },
  {
   "cell_type": "code",
   "execution_count": 12,
   "metadata": {},
   "outputs": [
    {
     "name": "stdout",
     "output_type": "stream",
     "text": [
      "['foo', 'baz', 'bar', 'baz', 'baz', 'bar', 'foo', 'foo', 'bar', 'baz']\n",
      "Categories (3, object): ['foo', 'bar', 'baz']\n",
      "['foo', 'baz', 'bar', 'baz', 'baz', 'bar', 'foo', 'foo', 'bar', 'baz']\n",
      "Categories (3, object): ['foo' < 'bar' < 'baz']\n"
     ]
    }
   ],
   "source": [
    "# if you have obtained categorical encoded data from another source, you can use the alternative from_codes constructor\n",
    "\n",
    "categories = ['foo', 'bar', 'baz']\n",
    "codes = [0,2,1,2,2,1,0,0,1,2]\n",
    "\n",
    "res = pd.Categorical.from_codes(codes, categories) \n",
    "print(res)\n",
    "\n",
    "# unless explicitly specified, categorical conversions assume no specific ordering of the categories. \n",
    "# so the categories array may be in a different order depending on the ordering of the input data \n",
    "# when using from_codes or any of the other constructors, you can indicate that the categorie have a meaninggul odering\n",
    "\n",
    "ordered_cat = pd.Categorical.from_codes(codes, categories, ordered=True)\n",
    "print(ordered_cat)\n",
    "\n",
    "# no difference in print output, but underlying metadata knows it's ordered\n",
    "\n",
    "# when to use ordered: \n",
    "    # the categories have a natural ranking \n",
    "    # you need to compare values or sort them in a meaningful order"
   ]
  },
  {
   "cell_type": "markdown",
   "metadata": {},
   "source": [
    "categorical data need not be strings, a categorical array can consist of any immutable value types"
   ]
  },
  {
   "cell_type": "markdown",
   "metadata": {},
   "source": [
    "## [ Computations with Categories ]"
   ]
  },
  {
   "cell_type": "markdown",
   "metadata": {},
   "source": [
    "- pandas has a special data type called `Categorial`, which stores data more efficiently and can speed up certain operations (like `groupby`)\n",
    "- when you use functions like `qcut()`, pandas automatically returns a `Categorical` type behind the scenes\n",
    "- you can use categoricals just like strings or numbers, but under the hood, it uses integer codes for better performance."
   ]
  },
  {
   "cell_type": "code",
   "execution_count": 17,
   "metadata": {},
   "outputs": [
    {
     "name": "stdout",
     "output_type": "stream",
     "text": [
      "[(-3.121, -0.675], (0.687, 3.211], (-3.121, -0.675], (-0.675, 0.0134], (-0.675, 0.0134], ..., (0.0134, 0.687], (0.0134, 0.687], (-0.675, 0.0134], (0.0134, 0.687], (-0.675, 0.0134]]\n",
      "Length: 1000\n",
      "Categories (4, interval[float64, right]): [(-3.121, -0.675] < (-0.675, 0.0134] < (0.0134, 0.687] < (0.687, 3.211]]\n"
     ]
    },
    {
     "data": {
      "text/plain": [
       "(-3.121, -0.675]    250\n",
       "(-0.675, 0.0134]    250\n",
       "(0.0134, 0.687]     250\n",
       "(0.687, 3.211]      250\n",
       "Name: count, dtype: int64"
      ]
     },
     "execution_count": 17,
     "metadata": {},
     "output_type": "execute_result"
    }
   ],
   "source": [
    "rng = np.random.default_rng(seed=12345)\n",
    "draws = rng.standard_normal(1000)\n",
    "# print(draws)\n",
    "\n",
    "# lets compute a quartile binning of this data and extract some statistics\n",
    "bins = pd.qcut(draws, 4)\n",
    "print(bins)\n",
    "bins.value_counts()"
   ]
  },
  {
   "cell_type": "code",
   "execution_count": 19,
   "metadata": {},
   "outputs": [
    {
     "name": "stdout",
     "output_type": "stream",
     "text": [
      "['Q1', 'Q4', 'Q1', 'Q2', 'Q2', ..., 'Q3', 'Q3', 'Q2', 'Q3', 'Q2']\n",
      "Length: 1000\n",
      "Categories (4, object): ['Q1' < 'Q2' < 'Q3' < 'Q4']\n"
     ]
    },
    {
     "data": {
      "text/plain": [
       "array([0, 3, 0, 1, 1, 0, 0, 2, 2, 0, 3, 3, 0, 3, 1, 1, 3, 0, 2, 3, 3, 1,\n",
       "       3, 0, 1, 2, 0, 1, 3, 3, 3, 3, 0, 0, 0, 2, 3, 1, 0, 2, 2, 1, 3, 1,\n",
       "       1, 0, 2, 3, 2, 2, 2, 2, 2, 2, 2, 0, 2, 0, 2, 0, 1, 2, 1, 2, 0, 0,\n",
       "       3, 0, 2, 0, 0, 0, 1, 2, 0, 1, 3, 1, 0, 2, 1, 0, 0, 3, 1, 1, 0, 3,\n",
       "       3, 3, 1, 2, 3, 3, 2, 1, 1, 0, 0, 2, 1, 0, 1, 3, 1, 0, 1, 3, 2, 1,\n",
       "       3, 3, 1, 3, 2, 3, 3, 3, 2, 1, 0, 1, 3, 2, 2, 2, 2, 2, 0, 0, 1, 0,\n",
       "       3, 1, 1, 0, 2, 1, 3, 3, 0, 2, 0, 1, 3, 3, 2, 1, 0, 0, 2, 3, 0, 2,\n",
       "       2, 3, 0, 1, 2, 0, 0, 0, 1, 2, 1, 2, 0, 0, 3, 1, 1, 3, 3, 3, 2, 1,\n",
       "       2, 2, 3, 2, 2, 1, 3, 0, 2, 3, 0, 3, 1, 1, 0, 3, 2, 1, 2, 2, 3, 2,\n",
       "       0, 1, 0, 0, 3, 2, 1, 1, 3, 2, 3, 2, 1, 3, 0, 0, 1, 0, 1, 1, 3, 2,\n",
       "       2, 0, 0, 3, 0, 3, 0, 2, 0, 2, 0, 1, 3, 1, 3, 1, 0, 2, 1, 3, 3, 3,\n",
       "       2, 3, 3, 2, 0, 0, 2, 3, 3, 0, 2, 2, 0, 2, 0, 2, 3, 0, 2, 0, 0, 3,\n",
       "       0, 1, 1, 1, 2, 2, 3, 3, 1, 3, 3, 0, 2, 3, 3, 2, 0, 1, 0, 1, 3, 2,\n",
       "       3, 1, 0, 0, 2, 0, 1, 3, 0, 0, 1, 1, 1, 0, 2, 1, 2, 0, 2, 2, 1, 1,\n",
       "       1, 3, 0, 0, 0, 1, 0, 1, 3, 0, 0, 1, 0, 2, 2, 0, 0, 3, 2, 2, 2, 1,\n",
       "       3, 1, 1, 3, 2, 0, 0, 3, 2, 3, 1, 0, 2, 3, 2, 2, 3, 0, 0, 0, 1, 2,\n",
       "       3, 2, 3, 0, 3, 0, 3, 0, 2, 2, 2, 3, 1, 1, 2, 0, 0, 0, 1, 3, 3, 0,\n",
       "       0, 3, 1, 0, 0, 0, 0, 2, 2, 0, 1, 0, 0, 0, 3, 1, 2, 3, 1, 2, 2, 2,\n",
       "       3, 2, 1, 2, 3, 3, 1, 0, 0, 1, 2, 3, 0, 1, 0, 2, 3, 0, 1, 0, 2, 0,\n",
       "       0, 0, 3, 3, 2, 0, 2, 0, 2, 0, 1, 1, 2, 1, 3, 2, 0, 3, 1, 1, 3, 0,\n",
       "       2, 0, 3, 1, 2, 0, 3, 0, 3, 3, 3, 3, 0, 2, 2, 2, 3, 2, 0, 1, 3, 0,\n",
       "       2, 0, 3, 0, 1, 1, 2, 3, 3, 0, 3, 0, 0, 0, 2, 2, 0, 2, 1, 3, 1, 3,\n",
       "       2, 0, 3, 2, 3, 3, 0, 1, 0, 0, 2, 2, 3, 3, 1, 0, 3, 3, 1, 0, 1, 2,\n",
       "       3, 3, 2, 1, 2, 1, 2, 1, 2, 0, 1, 1, 0, 1, 0, 1, 1, 1, 1, 3, 2, 2,\n",
       "       2, 1, 0, 3, 1, 0, 0, 2, 0, 1, 1, 1, 1, 0, 1, 3, 3, 0, 0, 0, 1, 3,\n",
       "       2, 0, 2, 3, 1, 3, 1, 3, 3, 0, 1, 2, 3, 0, 2, 2, 1, 0, 1, 1, 0, 3,\n",
       "       0, 1, 1, 1, 2, 0, 1, 3, 3, 1, 3, 0, 2, 0, 0, 0, 3, 2, 2, 2, 2, 2,\n",
       "       3, 2, 0, 0, 3, 3, 2, 0, 3, 2, 1, 2, 1, 3, 3, 0, 1, 2, 3, 0, 3, 3,\n",
       "       1, 1, 3, 2, 0, 0, 0, 0, 1, 1, 2, 3, 3, 2, 0, 3, 1, 3, 1, 2, 1, 1,\n",
       "       3, 1, 2, 2, 1, 0, 2, 0, 0, 1, 2, 3, 3, 2, 1, 3, 1, 3, 0, 0, 1, 1,\n",
       "       0, 3, 3, 3, 1, 3, 1, 3, 1, 1, 1, 1, 3, 3, 3, 3, 2, 2, 3, 1, 1, 2,\n",
       "       0, 1, 1, 0, 1, 2, 1, 2, 3, 1, 0, 1, 2, 0, 2, 1, 1, 0, 1, 3, 2, 3,\n",
       "       1, 3, 3, 1, 0, 2, 3, 1, 0, 3, 1, 2, 3, 0, 2, 3, 1, 2, 1, 3, 3, 0,\n",
       "       1, 2, 1, 0, 1, 1, 1, 2, 3, 3, 2, 3, 0, 1, 2, 2, 0, 3, 0, 2, 3, 3,\n",
       "       0, 1, 2, 2, 3, 1, 0, 0, 3, 0, 3, 2, 3, 3, 3, 1, 2, 0, 2, 0, 1, 3,\n",
       "       2, 3, 1, 2, 1, 0, 0, 1, 2, 1, 1, 3, 2, 1, 3, 0, 1, 1, 3, 1, 0, 2,\n",
       "       3, 1, 1, 1, 2, 3, 3, 2, 1, 3, 2, 2, 1, 1, 2, 1, 2, 2, 2, 1, 1, 2,\n",
       "       2, 2, 3, 0, 0, 3, 1, 3, 1, 0, 3, 2, 1, 0, 2, 1, 2, 3, 0, 1, 2, 3,\n",
       "       3, 1, 3, 1, 1, 2, 0, 3, 3, 2, 1, 0, 2, 3, 1, 1, 2, 1, 0, 2, 2, 3,\n",
       "       0, 0, 0, 2, 3, 3, 2, 0, 1, 2, 2, 2, 3, 0, 0, 0, 0, 3, 1, 0, 2, 3,\n",
       "       2, 2, 3, 2, 0, 2, 3, 2, 3, 2, 1, 1, 2, 1, 3, 3, 0, 1, 0, 1, 2, 1,\n",
       "       2, 2, 2, 0, 1, 3, 0, 3, 1, 3, 0, 1, 3, 2, 3, 0, 1, 1, 2, 2, 1, 1,\n",
       "       1, 2, 0, 1, 1, 1, 1, 3, 1, 2, 3, 3, 2, 3, 0, 0, 1, 1, 1, 3, 3, 1,\n",
       "       2, 0, 2, 0, 3, 1, 2, 0, 3, 2, 3, 2, 0, 0, 0, 3, 1, 0, 2, 2, 2, 1,\n",
       "       0, 0, 0, 3, 3, 1, 2, 2, 2, 2, 3, 2, 0, 0, 3, 2, 0, 2, 0, 1, 0, 3,\n",
       "       1, 3, 3, 3, 3, 2, 2, 1, 2, 1], dtype=int8)"
      ]
     },
     "execution_count": 19,
     "metadata": {},
     "output_type": "execute_result"
    }
   ],
   "source": [
    "# while useful the exact sample quartiles may be less useful for producing a report than quartile names. \n",
    "# We can achieve this with the labels argument to qcut\n",
    "\n",
    "bins = pd.qcut(draws, 4, labels=['Q1', 'Q2', 'Q3', 'Q4'])\n",
    "print(bins)\n",
    "bins.codes"
   ]
  },
  {
   "cell_type": "code",
   "execution_count": 20,
   "metadata": {},
   "outputs": [
    {
     "name": "stderr",
     "output_type": "stream",
     "text": [
      "/tmp/ipykernel_1924/1048492357.py:4: FutureWarning: The default of observed=False is deprecated and will be changed to True in a future version of pandas. Pass observed=False to retain current behavior or observed=True to adopt the future default and silence this warning.\n",
      "  .groupby(bins)\n"
     ]
    },
    {
     "data": {
      "text/html": [
       "<div>\n",
       "<style scoped>\n",
       "    .dataframe tbody tr th:only-of-type {\n",
       "        vertical-align: middle;\n",
       "    }\n",
       "\n",
       "    .dataframe tbody tr th {\n",
       "        vertical-align: top;\n",
       "    }\n",
       "\n",
       "    .dataframe thead th {\n",
       "        text-align: right;\n",
       "    }\n",
       "</style>\n",
       "<table border=\"1\" class=\"dataframe\">\n",
       "  <thead>\n",
       "    <tr style=\"text-align: right;\">\n",
       "      <th></th>\n",
       "      <th>quartile</th>\n",
       "      <th>count</th>\n",
       "      <th>min</th>\n",
       "      <th>max</th>\n",
       "    </tr>\n",
       "  </thead>\n",
       "  <tbody>\n",
       "    <tr>\n",
       "      <th>0</th>\n",
       "      <td>Q1</td>\n",
       "      <td>250</td>\n",
       "      <td>-3.119609</td>\n",
       "      <td>-0.678494</td>\n",
       "    </tr>\n",
       "    <tr>\n",
       "      <th>1</th>\n",
       "      <td>Q2</td>\n",
       "      <td>250</td>\n",
       "      <td>-0.673305</td>\n",
       "      <td>0.008009</td>\n",
       "    </tr>\n",
       "    <tr>\n",
       "      <th>2</th>\n",
       "      <td>Q3</td>\n",
       "      <td>250</td>\n",
       "      <td>0.018753</td>\n",
       "      <td>0.686183</td>\n",
       "    </tr>\n",
       "    <tr>\n",
       "      <th>3</th>\n",
       "      <td>Q4</td>\n",
       "      <td>250</td>\n",
       "      <td>0.688282</td>\n",
       "      <td>3.211418</td>\n",
       "    </tr>\n",
       "  </tbody>\n",
       "</table>\n",
       "</div>"
      ],
      "text/plain": [
       "  quartile  count       min       max\n",
       "0       Q1    250 -3.119609 -0.678494\n",
       "1       Q2    250 -0.673305  0.008009\n",
       "2       Q3    250  0.018753  0.686183\n",
       "3       Q4    250  0.688282  3.211418"
      ]
     },
     "execution_count": 20,
     "metadata": {},
     "output_type": "execute_result"
    }
   ],
   "source": [
    "# the labeled bins categorical does not contain information about the bin edges in the data, so we can use groupby to extract some summary statistics\n",
    "bins = pd.Series(bins, name='quartile')\n",
    "results = (pd.Series(draws)\n",
    "        .groupby(bins)\n",
    "        .agg(['count', 'min', 'max'])\n",
    "        .reset_index())\n",
    "\n",
    "results"
   ]
  },
  {
   "cell_type": "code",
   "execution_count": 21,
   "metadata": {},
   "outputs": [
    {
     "data": {
      "text/plain": [
       "0    Q1\n",
       "1    Q2\n",
       "2    Q3\n",
       "3    Q4\n",
       "Name: quartile, dtype: category\n",
       "Categories (4, object): ['Q1' < 'Q2' < 'Q3' < 'Q4']"
      ]
     },
     "execution_count": 21,
     "metadata": {},
     "output_type": "execute_result"
    }
   ],
   "source": [
    "# the quartile column in the result retains the original categorical information, including ordering, from bins\n",
    "results['quartile']"
   ]
  },
  {
   "cell_type": "markdown",
   "metadata": {},
   "source": [
    "### [ Better Performance with Categoricals ]"
   ]
  },
  {
   "cell_type": "code",
   "execution_count": 25,
   "metadata": {},
   "outputs": [
    {
     "name": "stdout",
     "output_type": "stream",
     "text": [
      "520000132\n",
      "10000512\n",
      "CPU times: user 723 ms, sys: 29.6 ms, total: 753 ms\n",
      "Wall time: 758 ms\n"
     ]
    }
   ],
   "source": [
    "# consider some Series with 10Million elements and a small number of distinct categories:\n",
    "\n",
    "N = 10_000_000\n",
    "labels = pd.Series(['foo', 'bar', 'baz', 'qux'] * (N // 4))\n",
    "\n",
    "# convert labels to categorical\n",
    "categories = labels.astype('category')\n",
    "\n",
    "# Note that labels uses significatly more memory than categories\n",
    "print(labels.memory_usage(deep=True))\n",
    "print(categories.memory_usage(deep=True))\n",
    "\n",
    "# the conversion to category is not free, of course, but it is a one-time cost\n",
    "%time _ = labels.astype('category')"
   ]
  },
  {
   "cell_type": "code",
   "execution_count": 28,
   "metadata": {},
   "outputs": [
    {
     "name": "stdout",
     "output_type": "stream",
     "text": [
      "707 ms ± 12.5 ms per loop (mean ± std. dev. of 7 runs, 1 loop each)\n",
      "46.8 ms ± 368 μs per loop (mean ± std. dev. of 7 runs, 10 loops each)\n"
     ]
    }
   ],
   "source": [
    "# using categorical data in pandas (which is internally stored as integers referencing categories) can speed up operations like groupby() or value_counts() compared to working with raw strings or other object types.\n",
    "\n",
    "# why is it faster?\n",
    "    # strings take more memory and more time to compare \n",
    "    # categoricals store strings as integer codes and a category list\n",
    "    # operations like `groupby` or `value_counts` can work on integer arrays instead of strings -- and integers are super fast to compare and sort\n",
    "\n",
    "labels_time = %timeit labels.value_counts()\n",
    "category_time = %timeit categories.value_counts()\n",
    "\n",
    "labels_time\n",
    "category_time"
   ]
  },
  {
   "cell_type": "markdown",
   "metadata": {},
   "source": [
    "## [ Categorical Methods ]\n",
    "- series containing categorical data have several special methods similar to the Series.str specialized string methods.\n",
    "- this also provides convenient access to the categories and codes"
   ]
  },
  {
   "cell_type": "code",
   "execution_count": 29,
   "metadata": {},
   "outputs": [
    {
     "data": {
      "text/plain": [
       "0    a\n",
       "1    b\n",
       "2    c\n",
       "3    d\n",
       "4    a\n",
       "5    b\n",
       "6    c\n",
       "7    d\n",
       "dtype: category\n",
       "Categories (4, object): ['a', 'b', 'c', 'd']"
      ]
     },
     "execution_count": 29,
     "metadata": {},
     "output_type": "execute_result"
    }
   ],
   "source": [
    "s = pd.Series(['a', 'b', 'c', 'd'] * 2)\n",
    "cat_s = s.astype('category')\n",
    "\n",
    "cat_s"
   ]
  },
  {
   "cell_type": "code",
   "execution_count": 31,
   "metadata": {},
   "outputs": [
    {
     "data": {
      "text/plain": [
       "0    0\n",
       "1    1\n",
       "2    2\n",
       "3    3\n",
       "4    0\n",
       "5    1\n",
       "6    2\n",
       "7    3\n",
       "dtype: int8"
      ]
     },
     "execution_count": 31,
     "metadata": {},
     "output_type": "execute_result"
    }
   ],
   "source": [
    "# the special accessor attribute cat provides access to categorical methods\n",
    "cat_s.cat.codes"
   ]
  },
  {
   "cell_type": "code",
   "execution_count": 32,
   "metadata": {},
   "outputs": [
    {
     "data": {
      "text/plain": [
       "Index(['a', 'b', 'c', 'd'], dtype='object')"
      ]
     },
     "execution_count": 32,
     "metadata": {},
     "output_type": "execute_result"
    }
   ],
   "source": [
    "cat_s.cat.categories"
   ]
  },
  {
   "cell_type": "code",
   "execution_count": 34,
   "metadata": {},
   "outputs": [
    {
     "data": {
      "text/plain": [
       "0    a\n",
       "1    b\n",
       "2    c\n",
       "3    d\n",
       "4    a\n",
       "5    b\n",
       "6    c\n",
       "7    d\n",
       "dtype: category\n",
       "Categories (5, object): ['a', 'b', 'c', 'd', 'e']"
      ]
     },
     "execution_count": 34,
     "metadata": {},
     "output_type": "execute_result"
    }
   ],
   "source": [
    "# suppose that we know the actual set of categories for this data extends beyond the four values observed in the data\n",
    "# we can use the set_categories method to change them\n",
    "\n",
    "actual_categories = ['a', 'b', 'c', 'd', 'e']\n",
    "cat_s2 = cat_s.cat.set_categories(actual_categories)\n",
    "cat_s2"
   ]
  },
  {
   "cell_type": "code",
   "execution_count": 35,
   "metadata": {},
   "outputs": [
    {
     "name": "stdout",
     "output_type": "stream",
     "text": [
      "a    2\n",
      "b    2\n",
      "c    2\n",
      "d    2\n",
      "Name: count, dtype: int64\n",
      "a    2\n",
      "b    2\n",
      "c    2\n",
      "d    2\n",
      "e    0\n",
      "Name: count, dtype: int64\n"
     ]
    }
   ],
   "source": [
    "# while it appears that the data is unchanged, the new categories will be reflected in operations that use them.\n",
    "# example \n",
    "\n",
    "print(cat_s.value_counts())\n",
    "print(cat_s2.value_counts())"
   ]
  },
  {
   "cell_type": "code",
   "execution_count": 38,
   "metadata": {},
   "outputs": [
    {
     "name": "stdout",
     "output_type": "stream",
     "text": [
      "0    a\n",
      "1    b\n",
      "4    a\n",
      "5    b\n",
      "dtype: category\n",
      "Categories (4, object): ['a', 'b', 'c', 'd']\n"
     ]
    },
    {
     "data": {
      "text/plain": [
       "0    a\n",
       "1    b\n",
       "4    a\n",
       "5    b\n",
       "dtype: category\n",
       "Categories (2, object): ['a', 'b']"
      ]
     },
     "execution_count": 38,
     "metadata": {},
     "output_type": "execute_result"
    }
   ],
   "source": [
    "# in large datasets, categoricals are often used as a convenient tool for memory savings and better performance. \n",
    "# After you filter a large DataFrame or Series, many of the categories may not appear in the data.\n",
    "# we can use the remove_unused_categories method to trim unobserved categories\n",
    "\n",
    "cat_s3 = cat_s[cat_s.isin(['a', 'b'])]\n",
    "print(cat_s3)\n",
    "\n",
    "cat_s3.cat.remove_unused_categories()"
   ]
  },
  {
   "cell_type": "markdown",
   "metadata": {},
   "source": [
    "\n",
    "| Method / Attribute      | Description |\n",
    "|--------------------------|-------------|\n",
    "| `Series.cat.categories` | Returns the categories (unique values). |\n",
    "| `Series.cat.codes`      | Returns the integer codes for each value in the Series. |\n",
    "| `Series.cat.ordered`    | Returns `True` if the categorical has an ordered nature. |\n",
    "| `Series.cat.set_categories(new_categories)` | Changes the categories to a new list. |\n",
    "| `Series.cat.add_categories(new_categories)` | Adds new categories without removing existing ones. |\n",
    "| `Series.cat.remove_categories(removal)` | Removes specific categories. |\n",
    "| `Series.cat.remove_unused_categories()` | Removes categories not actually used in the data. |\n",
    "| `Series.cat.rename_categories(new_names)` | Renames existing categories. |\n",
    "| `Series.cat.reorder_categories(new_order)` | Changes order of categories. |\n",
    "| `Series.cat.as_ordered()` | Sets the ordered flag to `True`. |\n",
    "| `Series.cat.as_unordered()` | Sets the ordered flag to `False`. |\n"
   ]
  },
  {
   "cell_type": "markdown",
   "metadata": {},
   "source": [
    "## [ Creating dummy variables for modeling ]"
   ]
  },
  {
   "cell_type": "code",
   "execution_count": 41,
   "metadata": {},
   "outputs": [
    {
     "data": {
      "text/html": [
       "<div>\n",
       "<style scoped>\n",
       "    .dataframe tbody tr th:only-of-type {\n",
       "        vertical-align: middle;\n",
       "    }\n",
       "\n",
       "    .dataframe tbody tr th {\n",
       "        vertical-align: top;\n",
       "    }\n",
       "\n",
       "    .dataframe thead th {\n",
       "        text-align: right;\n",
       "    }\n",
       "</style>\n",
       "<table border=\"1\" class=\"dataframe\">\n",
       "  <thead>\n",
       "    <tr style=\"text-align: right;\">\n",
       "      <th></th>\n",
       "      <th>a</th>\n",
       "      <th>b</th>\n",
       "      <th>c</th>\n",
       "      <th>d</th>\n",
       "    </tr>\n",
       "  </thead>\n",
       "  <tbody>\n",
       "    <tr>\n",
       "      <th>0</th>\n",
       "      <td>1</td>\n",
       "      <td>0</td>\n",
       "      <td>0</td>\n",
       "      <td>0</td>\n",
       "    </tr>\n",
       "    <tr>\n",
       "      <th>1</th>\n",
       "      <td>0</td>\n",
       "      <td>1</td>\n",
       "      <td>0</td>\n",
       "      <td>0</td>\n",
       "    </tr>\n",
       "    <tr>\n",
       "      <th>2</th>\n",
       "      <td>0</td>\n",
       "      <td>0</td>\n",
       "      <td>1</td>\n",
       "      <td>0</td>\n",
       "    </tr>\n",
       "    <tr>\n",
       "      <th>3</th>\n",
       "      <td>0</td>\n",
       "      <td>0</td>\n",
       "      <td>0</td>\n",
       "      <td>1</td>\n",
       "    </tr>\n",
       "    <tr>\n",
       "      <th>4</th>\n",
       "      <td>1</td>\n",
       "      <td>0</td>\n",
       "      <td>0</td>\n",
       "      <td>0</td>\n",
       "    </tr>\n",
       "    <tr>\n",
       "      <th>5</th>\n",
       "      <td>0</td>\n",
       "      <td>1</td>\n",
       "      <td>0</td>\n",
       "      <td>0</td>\n",
       "    </tr>\n",
       "    <tr>\n",
       "      <th>6</th>\n",
       "      <td>0</td>\n",
       "      <td>0</td>\n",
       "      <td>1</td>\n",
       "      <td>0</td>\n",
       "    </tr>\n",
       "    <tr>\n",
       "      <th>7</th>\n",
       "      <td>0</td>\n",
       "      <td>0</td>\n",
       "      <td>0</td>\n",
       "      <td>1</td>\n",
       "    </tr>\n",
       "  </tbody>\n",
       "</table>\n",
       "</div>"
      ],
      "text/plain": [
       "   a  b  c  d\n",
       "0  1  0  0  0\n",
       "1  0  1  0  0\n",
       "2  0  0  1  0\n",
       "3  0  0  0  1\n",
       "4  1  0  0  0\n",
       "5  0  1  0  0\n",
       "6  0  0  1  0\n",
       "7  0  0  0  1"
      ]
     },
     "execution_count": 41,
     "metadata": {},
     "output_type": "execute_result"
    }
   ],
   "source": [
    "# When you’re using statistics or machine learning tools, you’ll often transform categorical data into dummy variables, also known as one-hot encoding\n",
    "# This involves creating a DataFrame with a column for each distinct category; these columns contain 1s for occurrences of a given category and 0 otherwise.\n",
    "\n",
    "cat_s = pd.Series(['a', 'b', 'c', 'd'] * 2, dtype='category')\n",
    "\n",
    "# the pandas.get_dummies function converts this one-dimensional categorical data into a DataFrame containing the dummy variable\n",
    "\n",
    "pd.get_dummies(cat_s, dtype=int)"
   ]
  },
  {
   "cell_type": "markdown",
   "metadata": {},
   "source": [
    "NOTE:    \n",
    "- Effective data preparation can significantly improve productivity by enabling you to spend more time analyzing data and less time getting it ready for analysis.\n",
    "- We have to explore a number of tools for that."
   ]
  }
 ],
 "metadata": {
  "kernelspec": {
   "display_name": "env1",
   "language": "python",
   "name": "python3"
  },
  "language_info": {
   "codemirror_mode": {
    "name": "ipython",
    "version": 3
   },
   "file_extension": ".py",
   "mimetype": "text/x-python",
   "name": "python",
   "nbconvert_exporter": "python",
   "pygments_lexer": "ipython3",
   "version": "3.13.2"
  }
 },
 "nbformat": 4,
 "nbformat_minor": 2
}
