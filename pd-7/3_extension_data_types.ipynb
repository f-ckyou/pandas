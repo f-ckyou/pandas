{
 "cells": [
  {
   "cell_type": "code",
   "execution_count": 1,
   "metadata": {},
   "outputs": [],
   "source": [
    "import numpy as np \n",
    "import pandas as pd "
   ]
  },
  {
   "cell_type": "markdown",
   "metadata": {},
   "source": [
    "In **Pandas**, **extension data types** (or **ExtensionDtypes**) are a special class of data types that extend beyond the traditional NumPy data types (like `int64`, `float64`, `object`, etc.). These are designed to give Pandas more flexibility and allow it to support:\n",
    "\n",
    "- Nullable types (e.g., integer columns with `NaN`)\n",
    "- Better memory usage\n",
    "- Custom behaviors for special data types\n",
    "\n",
    "\n",
    "**Pandas Extension Data Types**:\n",
    "\n",
    "| **ExtensionDtype** | **Description**                  | **Nullable** | **Example dtype string** |\n",
    "|--------------------|----------------------------------|--------------|---------------------------|\n",
    "| `Int8` / `Int16` / `Int32` / `Int64`   | Signed integers             | ✅ Yes      | `\"Int64\"`                |\n",
    "| `UInt8` / `UInt16` / `UInt32` / `UInt64` | Unsigned integers         | ✅ Yes      | `\"UInt32\"`               |\n",
    "| `float32` / `float64` (nullable)      | Floating-point numbers       | ✅ Yes      | `\"Float64\"`              |\n",
    "| `boolean`              | Boolean values                  | ✅ Yes      | `\"boolean\"`              |\n",
    "| `string`               | Text strings (not object)       | ✅ Yes      | `\"string\"`               |\n",
    "| `category`             | Categorical values              | ✅ Yes      | `\"category\"`             |\n",
    "| `Datetime64[ns]` / `Datetime64[ns, tz]` | Timestamps (w/ optional timezone) | ✅ Yes | `\"datetime64[ns, UTC]\"` |\n",
    "| `Period[D]`, `Period[M]`, etc. | Time periods                | ✅ Yes      | `\"period[M]\"`            |\n",
    "| `Sparse`               | Sparse data                     | ✅ Yes      | `pd.SparseDtype(\"int\")`  |\n",
    "| `Interval`             | Interval data (e.g., bins)      | ✅ Yes      | `\"interval[int64]\"`      |\n",
    "\n",
    "\n",
    "\n",
    "###  Advantages\n",
    "\n",
    "- Better handling of missing data\n",
    "- Cleaner types for strings and booleans\n",
    "- Support for custom extension arrays (you can even create your own types)\n"
   ]
  },
  {
   "cell_type": "code",
   "execution_count": 2,
   "metadata": {},
   "outputs": [
    {
     "data": {
      "text/plain": [
       "0    1.0\n",
       "1    2.0\n",
       "2    3.0\n",
       "3    NaN\n",
       "dtype: float64"
      ]
     },
     "execution_count": 2,
     "metadata": {},
     "output_type": "execute_result"
    }
   ],
   "source": [
    "# Shortcomings of building on NumPy:\n",
    "\n",
    "#     No native support for missing values in integer arrays  \n",
    "#     Object dtype used for mixed types, causing inefficiency  \n",
    "#     Inflexible type system, can't extend easily  \n",
    "#     Memory overhead with object arrays  \n",
    "#     Limited categorical/string support \n",
    "#     Hard to customize behavior of data types  \n",
    "\n",
    "\n",
    "# example where we create a Series of integers with a missing value:\n",
    "s = pd.Series([1,2,3, None])\n",
    "s"
   ]
  },
  {
   "cell_type": "code",
   "execution_count": 4,
   "metadata": {},
   "outputs": [
    {
     "data": {
      "text/plain": [
       "0       1\n",
       "1       2\n",
       "2       3\n",
       "3    <NA>\n",
       "dtype: Int64"
      ]
     },
     "execution_count": 4,
     "metadata": {},
     "output_type": "execute_result"
    }
   ],
   "source": [
    "# mainly for backward compatibility reasons, Series uses the legacy behavior of using a float64 data type and np.nan for the missing value.\n",
    "s = pd.Series([1,2,3,None], dtype=pd.Int64Dtype())\n",
    "s\n",
    "\n",
    "# the <NA> indicates that a value is missing for an extension type array\n",
    "# this uses the special pandas.NA sentinel value"
   ]
  },
  {
   "cell_type": "code",
   "execution_count": 5,
   "metadata": {},
   "outputs": [
    {
     "data": {
      "text/plain": [
       "0    False\n",
       "1    False\n",
       "2    False\n",
       "3     True\n",
       "dtype: bool"
      ]
     },
     "execution_count": 5,
     "metadata": {},
     "output_type": "execute_result"
    }
   ],
   "source": [
    "s.isna()"
   ]
  },
  {
   "cell_type": "code",
   "execution_count": 6,
   "metadata": {},
   "outputs": [
    {
     "data": {
      "text/plain": [
       "<NA>"
      ]
     },
     "execution_count": 6,
     "metadata": {},
     "output_type": "execute_result"
    }
   ],
   "source": [
    "s[3]"
   ]
  },
  {
   "cell_type": "code",
   "execution_count": 7,
   "metadata": {},
   "outputs": [
    {
     "data": {
      "text/plain": [
       "True"
      ]
     },
     "execution_count": 7,
     "metadata": {},
     "output_type": "execute_result"
    }
   ],
   "source": [
    "s[3] is pd.NA"
   ]
  },
  {
   "cell_type": "code",
   "execution_count": null,
   "metadata": {},
   "outputs": [],
   "source": [
    "# we also could have used the shorthand \"Int64\" instead of pd.Int64Dtype() to specify the type.\n",
    "# the capitalization is necessary, otherwise it will be a NumPy-based nonextension type\n",
    "\n",
    "# s = pd.Series([1,2,3,None], dtype=\"Int64\")"
   ]
  },
  {
   "cell_type": "code",
   "execution_count": 9,
   "metadata": {},
   "outputs": [
    {
     "data": {
      "text/plain": [
       "0      one\n",
       "1      two\n",
       "2     <NA>\n",
       "3    three\n",
       "dtype: string"
      ]
     },
     "execution_count": 9,
     "metadata": {},
     "output_type": "execute_result"
    }
   ],
   "source": [
    "# pandas also has an extension type specialized for string data that does not use NumPy object arrays (may require the pyarrow library)\n",
    "\n",
    "s = pd.Series(['one', 'two', None, 'three'], dtype=pd.StringDtype())\n",
    "s\n"
   ]
  },
  {
   "cell_type": "code",
   "execution_count": 10,
   "metadata": {},
   "outputs": [],
   "source": [
    "# these string arrays generally use much less memory and are frequently computationally more efficient for doing operations on large datasets\n",
    "\n",
    "# another important extension type is Categorical,"
   ]
  },
  {
   "cell_type": "code",
   "execution_count": 12,
   "metadata": {},
   "outputs": [
    {
     "data": {
      "text/html": [
       "<div>\n",
       "<style scoped>\n",
       "    .dataframe tbody tr th:only-of-type {\n",
       "        vertical-align: middle;\n",
       "    }\n",
       "\n",
       "    .dataframe tbody tr th {\n",
       "        vertical-align: top;\n",
       "    }\n",
       "\n",
       "    .dataframe thead th {\n",
       "        text-align: right;\n",
       "    }\n",
       "</style>\n",
       "<table border=\"1\" class=\"dataframe\">\n",
       "  <thead>\n",
       "    <tr style=\"text-align: right;\">\n",
       "      <th></th>\n",
       "      <th>A</th>\n",
       "      <th>B</th>\n",
       "      <th>C</th>\n",
       "    </tr>\n",
       "  </thead>\n",
       "  <tbody>\n",
       "    <tr>\n",
       "      <th>0</th>\n",
       "      <td>1.0</td>\n",
       "      <td>one</td>\n",
       "      <td>False</td>\n",
       "    </tr>\n",
       "    <tr>\n",
       "      <th>1</th>\n",
       "      <td>2.0</td>\n",
       "      <td>two</td>\n",
       "      <td>None</td>\n",
       "    </tr>\n",
       "    <tr>\n",
       "      <th>2</th>\n",
       "      <td>NaN</td>\n",
       "      <td>three</td>\n",
       "      <td>False</td>\n",
       "    </tr>\n",
       "    <tr>\n",
       "      <th>3</th>\n",
       "      <td>4.0</td>\n",
       "      <td>None</td>\n",
       "      <td>True</td>\n",
       "    </tr>\n",
       "  </tbody>\n",
       "</table>\n",
       "</div>"
      ],
      "text/plain": [
       "     A      B      C\n",
       "0  1.0    one  False\n",
       "1  2.0    two   None\n",
       "2  NaN  three  False\n",
       "3  4.0   None   True"
      ]
     },
     "execution_count": 12,
     "metadata": {},
     "output_type": "execute_result"
    }
   ],
   "source": [
    "# extension types can be passed to the Series astype method, allowing you to convert easily as part of your data cleaning process\n",
    "\n",
    "df = pd.DataFrame({\"A\": [1, 2, None, 4], \"B\": [\"one\", \"two\", \"three\", None], \"C\": [False, None, False, True]})\n",
    "df"
   ]
  },
  {
   "cell_type": "code",
   "execution_count": 14,
   "metadata": {},
   "outputs": [
    {
     "data": {
      "text/html": [
       "<div>\n",
       "<style scoped>\n",
       "    .dataframe tbody tr th:only-of-type {\n",
       "        vertical-align: middle;\n",
       "    }\n",
       "\n",
       "    .dataframe tbody tr th {\n",
       "        vertical-align: top;\n",
       "    }\n",
       "\n",
       "    .dataframe thead th {\n",
       "        text-align: right;\n",
       "    }\n",
       "</style>\n",
       "<table border=\"1\" class=\"dataframe\">\n",
       "  <thead>\n",
       "    <tr style=\"text-align: right;\">\n",
       "      <th></th>\n",
       "      <th>A</th>\n",
       "      <th>B</th>\n",
       "      <th>C</th>\n",
       "    </tr>\n",
       "  </thead>\n",
       "  <tbody>\n",
       "    <tr>\n",
       "      <th>0</th>\n",
       "      <td>1</td>\n",
       "      <td>one</td>\n",
       "      <td>False</td>\n",
       "    </tr>\n",
       "    <tr>\n",
       "      <th>1</th>\n",
       "      <td>2</td>\n",
       "      <td>two</td>\n",
       "      <td>&lt;NA&gt;</td>\n",
       "    </tr>\n",
       "    <tr>\n",
       "      <th>2</th>\n",
       "      <td>&lt;NA&gt;</td>\n",
       "      <td>three</td>\n",
       "      <td>False</td>\n",
       "    </tr>\n",
       "    <tr>\n",
       "      <th>3</th>\n",
       "      <td>4</td>\n",
       "      <td>&lt;NA&gt;</td>\n",
       "      <td>True</td>\n",
       "    </tr>\n",
       "  </tbody>\n",
       "</table>\n",
       "</div>"
      ],
      "text/plain": [
       "      A      B      C\n",
       "0     1    one  False\n",
       "1     2    two   <NA>\n",
       "2  <NA>  three  False\n",
       "3     4   <NA>   True"
      ]
     },
     "execution_count": 14,
     "metadata": {},
     "output_type": "execute_result"
    }
   ],
   "source": [
    "df['A'] = df['A'].astype(\"Int64\")\n",
    "df['B'] = df['B'].astype(\"string\")\n",
    "df['C'] = df['C'].astype(\"boolean\")\n",
    "df"
   ]
  }
 ],
 "metadata": {
  "kernelspec": {
   "display_name": "env1",
   "language": "python",
   "name": "python3"
  },
  "language_info": {
   "codemirror_mode": {
    "name": "ipython",
    "version": 3
   },
   "file_extension": ".py",
   "mimetype": "text/x-python",
   "name": "python",
   "nbconvert_exporter": "python",
   "pygments_lexer": "ipython3",
   "version": "3.13.2"
  }
 },
 "nbformat": 4,
 "nbformat_minor": 2
}
