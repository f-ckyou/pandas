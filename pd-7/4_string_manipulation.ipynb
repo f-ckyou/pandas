{
 "cells": [
  {
   "cell_type": "markdown",
   "metadata": {},
   "source": [
    "## [ String Manipulation ]\n",
    "- python is popular for raw data manipulation, especially for strings and text.\n",
    "- string object methods make most operations easy.\n",
    "- regular expressions (regex) are used for complex pattern matching.\n",
    "- pandas enhances this by allowing vectorized string and regex operations on entire arrays. \n",
    "- pandas handles missing data (NaN) gracefully during string operations.\n",
    "- this makes text cleaning and analysis more efficient and concise"
   ]
  },
  {
   "cell_type": "code",
   "execution_count": 67,
   "metadata": {},
   "outputs": [],
   "source": [
    "import numpy as np \n",
    "import pandas as pd "
   ]
  },
  {
   "cell_type": "markdown",
   "metadata": {},
   "source": [
    "## [ Python Built-In String Object Methods ]"
   ]
  },
  {
   "cell_type": "code",
   "execution_count": 68,
   "metadata": {},
   "outputs": [
    {
     "data": {
      "text/plain": [
       "['a', 'b', ' guido']"
      ]
     },
     "execution_count": 68,
     "metadata": {},
     "output_type": "execute_result"
    }
   ],
   "source": [
    "# in many string munging and scripting applications, built-in string methods are sufficient.\n",
    "\n",
    "# example, a comma-separated string can be broken into pieces with split\n",
    "val = \"a,b, guido\"\n",
    "val.split(\",\")"
   ]
  },
  {
   "cell_type": "code",
   "execution_count": 69,
   "metadata": {},
   "outputs": [
    {
     "data": {
      "text/plain": [
       "['a', 'b', 'guido']"
      ]
     },
     "execution_count": 69,
     "metadata": {},
     "output_type": "execute_result"
    }
   ],
   "source": [
    "# split is often combined with strip to trim whitespace (including line breaks)\n",
    "pieces = [x.strip() for x in val.split(\",\")]\n",
    "pieces"
   ]
  },
  {
   "cell_type": "code",
   "execution_count": 70,
   "metadata": {},
   "outputs": [
    {
     "data": {
      "text/plain": [
       "'a??b??guido'"
      ]
     },
     "execution_count": 70,
     "metadata": {},
     "output_type": "execute_result"
    }
   ],
   "source": [
    "# these substrings could be concatenated together using addition\n",
    "first, second, third = pieces\n",
    "first + \"??\" + second + \"??\" + third"
   ]
  },
  {
   "cell_type": "code",
   "execution_count": 71,
   "metadata": {},
   "outputs": [
    {
     "data": {
      "text/plain": [
       "'a?b?guido'"
      ]
     },
     "execution_count": 71,
     "metadata": {},
     "output_type": "execute_result"
    }
   ],
   "source": [
    "# but this isn't a practical generic method. a faster and more pythonic way is to pass a list or tuple to the join method on the string \"?\"\n",
    "\"?\".join(pieces) "
   ]
  },
  {
   "cell_type": "code",
   "execution_count": 72,
   "metadata": {},
   "outputs": [
    {
     "data": {
      "text/plain": [
       "True"
      ]
     },
     "execution_count": 72,
     "metadata": {},
     "output_type": "execute_result"
    }
   ],
   "source": [
    "# other methods are concerned with locating substrings.\n",
    "# using python's \"in\" keyword is the best way to detect a substring, though index and find can also be used\n",
    "\"guido\" in val"
   ]
  },
  {
   "cell_type": "code",
   "execution_count": 73,
   "metadata": {},
   "outputs": [
    {
     "data": {
      "text/plain": [
       "1"
      ]
     },
     "execution_count": 73,
     "metadata": {},
     "output_type": "execute_result"
    }
   ],
   "source": [
    "val.index(\",\")"
   ]
  },
  {
   "cell_type": "code",
   "execution_count": 74,
   "metadata": {},
   "outputs": [
    {
     "data": {
      "text/plain": [
       "-1"
      ]
     },
     "execution_count": 74,
     "metadata": {},
     "output_type": "execute_result"
    }
   ],
   "source": [
    "val.find(\"?\")"
   ]
  },
  {
   "cell_type": "code",
   "execution_count": 75,
   "metadata": {},
   "outputs": [
    {
     "ename": "ValueError",
     "evalue": "substring not found",
     "output_type": "error",
     "traceback": [
      "\u001b[31m---------------------------------------------------------------------------\u001b[39m",
      "\u001b[31mValueError\u001b[39m                                Traceback (most recent call last)",
      "\u001b[36mCell\u001b[39m\u001b[36m \u001b[39m\u001b[32mIn[75]\u001b[39m\u001b[32m, line 2\u001b[39m\n\u001b[32m      1\u001b[39m \u001b[38;5;66;03m# difference between find and index is that index raises an exception if the string isn't found\u001b[39;00m\n\u001b[32m----> \u001b[39m\u001b[32m2\u001b[39m \u001b[43mval\u001b[49m\u001b[43m.\u001b[49m\u001b[43mindex\u001b[49m\u001b[43m(\u001b[49m\u001b[33;43m\"\u001b[39;49m\u001b[33;43m??\u001b[39;49m\u001b[33;43m\"\u001b[39;49m\u001b[43m)\u001b[49m\n",
      "\u001b[31mValueError\u001b[39m: substring not found"
     ]
    }
   ],
   "source": [
    "# difference between find and index is that index raises an exception if the string isn't found\n",
    "val.index(\"??\")"
   ]
  },
  {
   "cell_type": "code",
   "execution_count": 16,
   "metadata": {},
   "outputs": [
    {
     "data": {
      "text/plain": [
       "2"
      ]
     },
     "execution_count": 16,
     "metadata": {},
     "output_type": "execute_result"
    }
   ],
   "source": [
    "# count returns the number of occurences of a particular substring\n",
    "val.count(\",\")"
   ]
  },
  {
   "cell_type": "code",
   "execution_count": 18,
   "metadata": {},
   "outputs": [
    {
     "data": {
      "text/plain": [
       "'a:b: guido'"
      ]
     },
     "execution_count": 18,
     "metadata": {},
     "output_type": "execute_result"
    }
   ],
   "source": [
    "# replace will substitute occurrences of one pattern for another.\n",
    "# commonly used to delete patterns, too, by passing an empty string\n",
    "\n",
    "val.replace(\",\", \":\")"
   ]
  },
  {
   "cell_type": "code",
   "execution_count": 19,
   "metadata": {},
   "outputs": [
    {
     "data": {
      "text/plain": [
       "'ab guido'"
      ]
     },
     "execution_count": 19,
     "metadata": {},
     "output_type": "execute_result"
    }
   ],
   "source": [
    "val.replace(\",\", \"\")"
   ]
  },
  {
   "cell_type": "markdown",
   "metadata": {},
   "source": [
    "\n",
    "\n",
    "| **Method**               | **Description**                                      |\n",
    "|--------------------------|------------------------------------------------------|\n",
    "| `str.lower()`            | Converts string to lowercase                         |\n",
    "| `str.upper()`            | Converts string to uppercase                         |\n",
    "| `str.title()`            | Capitalizes first letter of each word                |\n",
    "| `str.capitalize()`       | Capitalizes first character of the string            |\n",
    "| `str.swapcase()`         | Swaps lowercase to uppercase and vice versa          |\n",
    "| `str.strip()`            | Removes leading/trailing spaces                      |\n",
    "| `str.lstrip()`           | Removes leading spaces                               |\n",
    "| `str.rstrip()`           | Removes trailing spaces                              |\n",
    "| `str.replace(old, new)`  | Replaces substring with another                      |\n",
    "| `str.split(sep)`         | Splits string into list                              |\n",
    "| `str.rsplit(sep)`        | Splits from the right                                |\n",
    "| `str.join(iterable)`     | Joins elements with a string as separator            |\n",
    "| `str.find(sub)`          | Returns lowest index of substring; -1 if not found   |\n",
    "| `str.rfind(sub)`         | Returns highest index of substring                   |\n",
    "| `str.index(sub)`         | Like `find()` but raises error if not found          |\n",
    "| `str.rindex(sub)`        | Like `rfind()` but raises error if not found         |\n",
    "| `str.startswith(sub)`    | Checks if string starts with `sub`                   |\n",
    "| `str.endswith(sub)`      | Checks if string ends with `sub`                     |\n",
    "| `str.isalpha()`          | Checks if all characters are alphabets               |\n",
    "| `str.isdigit()`          | Checks if all characters are digits                  |\n",
    "| `str.isnumeric()`        | Checks if string has only numeric characters         |\n",
    "| `str.isalnum()`          | Checks if all characters are alphanumeric            |\n",
    "| `str.isspace()`          | Checks if all characters are whitespace              |\n",
    "| `str.islower()`          | Checks if all letters are lowercase                  |\n",
    "| `str.isupper()`          | Checks if all letters are uppercase                  |\n",
    "| `str.istitle()`          | Checks if string is title-cased                      |\n",
    "| `str.zfill(width)`       | Pads string with zeros on the left                   |\n",
    "| `str.ljust(width)`       | Left-justifies string with spaces                    |\n",
    "| `str.rjust(width)`       | Right-justifies string with spaces                   |\n",
    "| `str.center(width)`      | Centers string with spaces                           |\n",
    "| `str.count(sub)`         | Counts occurrences of substring                      |\n",
    "| `str.partition(sep)`     | Splits into 3 parts: before, sep, after              |\n",
    "| `str.rpartition(sep)`    | Same as above but from right                         |\n",
    "| `str.encode()`           | Encodes string to bytes                              |\n",
    "| `str.casefold()`         | More aggressive lowercasing (for comparisons)        |\n",
    "| `str.expandtabs()`       | Replaces tabs with spaces                            |\n"
   ]
  },
  {
   "cell_type": "markdown",
   "metadata": {},
   "source": [
    "## [ Regular Expressions ]\n",
    "- Regular expressions provide a flexible way to search or match (often more complex) string patterns in text. \n",
    "- A single expresssion, commonly called a regex, is a string formed according to the regular expression language.\n",
    "- Python's built-in `re` module is responsible for applying regular expressions to strings.\n",
    "- writing regular expressions is itself a broad topic"
   ]
  },
  {
   "cell_type": "markdown",
   "metadata": {},
   "source": [
    "- the `re` module functions fall into three categories:   \n",
    "    - pattern matching\n",
    "    - substitution\n",
    "    - splitting\n",
    "- Naturally these are all related: a regex describes a pattern to locate in the text, which can then be used for many purposes."
   ]
  },
  {
   "cell_type": "code",
   "execution_count": 30,
   "metadata": {},
   "outputs": [
    {
     "data": {
      "text/plain": [
       "['foo', 'bar', 'baz', 'qux']"
      ]
     },
     "execution_count": 30,
     "metadata": {},
     "output_type": "execute_result"
    }
   ],
   "source": [
    "# example\n",
    "# suppose we wanted to split a string with a variable number of whitespace characters (tabs, space, and newlines)\n",
    "# the regex describing one or more whitespace characters is `\\s+`\n",
    "\n",
    "import re\n",
    "text = \"foo     bar\\t  baz  \\tqux\"\n",
    "re.split(r\"\\s+\", text)\n",
    "\n",
    "# on calling line 7, the regular expression is first compiled, and then its split method is called on the passed text.\n",
    "# we can compile the regex yourself with re.compile, forming a reusable regex object"
   ]
  },
  {
   "cell_type": "code",
   "execution_count": 21,
   "metadata": {},
   "outputs": [
    {
     "data": {
      "text/plain": [
       "['foo', 'bar', 'baz', 'qux']"
      ]
     },
     "execution_count": 21,
     "metadata": {},
     "output_type": "execute_result"
    }
   ],
   "source": [
    "regex = re.compile(r\"\\s+\")\n",
    "regex.split(text)"
   ]
  },
  {
   "cell_type": "code",
   "execution_count": 22,
   "metadata": {},
   "outputs": [
    {
     "data": {
      "text/plain": [
       "['     ', '\\t  ', '  \\t']"
      ]
     },
     "execution_count": 22,
     "metadata": {},
     "output_type": "execute_result"
    }
   ],
   "source": [
    "# if you want to get a list of all patterns matching the regex, use findall method\n",
    "\n",
    "regex.findall(text)"
   ]
  },
  {
   "cell_type": "markdown",
   "metadata": {},
   "source": [
    "NOTE: \n",
    "- To avoid unwanted escaping with \\ in a regular expression, use raw\n",
    "string literals like r\"C:\\x\" instead of the equivalent \"C:\\\\x\"\n",
    "- creating a regex object with re.compile is highly recommended if you intend to apply the same expression to many strings; doing so will save CPU cycles"
   ]
  },
  {
   "cell_type": "code",
   "execution_count": 31,
   "metadata": {},
   "outputs": [
    {
     "data": {
      "text/plain": [
       "['dave@google.com', 'steve@gmail.com', 'rob@gmail.com', 'ryan@yahoo.com']"
      ]
     },
     "execution_count": 31,
     "metadata": {},
     "output_type": "execute_result"
    }
   ],
   "source": [
    "# `match` and `search` are closely related to `findall`\n",
    "# while `findall` returns all matches in a string, \n",
    "# `search` returns only the first match\n",
    "# and `match` only matches at the beginning of the string\n",
    "\n",
    "# example\n",
    "text = \"\"\"Dave dave@google.com\n",
    "Steve steve@gmail.com\n",
    "Rob rob@gmail.com\n",
    "Ryan ryan@yahoo.com\"\"\"\n",
    "pattern = r\"[A-Z0-9._%+-]+@[A-Z0-9.-]+\\.[A-Z]{2,}\"\n",
    "\n",
    "\n",
    "# re.IGNORECASE makes the regex case insensitive\n",
    "regex = re.compile(pattern, flags=re.IGNORECASE)\n",
    "\n",
    "# using findall on the text produces a list of the email addresses\n",
    "regex.findall(text)\n"
   ]
  },
  {
   "cell_type": "code",
   "execution_count": 32,
   "metadata": {},
   "outputs": [
    {
     "name": "stdout",
     "output_type": "stream",
     "text": [
      "<re.Match object; span=(5, 20), match='dave@google.com'>\n"
     ]
    },
    {
     "data": {
      "text/plain": [
       "'dave@google.com'"
      ]
     },
     "execution_count": 32,
     "metadata": {},
     "output_type": "execute_result"
    }
   ],
   "source": [
    "# search returns a special match object for the first email address in the text\n",
    "# For the preceding regex, the match object can only tell us the start and end position of the pattern in the string\n",
    "m = regex.search(text)\n",
    "print(m)\n",
    "\n",
    "text[m.start():m.end()]     # slicing the string 'm' manually\n",
    "\n",
    "# basically, it's just a way to grab the first match from the string"
   ]
  },
  {
   "cell_type": "code",
   "execution_count": 33,
   "metadata": {},
   "outputs": [
    {
     "name": "stdout",
     "output_type": "stream",
     "text": [
      "None\n"
     ]
    }
   ],
   "source": [
    "# regex.match returns None, \n",
    "# it tries to match the pattern ONLY at the beginning of the string \n",
    "# if the pattern is not at the very start, it returns None\n",
    "print(regex.match(text))"
   ]
  },
  {
   "cell_type": "code",
   "execution_count": 34,
   "metadata": {},
   "outputs": [
    {
     "name": "stdout",
     "output_type": "stream",
     "text": [
      "Dave BullShit\n",
      "Steve BullShit\n",
      "Rob BullShit\n",
      "Ryan BullShit\n"
     ]
    }
   ],
   "source": [
    "# `sub` will return a new string with occurrences of the pattern replaced by a new string\n",
    "print(regex.sub(\"BullShit\", text))"
   ]
  },
  {
   "cell_type": "code",
   "execution_count": 50,
   "metadata": {},
   "outputs": [
    {
     "data": {
      "text/plain": [
       "('sd', 'dark', 'hor')"
      ]
     },
     "execution_count": 50,
     "metadata": {},
     "output_type": "execute_result"
    }
   ],
   "source": [
    "# Suppose you wanted to find email addresses and simultaneously segment each address into its three components: username, domain name, and domain suffix. To do this, put parentheses around the parts of the pattern to segment\n",
    "\n",
    "pattern = r\"([A-Z0-9._%+-]+)@([A-Z0-9.-]+)\\.([A-Z]{2,4})\"\n",
    "regex = re.compile(pattern, flags=re.IGNORECASE)\n",
    "\n",
    "# this will return a tuple of the pattern components with its group methods\n",
    "m = regex.match(\"sd@dark.hor\")\n",
    "m.groups()"
   ]
  },
  {
   "cell_type": "code",
   "execution_count": 39,
   "metadata": {},
   "outputs": [
    {
     "data": {
      "text/plain": [
       "[('dave', 'google', 'com'),\n",
       " ('steve', 'gmail', 'com'),\n",
       " ('rob', 'gmail', 'com'),\n",
       " ('ryan', 'yahoo', 'com')]"
      ]
     },
     "execution_count": 39,
     "metadata": {},
     "output_type": "execute_result"
    }
   ],
   "source": [
    "# findall returns a list of tuples when the pattern has () (groups)\n",
    "regex.findall(text)"
   ]
  },
  {
   "cell_type": "code",
   "execution_count": 40,
   "metadata": {},
   "outputs": [
    {
     "name": "stdout",
     "output_type": "stream",
     "text": [
      "Dave Username: dave, Domain: google, Suffix: com\n",
      "Steve Username: steve, Domain: gmail, Suffix: com\n",
      "Rob Username: rob, Domain: gmail, Suffix: com\n",
      "Ryan Username: ryan, Domain: yahoo, Suffix: com\n"
     ]
    }
   ],
   "source": [
    "# sub also have access to groups in each match using special symbols like \\1 and \\2\n",
    "# the symbol \\1 corresponds to the first matched group, \\2 corresponds to the second,...\n",
    "\n",
    "print(regex.sub(r\"Username: \\1, Domain: \\2, Suffix: \\3\", text))"
   ]
  },
  {
   "cell_type": "markdown",
   "metadata": {},
   "source": [
    "Regular expression methods\n",
    "- findall\n",
    "- finditer\n",
    "- match\n",
    "- search\n",
    "- split\n",
    "- sub, subn"
   ]
  },
  {
   "cell_type": "markdown",
   "metadata": {},
   "source": [
    "## [ String Functions in pandas ]"
   ]
  },
  {
   "cell_type": "code",
   "execution_count": 79,
   "metadata": {},
   "outputs": [
    {
     "name": "stdout",
     "output_type": "stream",
     "text": [
      "Dave     dave@google.com\n",
      "Steve    steve@gmail.com\n",
      "Rob        rob@gmail.com\n",
      "Wes                  NaN\n",
      "dtype: object\n"
     ]
    },
    {
     "data": {
      "text/plain": [
       "Dave     False\n",
       "Steve    False\n",
       "Rob      False\n",
       "Wes       True\n",
       "dtype: bool"
      ]
     },
     "execution_count": 79,
     "metadata": {},
     "output_type": "execute_result"
    }
   ],
   "source": [
    "# cleaning up a messy dataset for analysis often requires a lot of string manipulation\n",
    "# to complicate matters, a column containing strings will sometimes have missing data\n",
    "\n",
    "data = {\"Dave\": \"dave@google.com\", \"Steve\": \"steve@gmail.com\", \"Rob\": \"rob@gmail.com\", \"Wes\": np.nan}\n",
    "data = pd.Series(data)\n",
    "print(data)\n",
    "data.isna()"
   ]
  },
  {
   "cell_type": "code",
   "execution_count": 80,
   "metadata": {},
   "outputs": [
    {
     "data": {
      "text/plain": [
       "Dave     False\n",
       "Steve     True\n",
       "Rob       True\n",
       "Wes        NaN\n",
       "dtype: object"
      ]
     },
     "execution_count": 80,
     "metadata": {},
     "output_type": "execute_result"
    }
   ],
   "source": [
    "# string and regular expression methods can be applied to each value using data.map, but it will fail on NA values\n",
    "# to cope with this, Series has array-oriented methods for string operations that skip over and propagate NA values\n",
    "# these are accessed through Series's str attribute\n",
    "\n",
    "# example, \n",
    "data.str.contains(\"gmail\")"
   ]
  },
  {
   "cell_type": "code",
   "execution_count": 81,
   "metadata": {},
   "outputs": [
    {
     "data": {
      "text/plain": [
       "Dave     dave@google.com\n",
       "Steve    steve@gmail.com\n",
       "Rob        rob@gmail.com\n",
       "Wes                 <NA>\n",
       "dtype: string"
      ]
     },
     "execution_count": 81,
     "metadata": {},
     "output_type": "execute_result"
    }
   ],
   "source": [
    "# the result of this operation has an object dtype.\n",
    "# Pandas has special extension types for strings, integers, and booleans.\n",
    "# These types handle missing values better than the regular data types, which used to have problems when data was incomplete or missing.\n",
    "\n",
    "data_as_string_ext = data.astype('string')\n",
    "data_as_string_ext"
   ]
  },
  {
   "cell_type": "code",
   "execution_count": 82,
   "metadata": {},
   "outputs": [
    {
     "data": {
      "text/plain": [
       "Dave     False\n",
       "Steve     True\n",
       "Rob       True\n",
       "Wes       <NA>\n",
       "dtype: boolean"
      ]
     },
     "execution_count": 82,
     "metadata": {},
     "output_type": "execute_result"
    }
   ],
   "source": [
    "data_as_string_ext.str.contains(\"gmail\")"
   ]
  },
  {
   "cell_type": "code",
   "execution_count": 83,
   "metadata": {},
   "outputs": [
    {
     "data": {
      "text/plain": [
       "Dave     [(dave, google, com)]\n",
       "Steve    [(steve, gmail, com)]\n",
       "Rob        [(rob, gmail, com)]\n",
       "Wes                        NaN\n",
       "dtype: object"
      ]
     },
     "execution_count": 83,
     "metadata": {},
     "output_type": "execute_result"
    }
   ],
   "source": [
    "# regular expressions can be used, too along with any re options like IGNORECASE\n",
    "\n",
    "pattern = r\"([A-Z0-9._%+-]+)@([A-Z0-9.-]+)\\.([A-Z]{2,4})\"\n",
    "data.str.findall(pattern, flags=re.IGNORECASE)\n",
    "\n",
    "# returns a list of tuples for each row\n",
    "# each tuple contains parts of the match (username , domain , tld)"
   ]
  },
  {
   "cell_type": "code",
   "execution_count": 84,
   "metadata": {},
   "outputs": [
    {
     "data": {
      "text/plain": [
       "Dave     (dave, google, com)\n",
       "Steve    (steve, gmail, com)\n",
       "Rob        (rob, gmail, com)\n",
       "Wes                      NaN\n",
       "dtype: object"
      ]
     },
     "execution_count": 84,
     "metadata": {},
     "output_type": "execute_result"
    }
   ],
   "source": [
    "# there are couple of ways to do vectorized element retrieval\n",
    "# either use str.get or index into the str attribute\n",
    "\n",
    "matches = data.str.findall(pattern, flags=re.IGNORECASE).str[0]\n",
    "matches\n",
    "\n",
    "# takes only the first match from each row\n",
    "# now we have just one tuple per row (not a list)\n",
    "# easier to work with if you want to split it into columns"
   ]
  },
  {
   "cell_type": "code",
   "execution_count": 86,
   "metadata": {},
   "outputs": [
    {
     "data": {
      "text/plain": [
       "Dave     google\n",
       "Steve     gmail\n",
       "Rob       gmail\n",
       "Wes         NaN\n",
       "dtype: object"
      ]
     },
     "execution_count": 86,
     "metadata": {},
     "output_type": "execute_result"
    }
   ],
   "source": [
    "matches.str.get(1)"
   ]
  },
  {
   "cell_type": "code",
   "execution_count": 87,
   "metadata": {},
   "outputs": [
    {
     "data": {
      "text/plain": [
       "Dave     dave@\n",
       "Steve    steve\n",
       "Rob      rob@g\n",
       "Wes        NaN\n",
       "dtype: object"
      ]
     },
     "execution_count": 87,
     "metadata": {},
     "output_type": "execute_result"
    }
   ],
   "source": [
    "# similarly slicing strings using this syntax\n",
    "data.str[:5]"
   ]
  },
  {
   "cell_type": "code",
   "execution_count": 88,
   "metadata": {},
   "outputs": [
    {
     "data": {
      "text/html": [
       "<div>\n",
       "<style scoped>\n",
       "    .dataframe tbody tr th:only-of-type {\n",
       "        vertical-align: middle;\n",
       "    }\n",
       "\n",
       "    .dataframe tbody tr th {\n",
       "        vertical-align: top;\n",
       "    }\n",
       "\n",
       "    .dataframe thead th {\n",
       "        text-align: right;\n",
       "    }\n",
       "</style>\n",
       "<table border=\"1\" class=\"dataframe\">\n",
       "  <thead>\n",
       "    <tr style=\"text-align: right;\">\n",
       "      <th></th>\n",
       "      <th>0</th>\n",
       "      <th>1</th>\n",
       "      <th>2</th>\n",
       "    </tr>\n",
       "  </thead>\n",
       "  <tbody>\n",
       "    <tr>\n",
       "      <th>Dave</th>\n",
       "      <td>dave</td>\n",
       "      <td>google</td>\n",
       "      <td>com</td>\n",
       "    </tr>\n",
       "    <tr>\n",
       "      <th>Steve</th>\n",
       "      <td>steve</td>\n",
       "      <td>gmail</td>\n",
       "      <td>com</td>\n",
       "    </tr>\n",
       "    <tr>\n",
       "      <th>Rob</th>\n",
       "      <td>rob</td>\n",
       "      <td>gmail</td>\n",
       "      <td>com</td>\n",
       "    </tr>\n",
       "    <tr>\n",
       "      <th>Wes</th>\n",
       "      <td>NaN</td>\n",
       "      <td>NaN</td>\n",
       "      <td>NaN</td>\n",
       "    </tr>\n",
       "  </tbody>\n",
       "</table>\n",
       "</div>"
      ],
      "text/plain": [
       "           0       1    2\n",
       "Dave    dave  google  com\n",
       "Steve  steve   gmail  com\n",
       "Rob      rob   gmail  com\n",
       "Wes      NaN     NaN  NaN"
      ]
     },
     "execution_count": 88,
     "metadata": {},
     "output_type": "execute_result"
    }
   ],
   "source": [
    "# str.extract method will return the captured groups of a regular expression as a DataFrame\n",
    "data.str.extract(pattern, flags=re.IGNORECASE)"
   ]
  },
  {
   "cell_type": "markdown",
   "metadata": {},
   "source": [
    "Partial Listing of `Series.str` String Methods\n",
    "\n",
    "| Method        | Description |\n",
    "|---------------|-------------|\n",
    "| `cat`         | Concatenate strings element-wise with optional delimiter |\n",
    "| `contains`    | Return Boolean array if each string contains pattern/regex |\n",
    "| `count`       | Count occurrences of pattern |\n",
    "| `extract`     | Extract regex groups into DataFrame columns |\n",
    "| `endswith`    | Check if each string ends with the given pattern |\n",
    "| `startswith`  | Check if each string starts with the given pattern |\n",
    "| `findall`     | Find all occurrences of pattern/regex for each string |\n",
    "| `get`         | Get the i-th element from each string |\n",
    "| `isalnum`     | Check if all characters are alphanumeric |\n",
    "| `isalpha`     | Check if all characters are alphabetic |\n",
    "| `isdecimal`   | Check if all characters are decimals |\n",
    "| `isdigit`     | Check if all characters are digits |\n",
    "| `islower`     | Check if all characters are lowercase |\n",
    "| `isnumeric`   | Check if all characters are numeric |\n",
    "| `isupper`     | Check if all characters are uppercase |\n",
    "| `join`        | Join strings in each element with a separator |\n",
    "| `len`         | Get length of each string |\n",
    "| `lower`, `upper` | Convert to lowercase or uppercase |\n",
    "| `match`       | Use `re.match` to check if string matches pattern |\n",
    "| `pad`         | Add whitespace to left, right, or both sides |\n",
    "| `center`      | Center the string with padding (same as `pad(side=\"both\")`) |\n",
    "| `repeat`      | Repeat each string (e.g. `s.str.repeat(3)`) |\n",
    "| `replace`     | Replace pattern/regex with another string |\n",
    "| `slice`       | Slice substrings from each string |\n",
    "| `split`       | Split strings on delimiter or regex |\n",
    "| `strip`       | Trim whitespace from both sides |\n",
    "| `rstrip`      | Trim whitespace from right side |\n",
    "| `lstrip`      | Trim whitespace from left side |\n"
   ]
  }
 ],
 "metadata": {
  "kernelspec": {
   "display_name": "env1",
   "language": "python",
   "name": "python3"
  },
  "language_info": {
   "codemirror_mode": {
    "name": "ipython",
    "version": 3
   },
   "file_extension": ".py",
   "mimetype": "text/x-python",
   "name": "python",
   "nbconvert_exporter": "python",
   "pygments_lexer": "ipython3",
   "version": "3.13.2"
  }
 },
 "nbformat": 4,
 "nbformat_minor": 2
}
