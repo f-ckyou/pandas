{
 "cells": [
  {
   "cell_type": "markdown",
   "metadata": {},
   "source": [
    "### Indexing, Selection, and Filtering"
   ]
  },
  {
   "cell_type": "code",
   "execution_count": 1,
   "metadata": {},
   "outputs": [],
   "source": [
    "import numpy as np \n",
    "import pandas as pd \n",
    "from pandas import Series, DataFrame "
   ]
  },
  {
   "cell_type": "markdown",
   "metadata": {},
   "source": [
    "- series indexing works analogously to np array indexing, except you can use the Series's index values instead of only integers"
   ]
  },
  {
   "cell_type": "code",
   "execution_count": 2,
   "metadata": {},
   "outputs": [
    {
     "data": {
      "text/plain": [
       "a    0.0\n",
       "b    1.0\n",
       "c    2.0\n",
       "d    3.0\n",
       "dtype: float64"
      ]
     },
     "execution_count": 2,
     "metadata": {},
     "output_type": "execute_result"
    }
   ],
   "source": [
    "obj = pd.Series(np.arange(4.), index=['a', 'b', 'c', 'd'])\n",
    "obj"
   ]
  },
  {
   "cell_type": "code",
   "execution_count": 3,
   "metadata": {},
   "outputs": [
    {
     "data": {
      "text/plain": [
       "np.float64(1.0)"
      ]
     },
     "execution_count": 3,
     "metadata": {},
     "output_type": "execute_result"
    }
   ],
   "source": [
    "obj['b']"
   ]
  },
  {
   "cell_type": "code",
   "execution_count": 4,
   "metadata": {},
   "outputs": [
    {
     "name": "stderr",
     "output_type": "stream",
     "text": [
      "/tmp/ipykernel_2499/2469632899.py:1: FutureWarning: Series.__getitem__ treating keys as positions is deprecated. In a future version, integer keys will always be treated as labels (consistent with DataFrame behavior). To access a value by position, use `ser.iloc[pos]`\n",
      "  obj[1]\n"
     ]
    },
    {
     "data": {
      "text/plain": [
       "np.float64(1.0)"
      ]
     },
     "execution_count": 4,
     "metadata": {},
     "output_type": "execute_result"
    }
   ],
   "source": [
    "obj[1]"
   ]
  },
  {
   "cell_type": "code",
   "execution_count": 5,
   "metadata": {},
   "outputs": [
    {
     "data": {
      "text/plain": [
       "c    2.0\n",
       "d    3.0\n",
       "dtype: float64"
      ]
     },
     "execution_count": 5,
     "metadata": {},
     "output_type": "execute_result"
    }
   ],
   "source": [
    "obj[2:4] # takes as a range"
   ]
  },
  {
   "cell_type": "code",
   "execution_count": 6,
   "metadata": {},
   "outputs": [
    {
     "data": {
      "text/plain": [
       "b    1.0\n",
       "a    0.0\n",
       "d    3.0\n",
       "dtype: float64"
      ]
     },
     "execution_count": 6,
     "metadata": {},
     "output_type": "execute_result"
    }
   ],
   "source": [
    " obj[[\"b\", \"a\", \"d\"]] # individually "
   ]
  },
  {
   "cell_type": "code",
   "execution_count": 7,
   "metadata": {},
   "outputs": [
    {
     "name": "stderr",
     "output_type": "stream",
     "text": [
      "/tmp/ipykernel_2499/4070548150.py:1: FutureWarning: Series.__getitem__ treating keys as positions is deprecated. In a future version, integer keys will always be treated as labels (consistent with DataFrame behavior). To access a value by position, use `ser.iloc[pos]`\n",
      "  obj[[1,3]] # , take as individual positions for integers\n"
     ]
    },
    {
     "data": {
      "text/plain": [
       "b    1.0\n",
       "d    3.0\n",
       "dtype: float64"
      ]
     },
     "execution_count": 7,
     "metadata": {},
     "output_type": "execute_result"
    }
   ],
   "source": [
    "obj[[1,3]] # , take as individual positions for integers"
   ]
  },
  {
   "cell_type": "code",
   "execution_count": 8,
   "metadata": {},
   "outputs": [
    {
     "data": {
      "text/plain": [
       "a    0.0\n",
       "b    1.0\n",
       "dtype: float64"
      ]
     },
     "execution_count": 8,
     "metadata": {},
     "output_type": "execute_result"
    }
   ],
   "source": [
    "obj[obj < 2]"
   ]
  },
  {
   "cell_type": "code",
   "execution_count": 9,
   "metadata": {},
   "outputs": [],
   "source": [
    "# while you can select data by label this way, the preferred way to select index values is with the special loc operator\n",
    "\n",
    "# reason - bcoz of its clarity, flexibility, and explicit behavior\n",
    "#        - diff treatment of integers when indexing with []\n"
   ]
  },
  {
   "cell_type": "markdown",
   "metadata": {},
   "source": [
    "### Data Selection - regular, `loc[]`, `iloc[]`          #imp\n",
    "\n",
    "-   when using [] to index a Series or DataFrame without explicitly specifying .loc or .iloc, it behaves depends on the **type of index in your data** \n",
    "    - if your index contains integers: it will treat the integers in [] as labels ( !positions )\n",
    "    - if your index is the default (0,1,2,...): it will treat the integers in [] as positions\n"
   ]
  },
  {
   "cell_type": "markdown",
   "metadata": {},
   "source": [
    "#### Examples:\n",
    "Case 1: Default Index"
   ]
  },
  {
   "cell_type": "code",
   "execution_count": 10,
   "metadata": {},
   "outputs": [
    {
     "name": "stdout",
     "output_type": "stream",
     "text": [
      "12\n",
      "12\n"
     ]
    }
   ],
   "source": [
    "# when we don't provide a custom index, it automatically assigns the default index (0,1,2,...)\n",
    "\n",
    "s = pd.Series([12, 34, 56])\n",
    "\n",
    "# regular indexing\n",
    "print(s[0])     # 0 is treated as the position\n",
    "\n",
    "# iloc (explicit position-based indexing)\n",
    "print(s.iloc[0])"
   ]
  },
  {
   "cell_type": "markdown",
   "metadata": {},
   "source": [
    "Case 2: Custom Integer Index"
   ]
  },
  {
   "cell_type": "code",
   "execution_count": 13,
   "metadata": {},
   "outputs": [
    {
     "name": "stdout",
     "output_type": "stream",
     "text": [
      "10\n",
      "20\n"
     ]
    }
   ],
   "source": [
    "# If you explicitly provide an index with integers, [] treats the numbers as labels, not positions\n",
    "\n",
    "# Custom index (1, 2, 3)\n",
    "s = pd.Series([10, 20, 30], index=[1, 2, 3])\n",
    "\n",
    "# Regular indexing\n",
    "print(s[1])  # (1 is treated as a label, not a position)\n",
    "\n",
    "# iloc (position-based indexing)\n",
    "print(s.iloc[1])  # (second element by position)"
   ]
  },
  {
   "cell_type": "markdown",
   "metadata": {},
   "source": [
    "Case 3: String Index"
   ]
  },
  {
   "cell_type": "code",
   "execution_count": 12,
   "metadata": {},
   "outputs": [
    {
     "name": "stdout",
     "output_type": "stream",
     "text": [
      "10\n",
      "10\n"
     ]
    }
   ],
   "source": [
    "# If the index is not an integer (e.g., strings), there’s no confusion because labels and positions don’t overlap\n",
    "\n",
    "# String index\n",
    "s = pd.Series([10, 20, 30], index=[\"a\", \"b\", \"c\"])\n",
    "\n",
    "# Regular indexing\n",
    "print(s[\"a\"])  #  (Access by label)\n",
    "\n",
    "# iloc (position-based indexing)\n",
    "print(s.iloc[0])  #  (First element by position)"
   ]
  },
  {
   "cell_type": "markdown",
   "metadata": {},
   "source": [
    "### **Comparison Table**\n",
    "\n",
    "| **Operation**              | **Custom Integer Index** | **Default Index** |\n",
    "|-----------------------------|--------------------------|-------------------|\n",
    "| `[]`                       | Uses labels (e.g., 1, 2) | Uses positions    |\n",
    "| `.loc[]`                   | Always uses labels       | Always uses labels|\n",
    "| `.iloc[]`                  | Always uses positions    | Always uses positions|"
   ]
  },
  {
   "cell_type": "code",
   "execution_count": 14,
   "metadata": {},
   "outputs": [
    {
     "name": "stdout",
     "output_type": "stream",
     "text": [
      "10\n",
      "20\n",
      "10\n"
     ]
    }
   ],
   "source": [
    "# Final Example\n",
    "\n",
    "df = pd.DataFrame({'A': [10,20,30]}, index=[1,2,3])\n",
    "\n",
    "# Regular indexing\n",
    "print(df['A'][1])  # Label-based: (index label = 1)\n",
    "\n",
    "# Position-based indexing\n",
    "print(df['A'].iloc[1])  # Position-based: (second row)\n",
    "\n",
    "# Explicit label-based indexing\n",
    "print(df['A'].loc[1])  # Label-based"
   ]
  },
  {
   "cell_type": "markdown",
   "metadata": {},
   "source": [
    "You can also slice with labels, but it works differently from normal Python slicing in that the endpoint is inclusive"
   ]
  },
  {
   "cell_type": "code",
   "execution_count": 15,
   "metadata": {},
   "outputs": [
    {
     "data": {
      "text/plain": [
       "b    2\n",
       "c    3\n",
       "dtype: int64"
      ]
     },
     "execution_count": 15,
     "metadata": {},
     "output_type": "execute_result"
    }
   ],
   "source": [
    "obj2 = pd.Series([1, 2, 3], index=[\"a\", \"b\", \"c\"])\n",
    "\n",
    "obj2.loc['b':'c']"
   ]
  },
  {
   "cell_type": "code",
   "execution_count": 17,
   "metadata": {},
   "outputs": [
    {
     "data": {
      "text/plain": [
       "a    1\n",
       "b    5\n",
       "c    5\n",
       "dtype: int64"
      ]
     },
     "execution_count": 17,
     "metadata": {},
     "output_type": "execute_result"
    }
   ],
   "source": [
    "# assigning values using these methods modifies the corresponding section of the Series:\n",
    "\n",
    "obj2.loc['b':'c'] = 5\n",
    "obj2"
   ]
  },
  {
   "cell_type": "markdown",
   "metadata": {},
   "source": [
    "NOTE:\n",
    "- always use [] with .loc and .iloc\n",
    "- don’t treat them like functions with ()—they’re indexing tools, not function calls\n",
    "    - [] are special syntax in python for indexing and slicing\n",
    "    - they allow to specify ranges or combine row/column indexing"
   ]
  },
  {
   "cell_type": "markdown",
   "metadata": {},
   "source": [
    "Indexing into a DataFrame !!!"
   ]
  },
  {
   "cell_type": "code",
   "execution_count": 18,
   "metadata": {},
   "outputs": [
    {
     "data": {
      "text/html": [
       "<div>\n",
       "<style scoped>\n",
       "    .dataframe tbody tr th:only-of-type {\n",
       "        vertical-align: middle;\n",
       "    }\n",
       "\n",
       "    .dataframe tbody tr th {\n",
       "        vertical-align: top;\n",
       "    }\n",
       "\n",
       "    .dataframe thead th {\n",
       "        text-align: right;\n",
       "    }\n",
       "</style>\n",
       "<table border=\"1\" class=\"dataframe\">\n",
       "  <thead>\n",
       "    <tr style=\"text-align: right;\">\n",
       "      <th></th>\n",
       "      <th>one</th>\n",
       "      <th>two</th>\n",
       "      <th>three</th>\n",
       "      <th>four</th>\n",
       "    </tr>\n",
       "  </thead>\n",
       "  <tbody>\n",
       "    <tr>\n",
       "      <th>Ohio</th>\n",
       "      <td>0</td>\n",
       "      <td>1</td>\n",
       "      <td>2</td>\n",
       "      <td>3</td>\n",
       "    </tr>\n",
       "    <tr>\n",
       "      <th>Colorado</th>\n",
       "      <td>4</td>\n",
       "      <td>5</td>\n",
       "      <td>6</td>\n",
       "      <td>7</td>\n",
       "    </tr>\n",
       "    <tr>\n",
       "      <th>Utah</th>\n",
       "      <td>8</td>\n",
       "      <td>9</td>\n",
       "      <td>10</td>\n",
       "      <td>11</td>\n",
       "    </tr>\n",
       "    <tr>\n",
       "      <th>New York</th>\n",
       "      <td>12</td>\n",
       "      <td>13</td>\n",
       "      <td>14</td>\n",
       "      <td>15</td>\n",
       "    </tr>\n",
       "  </tbody>\n",
       "</table>\n",
       "</div>"
      ],
      "text/plain": [
       "          one  two  three  four\n",
       "Ohio        0    1      2     3\n",
       "Colorado    4    5      6     7\n",
       "Utah        8    9     10    11\n",
       "New York   12   13     14    15"
      ]
     },
     "execution_count": 18,
     "metadata": {},
     "output_type": "execute_result"
    }
   ],
   "source": [
    "data = pd.DataFrame(np.arange(16).reshape((4, 4)), \n",
    "                    index=[\"Ohio\", \"Colorado\", \"Utah\", \"New York\"], \n",
    "                    columns=[\"one\", \"two\", \"three\", \"four\"])\n",
    "data"
   ]
  },
  {
   "cell_type": "code",
   "execution_count": 29,
   "metadata": {},
   "outputs": [
    {
     "data": {
      "text/plain": [
       "Ohio         1\n",
       "Colorado     5\n",
       "Utah         9\n",
       "New York    13\n",
       "Name: two, dtype: int64"
      ]
     },
     "execution_count": 29,
     "metadata": {},
     "output_type": "execute_result"
    }
   ],
   "source": [
    "data['two']\n",
    "\n",
    "# imp! passing a single element or a list to the [] operator selects columns"
   ]
  },
  {
   "cell_type": "code",
   "execution_count": 21,
   "metadata": {},
   "outputs": [
    {
     "data": {
      "text/html": [
       "<div>\n",
       "<style scoped>\n",
       "    .dataframe tbody tr th:only-of-type {\n",
       "        vertical-align: middle;\n",
       "    }\n",
       "\n",
       "    .dataframe tbody tr th {\n",
       "        vertical-align: top;\n",
       "    }\n",
       "\n",
       "    .dataframe thead th {\n",
       "        text-align: right;\n",
       "    }\n",
       "</style>\n",
       "<table border=\"1\" class=\"dataframe\">\n",
       "  <thead>\n",
       "    <tr style=\"text-align: right;\">\n",
       "      <th></th>\n",
       "      <th>three</th>\n",
       "      <th>one</th>\n",
       "    </tr>\n",
       "  </thead>\n",
       "  <tbody>\n",
       "    <tr>\n",
       "      <th>Ohio</th>\n",
       "      <td>2</td>\n",
       "      <td>0</td>\n",
       "    </tr>\n",
       "    <tr>\n",
       "      <th>Colorado</th>\n",
       "      <td>6</td>\n",
       "      <td>4</td>\n",
       "    </tr>\n",
       "    <tr>\n",
       "      <th>Utah</th>\n",
       "      <td>10</td>\n",
       "      <td>8</td>\n",
       "    </tr>\n",
       "    <tr>\n",
       "      <th>New York</th>\n",
       "      <td>14</td>\n",
       "      <td>12</td>\n",
       "    </tr>\n",
       "  </tbody>\n",
       "</table>\n",
       "</div>"
      ],
      "text/plain": [
       "          three  one\n",
       "Ohio          2    0\n",
       "Colorado      6    4\n",
       "Utah         10    8\n",
       "New York     14   12"
      ]
     },
     "execution_count": 21,
     "metadata": {},
     "output_type": "execute_result"
    }
   ],
   "source": [
    "data[['three', 'one']]"
   ]
  },
  {
   "cell_type": "code",
   "execution_count": 22,
   "metadata": {},
   "outputs": [
    {
     "data": {
      "text/html": [
       "<div>\n",
       "<style scoped>\n",
       "    .dataframe tbody tr th:only-of-type {\n",
       "        vertical-align: middle;\n",
       "    }\n",
       "\n",
       "    .dataframe tbody tr th {\n",
       "        vertical-align: top;\n",
       "    }\n",
       "\n",
       "    .dataframe thead th {\n",
       "        text-align: right;\n",
       "    }\n",
       "</style>\n",
       "<table border=\"1\" class=\"dataframe\">\n",
       "  <thead>\n",
       "    <tr style=\"text-align: right;\">\n",
       "      <th></th>\n",
       "      <th>one</th>\n",
       "      <th>two</th>\n",
       "      <th>three</th>\n",
       "      <th>four</th>\n",
       "    </tr>\n",
       "  </thead>\n",
       "  <tbody>\n",
       "    <tr>\n",
       "      <th>Ohio</th>\n",
       "      <td>0</td>\n",
       "      <td>1</td>\n",
       "      <td>2</td>\n",
       "      <td>3</td>\n",
       "    </tr>\n",
       "    <tr>\n",
       "      <th>Colorado</th>\n",
       "      <td>4</td>\n",
       "      <td>5</td>\n",
       "      <td>6</td>\n",
       "      <td>7</td>\n",
       "    </tr>\n",
       "  </tbody>\n",
       "</table>\n",
       "</div>"
      ],
      "text/plain": [
       "          one  two  three  four\n",
       "Ohio        0    1      2     3\n",
       "Colorado    4    5      6     7"
      ]
     },
     "execution_count": 22,
     "metadata": {},
     "output_type": "execute_result"
    }
   ],
   "source": [
    "# indexing like this has a few special cases\n",
    "# 1st is slicing or selecting data with a Boolean Array\n",
    "\n",
    "data[:2]    # row selection syntax"
   ]
  },
  {
   "cell_type": "markdown",
   "metadata": {},
   "source": [
    "Indexing with a Boolean DataFrame, such as one produced by a scalar comparison"
   ]
  },
  {
   "cell_type": "code",
   "execution_count": 30,
   "metadata": {},
   "outputs": [
    {
     "data": {
      "text/html": [
       "<div>\n",
       "<style scoped>\n",
       "    .dataframe tbody tr th:only-of-type {\n",
       "        vertical-align: middle;\n",
       "    }\n",
       "\n",
       "    .dataframe tbody tr th {\n",
       "        vertical-align: top;\n",
       "    }\n",
       "\n",
       "    .dataframe thead th {\n",
       "        text-align: right;\n",
       "    }\n",
       "</style>\n",
       "<table border=\"1\" class=\"dataframe\">\n",
       "  <thead>\n",
       "    <tr style=\"text-align: right;\">\n",
       "      <th></th>\n",
       "      <th>one</th>\n",
       "      <th>two</th>\n",
       "      <th>three</th>\n",
       "      <th>four</th>\n",
       "    </tr>\n",
       "  </thead>\n",
       "  <tbody>\n",
       "    <tr>\n",
       "      <th>Ohio</th>\n",
       "      <td>True</td>\n",
       "      <td>True</td>\n",
       "      <td>True</td>\n",
       "      <td>True</td>\n",
       "    </tr>\n",
       "    <tr>\n",
       "      <th>Colorado</th>\n",
       "      <td>True</td>\n",
       "      <td>False</td>\n",
       "      <td>False</td>\n",
       "      <td>False</td>\n",
       "    </tr>\n",
       "    <tr>\n",
       "      <th>Utah</th>\n",
       "      <td>False</td>\n",
       "      <td>False</td>\n",
       "      <td>False</td>\n",
       "      <td>False</td>\n",
       "    </tr>\n",
       "    <tr>\n",
       "      <th>New York</th>\n",
       "      <td>False</td>\n",
       "      <td>False</td>\n",
       "      <td>False</td>\n",
       "      <td>False</td>\n",
       "    </tr>\n",
       "  </tbody>\n",
       "</table>\n",
       "</div>"
      ],
      "text/plain": [
       "            one    two  three   four\n",
       "Ohio       True   True   True   True\n",
       "Colorado   True  False  False  False\n",
       "Utah      False  False  False  False\n",
       "New York  False  False  False  False"
      ]
     },
     "execution_count": 30,
     "metadata": {},
     "output_type": "execute_result"
    }
   ],
   "source": [
    "data < 5"
   ]
  },
  {
   "cell_type": "code",
   "execution_count": 32,
   "metadata": {},
   "outputs": [
    {
     "data": {
      "text/html": [
       "<div>\n",
       "<style scoped>\n",
       "    .dataframe tbody tr th:only-of-type {\n",
       "        vertical-align: middle;\n",
       "    }\n",
       "\n",
       "    .dataframe tbody tr th {\n",
       "        vertical-align: top;\n",
       "    }\n",
       "\n",
       "    .dataframe thead th {\n",
       "        text-align: right;\n",
       "    }\n",
       "</style>\n",
       "<table border=\"1\" class=\"dataframe\">\n",
       "  <thead>\n",
       "    <tr style=\"text-align: right;\">\n",
       "      <th></th>\n",
       "      <th>one</th>\n",
       "      <th>two</th>\n",
       "      <th>three</th>\n",
       "      <th>four</th>\n",
       "    </tr>\n",
       "  </thead>\n",
       "  <tbody>\n",
       "    <tr>\n",
       "      <th>Ohio</th>\n",
       "      <td>0</td>\n",
       "      <td>0</td>\n",
       "      <td>0</td>\n",
       "      <td>0</td>\n",
       "    </tr>\n",
       "    <tr>\n",
       "      <th>Colorado</th>\n",
       "      <td>0</td>\n",
       "      <td>5</td>\n",
       "      <td>6</td>\n",
       "      <td>7</td>\n",
       "    </tr>\n",
       "    <tr>\n",
       "      <th>Utah</th>\n",
       "      <td>8</td>\n",
       "      <td>9</td>\n",
       "      <td>10</td>\n",
       "      <td>11</td>\n",
       "    </tr>\n",
       "    <tr>\n",
       "      <th>New York</th>\n",
       "      <td>12</td>\n",
       "      <td>13</td>\n",
       "      <td>14</td>\n",
       "      <td>15</td>\n",
       "    </tr>\n",
       "  </tbody>\n",
       "</table>\n",
       "</div>"
      ],
      "text/plain": [
       "          one  two  three  four\n",
       "Ohio        0    0      0     0\n",
       "Colorado    0    5      6     7\n",
       "Utah        8    9     10    11\n",
       "New York   12   13     14    15"
      ]
     },
     "execution_count": 32,
     "metadata": {},
     "output_type": "execute_result"
    }
   ],
   "source": [
    "data[data < 5] = 0\n",
    "data"
   ]
  },
  {
   "cell_type": "code",
   "execution_count": 33,
   "metadata": {},
   "outputs": [
    {
     "data": {
      "text/plain": [
       "Ohio        False\n",
       "Colorado     True\n",
       "Utah         True\n",
       "New York     True\n",
       "Name: three, dtype: bool"
      ]
     },
     "execution_count": 33,
     "metadata": {},
     "output_type": "execute_result"
    }
   ],
   "source": [
    "data['three'] > 5 # will return boolean result"
   ]
  },
  {
   "cell_type": "code",
   "execution_count": 35,
   "metadata": {},
   "outputs": [
    {
     "data": {
      "text/html": [
       "<div>\n",
       "<style scoped>\n",
       "    .dataframe tbody tr th:only-of-type {\n",
       "        vertical-align: middle;\n",
       "    }\n",
       "\n",
       "    .dataframe tbody tr th {\n",
       "        vertical-align: top;\n",
       "    }\n",
       "\n",
       "    .dataframe thead th {\n",
       "        text-align: right;\n",
       "    }\n",
       "</style>\n",
       "<table border=\"1\" class=\"dataframe\">\n",
       "  <thead>\n",
       "    <tr style=\"text-align: right;\">\n",
       "      <th></th>\n",
       "      <th>one</th>\n",
       "      <th>two</th>\n",
       "      <th>three</th>\n",
       "      <th>four</th>\n",
       "    </tr>\n",
       "  </thead>\n",
       "  <tbody>\n",
       "    <tr>\n",
       "      <th>Colorado</th>\n",
       "      <td>0</td>\n",
       "      <td>5</td>\n",
       "      <td>6</td>\n",
       "      <td>7</td>\n",
       "    </tr>\n",
       "    <tr>\n",
       "      <th>Utah</th>\n",
       "      <td>8</td>\n",
       "      <td>9</td>\n",
       "      <td>10</td>\n",
       "      <td>11</td>\n",
       "    </tr>\n",
       "    <tr>\n",
       "      <th>New York</th>\n",
       "      <td>12</td>\n",
       "      <td>13</td>\n",
       "      <td>14</td>\n",
       "      <td>15</td>\n",
       "    </tr>\n",
       "  </tbody>\n",
       "</table>\n",
       "</div>"
      ],
      "text/plain": [
       "          one  two  three  four\n",
       "Colorado    0    5      6     7\n",
       "Utah        8    9     10    11\n",
       "New York   12   13     14    15"
      ]
     },
     "execution_count": 35,
     "metadata": {},
     "output_type": "execute_result"
    }
   ],
   "source": [
    "data[data['three'] > 5]"
   ]
  },
  {
   "cell_type": "markdown",
   "metadata": {},
   "source": [
    "### **Selection on DataFrame with loc and iloc**\n",
    "\n",
    "#### Key Difference Between `.loc` and `.iloc`\n",
    "\n",
    "| `.loc` (Label-based)           | `.iloc` (Position-based)         |\n",
    "|--------------------------------|-----------------------------------|\n",
    "| Access data using **row and column labels**. | Access data using **row and column positions** (like Python lists). |\n",
    "| Works with **row/column names**. | Works with **integer-based indices**. |\n",
    "| Includes the endpoint in slices. | Excludes the endpoint in slices. |\n",
    "\n",
    "---\n",
    "\n",
    "\n",
    "#### Summary of Features\n",
    "\n",
    "| **Feature**                     | `.loc` (Labels)                | `.iloc` (Positions)            |\n",
    "|----------------------------------|--------------------------------|---------------------------------|\n",
    "| Access single value              | `df.loc[row_label, col_label]` | `df.iloc[row_pos, col_pos]`    |\n",
    "| Select specific rows/columns     | List of labels: `df.loc[[...]]`| List of indices: `df.iloc[[...]]`|\n",
    "| Slice rows/columns               | `df.loc[start:end]` (inclusive)| `df.iloc[start:end]` (exclusive)|\n",
    "| Select all rows/columns          | Use `:`: `df.loc[:, 'col']`    | Use `:`: `df.iloc[:, 1]`       |\n",
    "\n",
    "---\n",
    "\n",
    "#### Key Takeaways\n",
    "1. **Use `.loc`** when working with **labels** (row and column names).\n",
    "2. **Use `.iloc`** when working with **positions** (integer indices).\n",
    "3. Both allow you to combine row and column indexing using `[]` notation.\n",
    "4. Remember:\n",
    "   - `.loc` slices include the **end index**.\n",
    "   - `.iloc` slices **exclude** the end index."
   ]
  },
  {
   "cell_type": "code",
   "execution_count": 36,
   "metadata": {},
   "outputs": [
    {
     "data": {
      "text/html": [
       "<div>\n",
       "<style scoped>\n",
       "    .dataframe tbody tr th:only-of-type {\n",
       "        vertical-align: middle;\n",
       "    }\n",
       "\n",
       "    .dataframe tbody tr th {\n",
       "        vertical-align: top;\n",
       "    }\n",
       "\n",
       "    .dataframe thead th {\n",
       "        text-align: right;\n",
       "    }\n",
       "</style>\n",
       "<table border=\"1\" class=\"dataframe\">\n",
       "  <thead>\n",
       "    <tr style=\"text-align: right;\">\n",
       "      <th></th>\n",
       "      <th>one</th>\n",
       "      <th>two</th>\n",
       "      <th>three</th>\n",
       "      <th>four</th>\n",
       "    </tr>\n",
       "  </thead>\n",
       "  <tbody>\n",
       "    <tr>\n",
       "      <th>Ohio</th>\n",
       "      <td>0</td>\n",
       "      <td>0</td>\n",
       "      <td>0</td>\n",
       "      <td>0</td>\n",
       "    </tr>\n",
       "    <tr>\n",
       "      <th>Colorado</th>\n",
       "      <td>0</td>\n",
       "      <td>5</td>\n",
       "      <td>6</td>\n",
       "      <td>7</td>\n",
       "    </tr>\n",
       "    <tr>\n",
       "      <th>Utah</th>\n",
       "      <td>8</td>\n",
       "      <td>9</td>\n",
       "      <td>10</td>\n",
       "      <td>11</td>\n",
       "    </tr>\n",
       "    <tr>\n",
       "      <th>New York</th>\n",
       "      <td>12</td>\n",
       "      <td>13</td>\n",
       "      <td>14</td>\n",
       "      <td>15</td>\n",
       "    </tr>\n",
       "  </tbody>\n",
       "</table>\n",
       "</div>"
      ],
      "text/plain": [
       "          one  two  three  four\n",
       "Ohio        0    0      0     0\n",
       "Colorado    0    5      6     7\n",
       "Utah        8    9     10    11\n",
       "New York   12   13     14    15"
      ]
     },
     "execution_count": 36,
     "metadata": {},
     "output_type": "execute_result"
    }
   ],
   "source": [
    "data"
   ]
  },
  {
   "cell_type": "markdown",
   "metadata": {},
   "source": [
    "#### Selection Using .loc & .iloc\n",
    "\n",
    "1. Select a Single Value"
   ]
  },
  {
   "cell_type": "code",
   "execution_count": 37,
   "metadata": {},
   "outputs": [
    {
     "name": "stdout",
     "output_type": "stream",
     "text": [
      "10\n"
     ]
    }
   ],
   "source": [
    "# using .loc (label-based)\n",
    "\n",
    "print(data.loc['Utah', 'three']) # value at row 'Utah' and column 'three"
   ]
  },
  {
   "cell_type": "code",
   "execution_count": 39,
   "metadata": {},
   "outputs": [
    {
     "name": "stdout",
     "output_type": "stream",
     "text": [
      "11\n"
     ]
    }
   ],
   "source": [
    "# using .iloc (position-based)\n",
    "\n",
    "print(data.iloc[2, 3]) # value at 2nd row (index 2) and 2nd column (index 3)"
   ]
  },
  {
   "cell_type": "markdown",
   "metadata": {},
   "source": [
    "2. Select Entire Row"
   ]
  },
  {
   "cell_type": "code",
   "execution_count": 40,
   "metadata": {},
   "outputs": [
    {
     "name": "stdout",
     "output_type": "stream",
     "text": [
      "one      0\n",
      "two      5\n",
      "three    6\n",
      "four     7\n",
      "Name: Colorado, dtype: int64\n"
     ]
    }
   ],
   "source": [
    "# using .loc\n",
    "\n",
    "print(data.loc['Colorado']) # select all columns for row 'Colorado' "
   ]
  },
  {
   "cell_type": "code",
   "execution_count": 41,
   "metadata": {},
   "outputs": [
    {
     "name": "stdout",
     "output_type": "stream",
     "text": [
      "one      0\n",
      "two      5\n",
      "three    6\n",
      "four     7\n",
      "Name: Colorado, dtype: int64\n"
     ]
    }
   ],
   "source": [
    "# using .iloc\n",
    "\n",
    "print(data.iloc[1])     # select all columns for the 1st row (index 1)"
   ]
  },
  {
   "cell_type": "markdown",
   "metadata": {},
   "source": [
    "3. Select Entire Column"
   ]
  },
  {
   "cell_type": "code",
   "execution_count": 42,
   "metadata": {},
   "outputs": [
    {
     "name": "stdout",
     "output_type": "stream",
     "text": [
      "Ohio         0\n",
      "Colorado     5\n",
      "Utah         9\n",
      "New York    13\n",
      "Name: two, dtype: int64\n"
     ]
    }
   ],
   "source": [
    "# using .loc\n",
    "\n",
    "print(data.loc[:, 'two']) # select all rows for column 'two' "
   ]
  },
  {
   "cell_type": "code",
   "execution_count": 44,
   "metadata": {},
   "outputs": [
    {
     "name": "stdout",
     "output_type": "stream",
     "text": [
      "Ohio         0\n",
      "Colorado     5\n",
      "Utah         9\n",
      "New York    13\n",
      "Name: two, dtype: int64\n"
     ]
    }
   ],
   "source": [
    "# using .iloc\n",
    "\n",
    "print(data.iloc[:, 1])   # select all rows for the 3rd column (index 1)"
   ]
  },
  {
   "cell_type": "markdown",
   "metadata": {},
   "source": [
    "4. Select Multiple Rows and Columns"
   ]
  },
  {
   "cell_type": "code",
   "execution_count": 45,
   "metadata": {},
   "outputs": [
    {
     "name": "stdout",
     "output_type": "stream",
     "text": [
      "      one  three\n",
      "Ohio    0      0\n",
      "Utah    8     10\n"
     ]
    }
   ],
   "source": [
    "# using .loc\n",
    "\n",
    "print(data.loc[[\"Ohio\", \"Utah\"], ['one', 'three']])  # selects rows 'Ohio' and 'Utah', and columns 'one' and 'three'"
   ]
  },
  {
   "cell_type": "code",
   "execution_count": 46,
   "metadata": {},
   "outputs": [
    {
     "name": "stdout",
     "output_type": "stream",
     "text": [
      "      one  three\n",
      "Ohio    0      0\n",
      "Utah    8     10\n"
     ]
    }
   ],
   "source": [
    "# using .iloc\n",
    "\n",
    "print(data.iloc[[0, 2], [0, 2]])  # select 1st and 3rd rows, and 1st and 3rd columns"
   ]
  },
  {
   "cell_type": "markdown",
   "metadata": {},
   "source": [
    "5. Slicing Rows and Columns"
   ]
  },
  {
   "cell_type": "code",
   "execution_count": 47,
   "metadata": {},
   "outputs": [
    {
     "name": "stdout",
     "output_type": "stream",
     "text": [
      "          one  two  three\n",
      "Ohio        0    0      0\n",
      "Colorado    0    5      6\n",
      "Utah        8    9     10\n"
     ]
    }
   ],
   "source": [
    "# using .loc\n",
    "\n",
    "print(data.loc['Ohio':'Utah', 'one':'three'])   # slice rows 'Ohio' to 'Utah', and columns 'one' to 'three'"
   ]
  },
  {
   "cell_type": "code",
   "execution_count": 48,
   "metadata": {},
   "outputs": [
    {
     "name": "stdout",
     "output_type": "stream",
     "text": [
      "          one  two  three\n",
      "Ohio        0    0      0\n",
      "Colorado    0    5      6\n",
      "Utah        8    9     10\n"
     ]
    }
   ],
   "source": [
    "# using .iloc\n",
    "\n",
    "print(data.iloc[0:3, 0:3]) # slice 0 to 2 (exclusive) rows and 0 to 3 (exclusive) columns"
   ]
  },
  {
   "cell_type": "markdown",
   "metadata": {},
   "source": [
    "6. Boolean Indexing with .loc"
   ]
  },
  {
   "cell_type": "code",
   "execution_count": 49,
   "metadata": {},
   "outputs": [
    {
     "name": "stdout",
     "output_type": "stream",
     "text": [
      "          one  two  three  four\n",
      "Utah        8    9     10    11\n",
      "New York   12   13     14    15\n"
     ]
    }
   ],
   "source": [
    "print(data.loc[data['three'] > 6]) # select rows where columns 'three' has values greater than 6"
   ]
  },
  {
   "cell_type": "markdown",
   "metadata": {},
   "source": [
    "### Notes:\n",
    "1. `.loc` works with **row and column labels** (names).\n",
    "2. `.iloc` works with **row and column integer positions** (index numbers).\n",
    "3. `.loc` slices **include the endpoint**.\n",
    "4. `.iloc` slices **exclude the endpoint**."
   ]
  },
  {
   "cell_type": "markdown",
   "metadata": {},
   "source": [
    "#### .at & .iat\n",
    "1. .at\n",
    "    - works with rows and cols labels (name based indexing)\n",
    "    - best used for accessing or updating a single value\n",
    "    - equivalent to data.loc[row_label, column_label], but faster\n",
    "2. .iat\n",
    "    - works with row and cols integer positions (position based indexing)\n",
    "    - best used for accessing or updating a single value\n",
    "    - equivalent to data.iloc[row_position, column_position], but faster"
   ]
  },
  {
   "cell_type": "code",
   "execution_count": 51,
   "metadata": {},
   "outputs": [
    {
     "name": "stdout",
     "output_type": "stream",
     "text": [
      "0\n",
      "0\n"
     ]
    }
   ],
   "source": [
    "# Accessing a single value \n",
    "\n",
    "# using .at (label based)\n",
    "print(data.at['Ohio', 'three'])\n",
    "\n",
    "# using .iat (position based)\n",
    "print(data.iat[0, 2])"
   ]
  },
  {
   "cell_type": "code",
   "execution_count": 53,
   "metadata": {},
   "outputs": [
    {
     "name": "stdout",
     "output_type": "stream",
     "text": [
      "          one  two  three  four\n",
      "Ohio        0    0      0     0\n",
      "Colorado    0   99      6     7\n",
      "Utah        8    9     10    11\n",
      "New York   12   13     14    15\n",
      "          one  two  three  four\n",
      "Ohio        0    0      0     0\n",
      "Colorado    0   99      6     7\n",
      "Utah        8    9     10    11\n",
      "New York   12   77     14    15\n"
     ]
    }
   ],
   "source": [
    "# Modifying a single value\n",
    "\n",
    "# using .at\n",
    "data.at['Colorado', 'two'] = 99\n",
    "print(data)\n",
    "\n",
    "# using .iat\n",
    "data.iat[3, 1] = 77\n",
    "print(data)"
   ]
  },
  {
   "cell_type": "markdown",
   "metadata": {},
   "source": [
    "#### 4. Comparison with `.loc` and `.iloc`\n",
    "\n",
    "| **Method**    | **Access Type**      | **Example**                | **Performance** |\n",
    "|---------------|----------------------|----------------------------|-----------------|\n",
    "| `.loc`        | Label-based          | `data.loc['Ohio', 'three']`| Slower          |\n",
    "| `.iloc`       | Position-based       | `data.iloc[0, 2]`          | Slower          |\n",
    "| `.at`         | Label-based (single) | `data.at['Ohio', 'three']` | Faster          |\n",
    "| `.iat`        | Position-based (single)| `data.iat[0, 2]`         | Faster          |\n",
    "\n",
    "---\n",
    "\n",
    "### Key Points to Remember\n",
    "- **`.at`** and **`.iat`** are used for single-value access or updates only.\n",
    "- For accessing slices or multiple values, continue to use `.loc` and `.iloc`.\n",
    "- Both `.at` and `.iat` improve performance for single-cell operations in large DataFrames.\n"
   ]
  },
  {
   "cell_type": "markdown",
   "metadata": {},
   "source": [
    "# Summary Table\n",
    "\n",
    "| **Indexing Method**            | **Syntax**                                 | **Purpose**                                                                                       | **Example**                                |\n",
    "|--------------------------------|--------------------------------------------|---------------------------------------------------------------------------------------------------|--------------------------------------------|\n",
    "| Access a Column            | `data['column_name']`                      | Selects a single column from the DataFrame.                                                       | `data['one']`                              |\n",
    "| Access Multiple Columns    | `data[['col1', 'col2']]`                   | Selects multiple columns as a new DataFrame.                                                      | `data[['one', 'three']]`                   |\n",
    "| Access a Row by Label      | `data.loc['row_label']`                    | Selects a row based on its label.                                                                 | `data.loc['Ohio']`                         |\n",
    "| Access a Row by Position   | `data.iloc[row_index]`                     | Selects a row based on its integer position.                                                      | `data.iloc[0]`                             |\n",
    "| Access a Single Value      | `data.loc['row', 'column']`                | Selects a single value based on row and column labels.                                            | `data.loc['Utah', 'three']`                |\n",
    "|                                | `data.iloc[row, col]`                      | Selects a single value based on integer positions of row and column.                              | `data.iloc[2, 2]`                          |\n",
    "| Access a Single Value Faster| `data.at['row', 'column']`                | Optimized for accessing a single value based on row and column labels.                            | `data.at['Utah', 'three']`                 |\n",
    "|                                | `data.iat[row, col]`                       | Optimized for accessing a single value based on row and column positions.                         | `data.iat[2, 2]`                           |\n",
    "| Slice Rows by Labels       | `data.loc['start':'end']`                  | Selects a range of rows by their labels (inclusive of the endpoint).                              | `data.loc['Ohio':'Utah']`                  |\n",
    "| Slice Rows by Position     | `data.iloc[start:end]`                     | Selects a range of rows by their integer positions (exclusive of the endpoint).                   | `data.iloc[0:2]`                           |\n",
    "| Slice Columns              | `data.loc[:, 'start':'end']`               | Selects a range of columns by their labels.                                                      | `data.loc[:, 'one':'three']`               |\n",
    "|                                | `data.iloc[:, start:end]`                  | Selects a range of columns by their positions.                                                    | `data.iloc[:, 0:3]`                        |\n",
    "| Boolean Indexing           | `data.loc[data['column'] > value]`         | Filters rows based on a condition applied to a column.                                            | `data.loc[data['three'] > 6]`              |\n",
    "| Select Multiple Rows/Cols  | `data.loc[['row1', 'row2'], ['col1', 'col2']]` | Selects specific rows and columns based on their labels.                                           | `data.loc[['Ohio', 'Utah'], ['one', 'four']]` |\n",
    "|                                | `data.iloc[[row1, row2], [col1, col2]]`    | Selects specific rows and columns based on their positions.                                       | `data.iloc[[0, 2], [0, 3]]`                |\n",
    "| Entire DataFrame Slice     | `data.loc[:, :]`                           | Selects all rows and all columns (entire DataFrame).                                              | `data.loc[:, :]`                           |\n",
    "| Using Boolean Conditions   | `data[data['column'] > value]`             | Filters rows directly using boolean conditions on a column (without `.loc`).                      | `data[data['three'] > 6]`                  |\n",
    "| Set a Value               | `data.loc['row', 'col'] = value`           | Assigns a value to a specific cell based on row and column labels.                                | `data.loc['Utah', 'four'] = 20`            |\n",
    "|                                | `data.iloc[row, col] = value`              | Assigns a value to a specific cell based on row and column positions.                             | `data.iloc[2, 3] = 20`                     |\n",
    "| Set a Single Value Faster  | `data.at['row', 'column'] = value`         | Assigns a value to a single cell (optimized version of `.loc`).                                   | `data.at['Utah', 'four'] = 20`             |\n",
    "|                                | `data.iat[row, col] = value`               | Assigns a value to a single cell (optimized version of `.iloc`).                                  | `data.iat[2, 3] = 20`                      |\n",
    "| Reindex Rows/Columns      | `data.reindex(new_labels)`                 | Reorders or adds new rows/columns to match the new index.                                         | `data.reindex(['Ohio', 'Utah', 'Texas'])`  |\n",
    "|                                | `data.reindex(columns=new_labels)`         | Reorders or adds new columns to match the new column labels.                                      | `data.reindex(columns=['one', 'five'])`    |\n"
   ]
  }
 ],
 "metadata": {
  "kernelspec": {
   "display_name": "env1",
   "language": "python",
   "name": "python3"
  },
  "language_info": {
   "codemirror_mode": {
    "name": "ipython",
    "version": 3
   },
   "file_extension": ".py",
   "mimetype": "text/x-python",
   "name": "python",
   "nbconvert_exporter": "python",
   "pygments_lexer": "ipython3",
   "version": "3.12.7"
  }
 },
 "nbformat": 4,
 "nbformat_minor": 2
}
