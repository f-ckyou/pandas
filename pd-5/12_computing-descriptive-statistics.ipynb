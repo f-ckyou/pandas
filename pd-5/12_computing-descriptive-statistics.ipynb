{
 "cells": [
  {
   "cell_type": "code",
   "execution_count": 1,
   "metadata": {},
   "outputs": [],
   "source": [
    "import numpy as np \n",
    "import pandas as pd"
   ]
  },
  {
   "cell_type": "markdown",
   "metadata": {},
   "source": [
    "Pandas objects have built-in **mathematical** and **statistical methods** to calculate **summary statistics** or perform **reductions**. These methods:\n",
    "1. Extract a **single value** (e.g., sum or mean) from a Series.\n",
    "2. Extract a **Series of values** from rows or columns in a DataFrame.\n",
    "\n",
    "### Key Features:\n",
    "- **Handles Missing Data**: Automatically skips `NaN` values (unless specified otherwise).\n",
    "- **Similar to NumPy Methods**: Adds extra functionality like handling `NaN`.\n",
    "\n",
    "\n",
    "### Simplified Explanation:\n",
    "- **Column-wise Operations**: Default behavior (e.g., `sum()`, `mean()`).\n",
    "- **Row-wise Operations**: Use `axis=1`.\n",
    "- **Missing Data**: Automatically skipped."
   ]
  },
  {
   "cell_type": "code",
   "execution_count": 2,
   "metadata": {},
   "outputs": [
    {
     "data": {
      "text/html": [
       "<div>\n",
       "<style scoped>\n",
       "    .dataframe tbody tr th:only-of-type {\n",
       "        vertical-align: middle;\n",
       "    }\n",
       "\n",
       "    .dataframe tbody tr th {\n",
       "        vertical-align: top;\n",
       "    }\n",
       "\n",
       "    .dataframe thead th {\n",
       "        text-align: right;\n",
       "    }\n",
       "</style>\n",
       "<table border=\"1\" class=\"dataframe\">\n",
       "  <thead>\n",
       "    <tr style=\"text-align: right;\">\n",
       "      <th></th>\n",
       "      <th>one</th>\n",
       "      <th>two</th>\n",
       "    </tr>\n",
       "  </thead>\n",
       "  <tbody>\n",
       "    <tr>\n",
       "      <th>a</th>\n",
       "      <td>1.40</td>\n",
       "      <td>NaN</td>\n",
       "    </tr>\n",
       "    <tr>\n",
       "      <th>b</th>\n",
       "      <td>7.10</td>\n",
       "      <td>-4.5</td>\n",
       "    </tr>\n",
       "    <tr>\n",
       "      <th>c</th>\n",
       "      <td>NaN</td>\n",
       "      <td>NaN</td>\n",
       "    </tr>\n",
       "    <tr>\n",
       "      <th>d</th>\n",
       "      <td>0.75</td>\n",
       "      <td>-1.3</td>\n",
       "    </tr>\n",
       "  </tbody>\n",
       "</table>\n",
       "</div>"
      ],
      "text/plain": [
       "    one  two\n",
       "a  1.40  NaN\n",
       "b  7.10 -4.5\n",
       "c   NaN  NaN\n",
       "d  0.75 -1.3"
      ]
     },
     "execution_count": 2,
     "metadata": {},
     "output_type": "execute_result"
    }
   ],
   "source": [
    "df = pd.DataFrame([[1.4, np.nan], [7.1, -4.5], [np.nan, np.nan], [0.75, -1.3]],\n",
    "                    index=[\"a\", \"b\", \"c\", \"d\"],\n",
    "                    columns=[\"one\", \"two\"])\n",
    "df"
   ]
  },
  {
   "cell_type": "code",
   "execution_count": 3,
   "metadata": {},
   "outputs": [
    {
     "data": {
      "text/plain": [
       "one    9.25\n",
       "two   -5.80\n",
       "dtype: float64"
      ]
     },
     "execution_count": 3,
     "metadata": {},
     "output_type": "execute_result"
    }
   ],
   "source": [
    "# calling dataframe sum method returns a series containing column sums\n",
    "df.sum()"
   ]
  },
  {
   "cell_type": "code",
   "execution_count": 4,
   "metadata": {},
   "outputs": [
    {
     "data": {
      "text/plain": [
       "a    1.40\n",
       "b    2.60\n",
       "c    0.00\n",
       "d   -0.55\n",
       "dtype: float64"
      ]
     },
     "execution_count": 4,
     "metadata": {},
     "output_type": "execute_result"
    }
   ],
   "source": [
    "# passing axis='columns' or axis=1 sums across the columns instead\n",
    "df.sum(axis='columns')"
   ]
  },
  {
   "cell_type": "markdown",
   "metadata": {},
   "source": [
    "In pandas, **summary statistics methods** like `sum()` handle missing values (`NaN`) by default using the `skipna=True` option:\n",
    "\n",
    "### Behavior:\n",
    "1. **All `NaN` in a row or column**:\n",
    "   - The result is **0** for methods like `sum()`.\n",
    "2. **Any non-`NaN` in a row or column**:\n",
    "   - The result is calculated, **ignoring `NaN`**.\n",
    "3. **`skipna=False`**:\n",
    "   - Any presence of `NaN` results in the output being `NaN`.\n",
    "\n",
    "### Summary:\n",
    "- Use `skipna=True` (default) to ignore `NaN` while calculating results.\n",
    "- Set `skipna=False` if you want to treat any `NaN` as invalid for the operation."
   ]
  },
  {
   "cell_type": "code",
   "execution_count": 6,
   "metadata": {},
   "outputs": [
    {
     "data": {
      "text/plain": [
       "a     NaN\n",
       "b    2.60\n",
       "c     NaN\n",
       "d   -0.55\n",
       "dtype: float64"
      ]
     },
     "execution_count": 6,
     "metadata": {},
     "output_type": "execute_result"
    }
   ],
   "source": [
    "df.sum(axis='columns', skipna=False)"
   ]
  },
  {
   "cell_type": "code",
   "execution_count": 7,
   "metadata": {},
   "outputs": [
    {
     "data": {
      "text/plain": [
       "one   NaN\n",
       "two   NaN\n",
       "dtype: float64"
      ]
     },
     "execution_count": 7,
     "metadata": {},
     "output_type": "execute_result"
    }
   ],
   "source": [
    "df.sum(axis='index', skipna=False)"
   ]
  },
  {
   "cell_type": "code",
   "execution_count": 8,
   "metadata": {},
   "outputs": [
    {
     "data": {
      "text/plain": [
       "a    1.400\n",
       "b    1.300\n",
       "c      NaN\n",
       "d   -0.275\n",
       "dtype: float64"
      ]
     },
     "execution_count": 8,
     "metadata": {},
     "output_type": "execute_result"
    }
   ],
   "source": [
    "# some aggregations, like mean, require at least one non-NA value to yield a value result,\n",
    "df.mean(axis='columns')"
   ]
  },
  {
   "cell_type": "markdown",
   "metadata": {},
   "source": [
    "### Options for reduction methods\n",
    "\n",
    "| **Option**      | **Purpose**                                            | **Default**       |\n",
    "|------------------|--------------------------------------------------------|-------------------|\n",
    "| `axis`          | Operates on columns (`0`) or rows (`1`).                | `axis=0`         |\n",
    "| `skipna`        | Excludes `NaN` when calculating results.                | `skipna=True`    |\n",
    "| `level`         | Operates on a specific MultiIndex level.                | `None`           |\n",
    "| `numeric_only`  | Restricts the operation to numeric data types.          | `None`           |\n",
    "| `min_count`     | Sets minimum valid values required for the operation.   | `0` (no minimum) |"
   ]
  },
  {
   "cell_type": "code",
   "execution_count": 9,
   "metadata": {},
   "outputs": [
    {
     "data": {
      "text/plain": [
       "one    b\n",
       "two    d\n",
       "dtype: object"
      ]
     },
     "execution_count": 9,
     "metadata": {},
     "output_type": "execute_result"
    }
   ],
   "source": [
    "# some methods, like indxmin and indxmax, returns indirect statistics, like the index value where the minimumn or maximum values are attained:\n",
    "df.idxmax()"
   ]
  },
  {
   "cell_type": "code",
   "execution_count": 10,
   "metadata": {},
   "outputs": [
    {
     "data": {
      "text/plain": [
       "one    d\n",
       "two    b\n",
       "dtype: object"
      ]
     },
     "execution_count": 10,
     "metadata": {},
     "output_type": "execute_result"
    }
   ],
   "source": [
    "df.idxmin()"
   ]
  },
  {
   "cell_type": "code",
   "execution_count": 11,
   "metadata": {},
   "outputs": [
    {
     "data": {
      "text/html": [
       "<div>\n",
       "<style scoped>\n",
       "    .dataframe tbody tr th:only-of-type {\n",
       "        vertical-align: middle;\n",
       "    }\n",
       "\n",
       "    .dataframe tbody tr th {\n",
       "        vertical-align: top;\n",
       "    }\n",
       "\n",
       "    .dataframe thead th {\n",
       "        text-align: right;\n",
       "    }\n",
       "</style>\n",
       "<table border=\"1\" class=\"dataframe\">\n",
       "  <thead>\n",
       "    <tr style=\"text-align: right;\">\n",
       "      <th></th>\n",
       "      <th>one</th>\n",
       "      <th>two</th>\n",
       "    </tr>\n",
       "  </thead>\n",
       "  <tbody>\n",
       "    <tr>\n",
       "      <th>a</th>\n",
       "      <td>1.40</td>\n",
       "      <td>NaN</td>\n",
       "    </tr>\n",
       "    <tr>\n",
       "      <th>b</th>\n",
       "      <td>8.50</td>\n",
       "      <td>-4.5</td>\n",
       "    </tr>\n",
       "    <tr>\n",
       "      <th>c</th>\n",
       "      <td>NaN</td>\n",
       "      <td>NaN</td>\n",
       "    </tr>\n",
       "    <tr>\n",
       "      <th>d</th>\n",
       "      <td>9.25</td>\n",
       "      <td>-5.8</td>\n",
       "    </tr>\n",
       "  </tbody>\n",
       "</table>\n",
       "</div>"
      ],
      "text/plain": [
       "    one  two\n",
       "a  1.40  NaN\n",
       "b  8.50 -4.5\n",
       "c   NaN  NaN\n",
       "d  9.25 -5.8"
      ]
     },
     "execution_count": 11,
     "metadata": {},
     "output_type": "execute_result"
    }
   ],
   "source": [
    "# other methods are accumulations:\n",
    "df.cumsum()"
   ]
  },
  {
   "cell_type": "code",
   "execution_count": 12,
   "metadata": {},
   "outputs": [
    {
     "data": {
      "text/html": [
       "<div>\n",
       "<style scoped>\n",
       "    .dataframe tbody tr th:only-of-type {\n",
       "        vertical-align: middle;\n",
       "    }\n",
       "\n",
       "    .dataframe tbody tr th {\n",
       "        vertical-align: top;\n",
       "    }\n",
       "\n",
       "    .dataframe thead th {\n",
       "        text-align: right;\n",
       "    }\n",
       "</style>\n",
       "<table border=\"1\" class=\"dataframe\">\n",
       "  <thead>\n",
       "    <tr style=\"text-align: right;\">\n",
       "      <th></th>\n",
       "      <th>one</th>\n",
       "      <th>two</th>\n",
       "    </tr>\n",
       "  </thead>\n",
       "  <tbody>\n",
       "    <tr>\n",
       "      <th>count</th>\n",
       "      <td>3.000000</td>\n",
       "      <td>2.000000</td>\n",
       "    </tr>\n",
       "    <tr>\n",
       "      <th>mean</th>\n",
       "      <td>3.083333</td>\n",
       "      <td>-2.900000</td>\n",
       "    </tr>\n",
       "    <tr>\n",
       "      <th>std</th>\n",
       "      <td>3.493685</td>\n",
       "      <td>2.262742</td>\n",
       "    </tr>\n",
       "    <tr>\n",
       "      <th>min</th>\n",
       "      <td>0.750000</td>\n",
       "      <td>-4.500000</td>\n",
       "    </tr>\n",
       "    <tr>\n",
       "      <th>25%</th>\n",
       "      <td>1.075000</td>\n",
       "      <td>-3.700000</td>\n",
       "    </tr>\n",
       "    <tr>\n",
       "      <th>50%</th>\n",
       "      <td>1.400000</td>\n",
       "      <td>-2.900000</td>\n",
       "    </tr>\n",
       "    <tr>\n",
       "      <th>75%</th>\n",
       "      <td>4.250000</td>\n",
       "      <td>-2.100000</td>\n",
       "    </tr>\n",
       "    <tr>\n",
       "      <th>max</th>\n",
       "      <td>7.100000</td>\n",
       "      <td>-1.300000</td>\n",
       "    </tr>\n",
       "  </tbody>\n",
       "</table>\n",
       "</div>"
      ],
      "text/plain": [
       "            one       two\n",
       "count  3.000000  2.000000\n",
       "mean   3.083333 -2.900000\n",
       "std    3.493685  2.262742\n",
       "min    0.750000 -4.500000\n",
       "25%    1.075000 -3.700000\n",
       "50%    1.400000 -2.900000\n",
       "75%    4.250000 -2.100000\n",
       "max    7.100000 -1.300000"
      ]
     },
     "execution_count": 12,
     "metadata": {},
     "output_type": "execute_result"
    }
   ],
   "source": [
    "# some methods are neither reductions nor accumulations\n",
    "# describe is one such example, producing multiple summary statistics in one shot\n",
    "\n",
    "df.describe()\n",
    "# on non-numeric data, describe produce alternative summary statistics"
   ]
  },
  {
   "cell_type": "code",
   "execution_count": 14,
   "metadata": {},
   "outputs": [
    {
     "data": {
      "text/plain": [
       "0     a\n",
       "1     a\n",
       "2     b\n",
       "3     c\n",
       "4     a\n",
       "5     a\n",
       "6     b\n",
       "7     c\n",
       "8     a\n",
       "9     a\n",
       "10    b\n",
       "11    c\n",
       "12    a\n",
       "13    a\n",
       "14    b\n",
       "15    c\n",
       "dtype: object"
      ]
     },
     "execution_count": 14,
     "metadata": {},
     "output_type": "execute_result"
    }
   ],
   "source": [
    "obj = pd.Series(['a', 'a', 'b', 'c'] * 4)\n",
    "obj"
   ]
  },
  {
   "cell_type": "code",
   "execution_count": 16,
   "metadata": {},
   "outputs": [
    {
     "data": {
      "text/plain": [
       "count     16\n",
       "unique     3\n",
       "top        a\n",
       "freq       8\n",
       "dtype: object"
      ]
     },
     "execution_count": 16,
     "metadata": {},
     "output_type": "execute_result"
    }
   ],
   "source": [
    "obj.describe()"
   ]
  },
  {
   "cell_type": "markdown",
   "metadata": {},
   "source": [
    "## Full list of summary statistics and related methods available in pandas for both Series and DataFrame objects"
   ]
  },
  {
   "cell_type": "markdown",
   "metadata": {},
   "source": [
    "Here is the **full list of summary statistics and related methods** available in pandas for both **Series** and **DataFrame** objects. These methods allow for analyzing and summarizing data.\n",
    "\n",
    "### Aggregation/Reduction Methods\n",
    "These methods compute a single value or a summary over the data:\n",
    "\n",
    "| **Method**         | **Description**                                                                 |\n",
    "|---------------------|---------------------------------------------------------------------------------|\n",
    "| `count()`          | Number of non-NA/null observations.                                            |\n",
    "| `sum()`            | Sum of values (with `skipna=True` by default).                                 |\n",
    "| `mean()`           | Mean (average) of values.                                                     |\n",
    "| `median()`         | Median (middle) value of values.                                               |\n",
    "| `prod()`           | Product of values.                                                            |\n",
    "| `std()`            | Standard deviation of values.                                                 |\n",
    "| `var()`            | Variance of values.                                                           |\n",
    "| `min()`            | Minimum value.                                                                |\n",
    "| `max()`            | Maximum value.                                                                |\n",
    "| `idxmin()`         | Index of the minimum value.                                                   |\n",
    "| `idxmax()`         | Index of the maximum value.                                                   |\n",
    "| `mode()`           | Most frequent value(s).                                                       |\n",
    "| `abs()`            | Compute the absolute value.                                                   |\n",
    "\n",
    "\n",
    "### Cumulative Methods\n",
    "These methods compute cumulative results over the data:\n",
    "\n",
    "| **Method**         | **Description**                                                                 |\n",
    "|---------------------|---------------------------------------------------------------------------------|\n",
    "| `cumsum()`         | Cumulative sum of values.                                                      |\n",
    "| `cumprod()`        | Cumulative product of values.                                                  |\n",
    "| `cummin()`         | Cumulative minimum value.                                                      |\n",
    "| `cummax()`         | Cumulative maximum value.                                                      |\n",
    "\n",
    "\n",
    "\n",
    "### Descriptive Statistics\n",
    "These methods provide detailed summary statistics:\n",
    "\n",
    "| **Method**         | **Description**                                                                 |\n",
    "|---------------------|---------------------------------------------------------------------------------|\n",
    "| `describe()`       | Generate descriptive statistics, including count, mean, std, min, and max.      |\n",
    "| `quantile()`       | Compute quantiles of values.                                                    |\n",
    "| `mad()`            | Mean absolute deviation from the mean.                                         |\n",
    "| `skew()`           | Skewness (asymmetry) of the distribution.                                       |\n",
    "| `kurt()`           | Kurtosis (tailedness) of the distribution.                                      |\n",
    "| `sem()`            | Standard error of the mean.                                                    |\n",
    "\n",
    "\n",
    "\n",
    "### Correlation and Covariance\n",
    "These methods are used to analyze relationships between columns in a DataFrame:\n",
    "\n",
    "| **Method**         | **Description**                                                                 |\n",
    "|---------------------|---------------------------------------------------------------------------------|\n",
    "| `corr()`           | Compute pairwise correlation between columns.                                   |\n",
    "| `cov()`            | Compute pairwise covariance between columns.                                    |\n",
    "| `corrwith()`       | Compute correlation with another Series or DataFrame.                           |\n",
    "\n",
    "### Boolean Reductions\n",
    "These methods work with boolean values:\n",
    "\n",
    "| **Method**         | **Description**                                                                 |\n",
    "|---------------------|---------------------------------------------------------------------------------|\n",
    "| `all()`            | Return `True` if all values are `True`.                                         |\n",
    "| `any()`            | Return `True` if any value is `True`.                                           |\n",
    "\n",
    "\n",
    "\n",
    "### Index-based Reductions\n",
    "These methods return the index position of specific values:\n",
    "\n",
    "| **Method**         | **Description**                                                                 |\n",
    "|---------------------|---------------------------------------------------------------------------------|\n",
    "| `idxmin()`         | Return the index of the first minimum value.                                    |\n",
    "| `idxmax()`         | Return the index of the first maximum value.                                    |\n",
    "\n",
    "\n",
    "### Counting and Frequency\n",
    "These methods provide counts and frequencies:\n",
    "\n",
    "| **Method**         | **Description**                                                                 |\n",
    "|---------------------|---------------------------------------------------------------------------------|\n",
    "| `value_counts()`   | Count occurrences of unique values in a Series.                                 |\n",
    "| `nunique()`        | Count the number of unique values.                                              |\n"
   ]
  }
 ],
 "metadata": {
  "kernelspec": {
   "display_name": "env1",
   "language": "python",
   "name": "python3"
  },
  "language_info": {
   "codemirror_mode": {
    "name": "ipython",
    "version": 3
   },
   "file_extension": ".py",
   "mimetype": "text/x-python",
   "name": "python",
   "nbconvert_exporter": "python",
   "pygments_lexer": "ipython3",
   "version": "3.12.7"
  }
 },
 "nbformat": 4,
 "nbformat_minor": 2
}
