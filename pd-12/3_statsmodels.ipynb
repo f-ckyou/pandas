{
 "cells": [
  {
   "cell_type": "markdown",
   "metadata": {},
   "source": [
    "\n",
    "#### What is `statsmodels`?\n",
    "\n",
    "`statsmodels` is a library focused on **traditional (frequentist)** statistical modeling. It's great for:\n",
    "- Fitting statistical models (like regression)\n",
    "- Hypothesis testing\n",
    "- Data analysis and visualization (from a statistics perspective)\n",
    "\n",
    "#### Models You Can Use in `statsmodels`\n",
    "\n",
    "Here are some common types of models provided:\n",
    "\n",
    "1. **Linear Models**  \n",
    "   - Standard OLS (Ordinary Least Squares) regression\n",
    "   - Robust linear models (resistant to outliers)\n",
    "   - Generalized Linear Models (GLMs) like logistic regression\n",
    "\n",
    "2. **Linear Mixed Effects Models**  \n",
    "   - Useful when data has both fixed and random effects (e.g., repeated measures)\n",
    "\n",
    "3. **ANOVA (Analysis of Variance)**  \n",
    "   - Used to compare means across multiple groups\n",
    "\n",
    "4. **Time Series Models**  \n",
    "   - ARIMA, SARIMA, State space models, etc.\n",
    "\n",
    "5. **Generalized Method of Moments (GMM)**  \n",
    "   - A flexible estimation technique used often in econometrics\n",
    "\n",
    "#### Key Tools in `statsmodels`\n",
    "\n",
    "You'll often use:\n",
    "\n",
    "- **Pandas DataFrames**: to provide structured tabular data\n",
    "- **Patsy formulas**: string-based syntax like in R (`y ~ x1 + x2`) to define model equations\n"
   ]
  },
  {
   "cell_type": "markdown",
   "metadata": {},
   "source": [
    "## [ Estimating Linear Models ]\n",
    "- There are several kinds of linear regression models in statsmodels, from the more basic (e.g., ordinary least squares) to more complex (e.g., iteratively reweighted least squares).\n",
    "\n",
    "- Linear models in statsmodels have two different main interfaces: array based and formula based. These are accessed through these API module imports:"
   ]
  },
  {
   "cell_type": "code",
   "execution_count": 3,
   "metadata": {},
   "outputs": [],
   "source": [
    "import statsmodels.api as sm \n",
    "import statsmodels.formula.api as smf \n",
    "import numpy as np \n",
    "import pandas as pd "
   ]
  },
  {
   "cell_type": "code",
   "execution_count": 5,
   "metadata": {},
   "outputs": [
    {
     "data": {
      "text/plain": [
       "array([[-0.90050602, -0.18942958, -1.0278702 ],\n",
       "       [ 0.79925205, -1.54598388, -0.32739708],\n",
       "       [-0.55065483, -0.12025429,  0.32935899],\n",
       "       [-0.16391555,  0.82403985,  0.20827485],\n",
       "       [-0.04765129, -0.21314698, -0.04824364]])"
      ]
     },
     "execution_count": 5,
     "metadata": {},
     "output_type": "execute_result"
    }
   ],
   "source": [
    "# to show how to use these, we generate a linear model from some random data.\n",
    "\n",
    "# to make the example reproducible\n",
    "rng = np.random.default_rng(seed=12345)\n",
    "\n",
    "def dnorm(mean, variance, size=1):\n",
    "    if isinstance(size, int):\n",
    "        size = size,\n",
    "    return mean + np.sqrt(variance) * rng.standard_normal(*size)\n",
    "\n",
    "N = 100\n",
    "X = np.c_[dnorm(0, 0.4, size=N),\n",
    "          dnorm(0, 0.6, size=N),\n",
    "          dnorm(0, 0.2, size=N)]\n",
    "eps = dnorm(0, 0.1, size=N)\n",
    "beta = [0.1, 0.3, 0.5]\n",
    "\n",
    "y = np.dot(X, beta) + eps\n",
    "\n",
    "# Here, I wrote down the “true” model with known parameters beta. In this case, dnorm is a helper function for generating normally distributed data with a particular mean and variance. So now we have:\n",
    "X[:5]"
   ]
  },
  {
   "cell_type": "code",
   "execution_count": 6,
   "metadata": {},
   "outputs": [
    {
     "data": {
      "text/plain": [
       "array([-0.59952668, -0.58845445,  0.18563386, -0.00747657, -0.01537445])"
      ]
     },
     "execution_count": 6,
     "metadata": {},
     "output_type": "execute_result"
    }
   ],
   "source": [
    "y[:5]"
   ]
  }
 ],
 "metadata": {
  "kernelspec": {
   "display_name": "env1",
   "language": "python",
   "name": "python3"
  },
  "language_info": {
   "codemirror_mode": {
    "name": "ipython",
    "version": 3
   },
   "file_extension": ".py",
   "mimetype": "text/x-python",
   "name": "python",
   "nbconvert_exporter": "python",
   "pygments_lexer": "ipython3",
   "version": "3.13.2"
  }
 },
 "nbformat": 4,
 "nbformat_minor": 2
}
