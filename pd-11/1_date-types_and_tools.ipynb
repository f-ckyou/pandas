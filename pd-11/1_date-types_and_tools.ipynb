{
 "cells": [
  {
   "cell_type": "markdown",
   "metadata": {},
   "source": [
    "#### Key Points on Time Series Data:\n",
    "\n",
    "- **Widely Used**: Time series data is important in fields like:\n",
    "  - Finance\n",
    "  - Economics\n",
    "  - Ecology\n",
    "  - Neuroscience\n",
    "  - Physics\n",
    "\n",
    "- **Definition**: Time series data consists of values **recorded repeatedly over time**.\n",
    "\n",
    "- **Frequency Types**:\n",
    "  - **Fixed frequency**: Data points occur at **regular intervals** (e.g., every 15 seconds, every 5 minutes, monthly).\n",
    "  - **Irregular frequency**: Data points occur at **uneven or random intervals**.\n",
    "\n",
    "- **Ways to Represent Time in Time Series**:\n",
    "  1. **Timestamps**: Specific points in time (e.g., `\"2023-01-01 10:00:00\"`).\n",
    "  2. **Fixed Periods**: Whole time units (e.g., January 2017, the year 2020).\n",
    "  3. **Intervals**: Defined by a **start and end time** (e.g., from Jan 1 to Jan 10).\n",
    "  4. **Experiment or Elapsed Time**: Time measured **relative to a starting point**, such as seconds after an event (e.g., time since baking began).\n",
    "\n",
    "---\n",
    "\n",
    "- The simplest kind of time series is indexed by timestamp.\n",
    "- pandas also supports indexes based on timedeltas, which can be a useful way of representing experiment or elapsed time.\n",
    "- pandas provides many built-in time series tools and algorithms.\n",
    "- we can efficiently work with large time series, and slice and dice, aggregate, and resample irregular and fixed-frequency time series.\n",
    "\n",
    "- some of the tools are useful for financial and economics application, but you could certainly use them to analyze server log data, too."
   ]
  },
  {
   "cell_type": "code",
   "execution_count": 23,
   "metadata": {},
   "outputs": [],
   "source": [
    "import numpy as np \n",
    "import pandas as pd "
   ]
  },
  {
   "cell_type": "markdown",
   "metadata": {},
   "source": [
    "## [ Date and Time Data Types and Tools ]\n",
    "- the python standard library includes data types for date and time data, as well as calendar-related functionality\n",
    "- the `datetime`, `time`, and `calendar` modules are the main place to start\n",
    "- `datetime.datetime` type is widely used\n",
    "    - it is a class in Python's built-in `datetime` module that represents a single point in time, combining both date and time information\n",
    "    - datetime.datetime = full date + time\n",
    "    - useful for timestamps, event logging, time series, etc\n",
    "    - can be formatted, compared, and manipulated"
   ]
  },
  {
   "cell_type": "code",
   "execution_count": 24,
   "metadata": {},
   "outputs": [
    {
     "data": {
      "text/plain": [
       "datetime.datetime(2025, 4, 14, 16, 27, 35, 590743)"
      ]
     },
     "execution_count": 24,
     "metadata": {},
     "output_type": "execute_result"
    }
   ],
   "source": [
    "from datetime import datetime \n",
    "now = datetime.now()\n",
    "now"
   ]
  },
  {
   "cell_type": "code",
   "execution_count": 25,
   "metadata": {},
   "outputs": [
    {
     "data": {
      "text/plain": [
       "(14, 4, 2025)"
      ]
     },
     "execution_count": 25,
     "metadata": {},
     "output_type": "execute_result"
    }
   ],
   "source": [
    "now.day, now.month, now.year"
   ]
  },
  {
   "cell_type": "markdown",
   "metadata": {},
   "source": [
    "- datetime stores both date and time down to the microsecond\n",
    "- datetime.timedelta represents the temporal difference between two date time objects"
   ]
  },
  {
   "cell_type": "code",
   "execution_count": 26,
   "metadata": {},
   "outputs": [
    {
     "name": "stdout",
     "output_type": "stream",
     "text": [
      "926 days, 15:45:00\n",
      "926\n",
      "56700\n"
     ]
    }
   ],
   "source": [
    "delta = datetime(2011, 1, 7) - datetime(2008, 6, 24, 8, 15)\n",
    "print(delta)\n",
    "\n",
    "print(delta.days)\n",
    "print(delta.seconds)"
   ]
  },
  {
   "cell_type": "code",
   "execution_count": 27,
   "metadata": {},
   "outputs": [
    {
     "data": {
      "text/plain": [
       "datetime.datetime(2007, 1, 19, 0, 0)"
      ]
     },
     "execution_count": 27,
     "metadata": {},
     "output_type": "execute_result"
    }
   ],
   "source": [
    "# you can add (or subtract) a timedelta or multiple thereof to a datetime object to yield a new shifted object\n",
    "from datetime import timedelta\n",
    "\n",
    "start = datetime(2007, 1, 7)\n",
    "start + timedelta(12)"
   ]
  },
  {
   "cell_type": "code",
   "execution_count": 28,
   "metadata": {},
   "outputs": [
    {
     "data": {
      "text/plain": [
       "datetime.datetime(2006, 12, 14, 0, 0)"
      ]
     },
     "execution_count": 28,
     "metadata": {},
     "output_type": "execute_result"
    }
   ],
   "source": [
    "start - 2 * timedelta(12)"
   ]
  },
  {
   "cell_type": "markdown",
   "metadata": {},
   "source": [
    "\n",
    "#### `datetime` Module Types:\n",
    "\n",
    "| Class | Description |\n",
    "|-------|-------------|\n",
    "| **`datetime.datetime`** | Combines **date and time** into one object (includes year, month, day, hour, minute, second, microsecond). |\n",
    "| **`datetime.date`** | Represents a **calendar date** (year, month, day) **without time**. |\n",
    "| **`datetime.time`** | Represents **time only** (hour, minute, second, microsecond) **without date**. |\n",
    "| **`datetime.timedelta`** | Represents a **duration**, i.e., the difference between two dates or times. |\n",
    "| **`datetime.tzinfo`** | An **abstract base class** for handling **time zone information**. Used for timezone-aware datetime objects. |\n",
    "| **`datetime.timezone`** | A subclass of `tzinfo` that represents a **fixed offset** from UTC (e.g., UTC+5:30). |\n"
   ]
  },
  {
   "cell_type": "markdown",
   "metadata": {},
   "source": [
    "## [ Converting Between String and Datetime ]\n",
    "you can format `datetime` objects and pandas `Timestamp` objects, as string using `str` or the `strftime` method, passing a format specification"
   ]
  },
  {
   "cell_type": "code",
   "execution_count": 29,
   "metadata": {},
   "outputs": [
    {
     "data": {
      "text/plain": [
       "'2011-01-03 00:00:00'"
      ]
     },
     "execution_count": 29,
     "metadata": {},
     "output_type": "execute_result"
    }
   ],
   "source": [
    "stamp = datetime(2011, 1, 3)\n",
    "str(stamp)"
   ]
  },
  {
   "cell_type": "code",
   "execution_count": 30,
   "metadata": {},
   "outputs": [
    {
     "data": {
      "text/plain": [
       "'11-01-03'"
      ]
     },
     "execution_count": 30,
     "metadata": {},
     "output_type": "execute_result"
    }
   ],
   "source": [
    "stamp.strftime(\"%y-%m-%d\")"
   ]
  },
  {
   "cell_type": "markdown",
   "metadata": {},
   "source": [
    "\n",
    "#### **Datetime Format Specification Codes**:\n",
    "\n",
    "| Format Code | Meaning | Example |\n",
    "|-------------|---------|---------|\n",
    "| `%a` | Abbreviated weekday name | `Sun`, `Mon` |\n",
    "| `%A` | Full weekday name | `Sunday`, `Monday` |\n",
    "| `%w` | Weekday as a number (0 = Sunday, 6 = Saturday) | `0` to `6` |\n",
    "| `%d` | Day of the month (zero-padded) | `01` to `31` |\n",
    "| `%b` | Abbreviated month name | `Jan`, `Feb` |\n",
    "| `%B` | Full month name | `January`, `February` |\n",
    "| `%m` | Month as a number (zero-padded) | `01` to `12` |\n",
    "| `%y` | Year without century (zero-padded) | `00` to `99` |\n",
    "| `%Y` | Year with century | `2025`, `1999` |\n",
    "| `%H` | Hour (24-hour clock, zero-padded) | `00` to `23` |\n",
    "| `%I` | Hour (12-hour clock, zero-padded) | `01` to `12` |\n",
    "| `%p` | AM or PM | `AM`, `PM` |\n",
    "| `%M` | Minute (zero-padded) | `00` to `59` |\n",
    "| `%S` | Second (zero-padded) | `00` to `59` |\n",
    "| `%f` | Microsecond (zero-padded) | `000000` to `999999` |\n",
    "| `%z` | UTC offset (e.g., `+0530`, `-0400`) | `+0000` |\n",
    "| `%Z` | Time zone name | `UTC`, `EST` |\n",
    "| `%j` | Day of the year (zero-padded) | `001` to `366` |\n",
    "| `%U` | Week number of the year (Sunday as the first day) | `00` to `53` |\n",
    "| `%W` | Week number of the year (Monday as the first day) | `00` to `53` |\n",
    "| `%c` | Locale’s date and time | `Mon Apr 14 15:30:00 2025` |\n",
    "| `%x` | Locale’s date | `04/14/25` (varies by locale) |\n",
    "| `%X` | Locale’s time | `15:30:00` (varies by locale) |\n",
    "| `%%` | Literal `%` character | `%` |\n"
   ]
  },
  {
   "cell_type": "code",
   "execution_count": 31,
   "metadata": {},
   "outputs": [
    {
     "data": {
      "text/plain": [
       "datetime.datetime(2011, 1, 3, 0, 0)"
      ]
     },
     "execution_count": 31,
     "metadata": {},
     "output_type": "execute_result"
    }
   ],
   "source": [
    "# you can use many of the same format codes to convert strings to dates using datetime.strptime (but come codes, like %F, can't be used)\n",
    "\n",
    "value = \"2011-01-03\"\n",
    "datetime.strptime(value, \"%Y-%m-%d\") # %y - 2 digit year\n",
    "                                     # %Y - 4 digit year"
   ]
  },
  {
   "cell_type": "code",
   "execution_count": 32,
   "metadata": {},
   "outputs": [
    {
     "data": {
      "text/plain": [
       "[datetime.datetime(2011, 7, 6, 0, 0), datetime.datetime(2011, 8, 6, 0, 0)]"
      ]
     },
     "execution_count": 32,
     "metadata": {},
     "output_type": "execute_result"
    }
   ],
   "source": [
    "datestrs = [\"7/6/2011\", \"8/6/2011\"]\n",
    "[datetime.strptime(x, \"%m/%d/%Y\") for x in datestrs]"
   ]
  },
  {
   "cell_type": "markdown",
   "metadata": {},
   "source": [
    "- datetime.strptime is one way to parse a date with a known format\n",
    "- pandas is generally oriented toward working  with arrays of dates, whether used as an axis index or a column in a DataFrame.\n",
    "- the `pd.to_datetime` method parses many different kinds of date representations.\n",
    "- Standard date formats like ISO 8601 can be parsed quickly"
   ]
  },
  {
   "cell_type": "code",
   "execution_count": 34,
   "metadata": {},
   "outputs": [
    {
     "data": {
      "text/plain": [
       "DatetimeIndex(['2011-07-06 12:00:00', '2011-08-06 00:00:00'], dtype='datetime64[ns]', freq=None)"
      ]
     },
     "execution_count": 34,
     "metadata": {},
     "output_type": "execute_result"
    }
   ],
   "source": [
    "datestrs = [\"2011-07-06 12:00:00\", \"2011-08-06 00:00:00\"]\n",
    "pd.to_datetime(datestrs)"
   ]
  },
  {
   "cell_type": "code",
   "execution_count": 35,
   "metadata": {},
   "outputs": [
    {
     "data": {
      "text/plain": [
       "DatetimeIndex(['2011-07-06 12:00:00', '2011-08-06 00:00:00', 'NaT'], dtype='datetime64[ns]', freq=None)"
      ]
     },
     "execution_count": 35,
     "metadata": {},
     "output_type": "execute_result"
    }
   ],
   "source": [
    "# it also handles values that should be considered missing (None, empty string, etc)\n",
    "idx = pd.to_datetime(datestrs + [None])\n",
    "idx"
   ]
  },
  {
   "cell_type": "code",
   "execution_count": 38,
   "metadata": {},
   "outputs": [
    {
     "name": "stdout",
     "output_type": "stream",
     "text": [
      "2011-08-06 00:00:00\n",
      "NaT\n"
     ]
    }
   ],
   "source": [
    "print(idx[1])\n",
    "print(idx[2])   # NaT (Not a Time) is pandas's null value for timestamp data"
   ]
  },
  {
   "cell_type": "code",
   "execution_count": 39,
   "metadata": {},
   "outputs": [
    {
     "data": {
      "text/plain": [
       "array([False, False,  True])"
      ]
     },
     "execution_count": 39,
     "metadata": {},
     "output_type": "execute_result"
    }
   ],
   "source": [
    "pd.isna(idx)"
   ]
  },
  {
   "cell_type": "markdown",
   "metadata": {},
   "source": [
    "- datetime objects also have a number of locale-specific formatting options for systems in other countries or languages.\n",
    "- for ex; the abbreviated month names will be different on German or French systems compared with English systems."
   ]
  }
 ],
 "metadata": {
  "kernelspec": {
   "display_name": "env1",
   "language": "python",
   "name": "python3"
  },
  "language_info": {
   "codemirror_mode": {
    "name": "ipython",
    "version": 3
   },
   "file_extension": ".py",
   "mimetype": "text/x-python",
   "name": "python",
   "nbconvert_exporter": "python",
   "pygments_lexer": "ipython3",
   "version": "3.13.2"
  }
 },
 "nbformat": 4,
 "nbformat_minor": 2
}
