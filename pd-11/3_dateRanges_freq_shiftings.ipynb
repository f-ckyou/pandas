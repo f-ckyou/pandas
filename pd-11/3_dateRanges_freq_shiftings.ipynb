{
 "cells": [
  {
   "cell_type": "markdown",
   "metadata": {},
   "source": [
    "## [ Date Ranges, Frequencies, and Shifting ]\n",
    "- In pandas, a **generic time series** is one where the time points (timestamps) **do not follow a regular pattern**.  \n",
    "  → For example, data collected on random days.\n",
    "\n",
    "- This is **okay for many cases**, like when data is naturally irregular (e.g., manual logs, alerts, etc.).\n",
    "\n",
    "- But **sometimes we want to work with a fixed rhythm**, like:\n",
    "  - **daily**\n",
    "  - **monthly**\n",
    "  - **every 15 minutes**, etc.\n",
    "\n",
    "- Even if that means **some time points will be missing**, it’s still useful for:\n",
    "  - consistent analysis\n",
    "  - plotting\n",
    "  - comparing across equal time intervals\n",
    "\n",
    "- **Good news:**  \n",
    "  Pandas provides **many built-in frequencies** and tools (like `.resample()`, `.asfreq()`) to **convert** or **reorganize** your time series into fixed intervals.\n",
    "\n",
    "\n",
    "#### Bottom Line:\n",
    "- Generic time series = irregular dates.\n",
    "- Fixed-frequency = regular intervals (daily, monthly, etc.).\n",
    "- Pandas can **convert between them** using powerful tools like `resample()`.\n",
    "\n",
    "---\n",
    "\n",
    "#### Generic Time Series in Pandas \n",
    "- In pandas it is simply a Series or DataFrame that uses date/time values as the index, but is not tied to any specific frequency (like daily, weekly, monthly, etc)\n",
    "- It's just time-stamped data, ordered by time, but not necessarily at fixed intervals.\n",
    "\n",
    "#### Contrast With Fixed-Frequency Time Series\n",
    "- Fixed frequency: Data collected every day, every hour, etc. -> `freq='D'`, `freq='H'`\n",
    "- Generic: Dates can be random or unevenly spaced\n",
    "\n",
    "#### Summary\n",
    "- A generic time series is any time-indexed data in pandas\n",
    "- Useful when data is recorded irregularly (e.g., sensor readings, manual logs)\n",
    "- You can still sort, slice, and analyze it like regular time series"
   ]
  },
  {
   "cell_type": "code",
   "execution_count": 56,
   "metadata": {},
   "outputs": [
    {
     "data": {
      "text/plain": [
       "2011-01-02   -1.319853\n",
       "2011-01-05    1.093538\n",
       "2011-01-07    0.200472\n",
       "2011-01-08   -1.563153\n",
       "2011-01-10    0.471333\n",
       "2011-01-12   -0.841870\n",
       "dtype: float64"
      ]
     },
     "execution_count": 56,
     "metadata": {},
     "output_type": "execute_result"
    }
   ],
   "source": [
    "import numpy as np \n",
    "import pandas as pd \n",
    "from datetime import datetime \n",
    "\n",
    "dates = [datetime(2011, 1, 2), datetime(2011, 1, 5),\n",
    "         datetime(2011, 1, 7), datetime(2011, 1, 8),\n",
    "         datetime(2011, 1, 10), datetime(2011, 1, 12)]\n",
    "\n",
    "ts = pd.Series(np.random.standard_normal(6), index=dates)\n",
    "ts"
   ]
  },
  {
   "cell_type": "code",
   "execution_count": 57,
   "metadata": {},
   "outputs": [
    {
     "data": {
      "text/plain": [
       "<pandas.core.resample.DatetimeIndexResampler object at 0x7523b36f5810>"
      ]
     },
     "execution_count": 57,
     "metadata": {},
     "output_type": "execute_result"
    }
   ],
   "source": [
    "# we can convert the sample time series to fixed daily frequency by calling 'resample'\n",
    "resampler = ts.resample(\"D\")\n",
    "resampler\n",
    "# the string \"D\" is interpreted as daily frequency\n",
    "\n",
    "# conversion between frequenciess or resampling is a big enough topic to have its own section later\n",
    "# first we have to learn, how to use the base frequencies and multiple thereof"
   ]
  },
  {
   "cell_type": "markdown",
   "metadata": {},
   "source": [
    "## [ Generating Date Ranges ]\n",
    "It is responsible for generating a DatetimeIndex with an indicated length according to a particular frequency"
   ]
  },
  {
   "cell_type": "code",
   "execution_count": 58,
   "metadata": {},
   "outputs": [
    {
     "data": {
      "text/plain": [
       "DatetimeIndex(['2025-04-01', '2025-04-02', '2025-04-03', '2025-04-04',\n",
       "               '2025-04-05', '2025-04-06', '2025-04-07', '2025-04-08',\n",
       "               '2025-04-09', '2025-04-10', '2025-04-11', '2025-04-12',\n",
       "               '2025-04-13', '2025-04-14', '2025-04-15', '2025-04-16',\n",
       "               '2025-04-17', '2025-04-18', '2025-04-19', '2025-04-20',\n",
       "               '2025-04-21', '2025-04-22', '2025-04-23', '2025-04-24',\n",
       "               '2025-04-25', '2025-04-26', '2025-04-27', '2025-04-28',\n",
       "               '2025-04-29', '2025-04-30', '2025-05-01', '2025-05-02',\n",
       "               '2025-05-03', '2025-05-04', '2025-05-05', '2025-05-06',\n",
       "               '2025-05-07', '2025-05-08', '2025-05-09', '2025-05-10',\n",
       "               '2025-05-11', '2025-05-12', '2025-05-13', '2025-05-14',\n",
       "               '2025-05-15', '2025-05-16', '2025-05-17', '2025-05-18',\n",
       "               '2025-05-19', '2025-05-20', '2025-05-21', '2025-05-22',\n",
       "               '2025-05-23', '2025-05-24', '2025-05-25', '2025-05-26',\n",
       "               '2025-05-27', '2025-05-28', '2025-05-29', '2025-05-30',\n",
       "               '2025-05-31', '2025-06-01'],\n",
       "              dtype='datetime64[ns]', freq='D')"
      ]
     },
     "execution_count": 58,
     "metadata": {},
     "output_type": "execute_result"
    }
   ],
   "source": [
    "index = pd.date_range(\"2025-04-01\", \"2025-06-01\")\n",
    "index"
   ]
  },
  {
   "cell_type": "code",
   "execution_count": 59,
   "metadata": {},
   "outputs": [
    {
     "data": {
      "text/plain": [
       "DatetimeIndex(['2025-04-01', '2025-04-02', '2025-04-03', '2025-04-04',\n",
       "               '2025-04-05', '2025-04-06', '2025-04-07', '2025-04-08',\n",
       "               '2025-04-09', '2025-04-10', '2025-04-11', '2025-04-12',\n",
       "               '2025-04-13', '2025-04-14', '2025-04-15', '2025-04-16',\n",
       "               '2025-04-17', '2025-04-18', '2025-04-19', '2025-04-20'],\n",
       "              dtype='datetime64[ns]', freq='D')"
      ]
     },
     "execution_count": 59,
     "metadata": {},
     "output_type": "execute_result"
    }
   ],
   "source": [
    "# by default, pandas.date_range generates daily timestamps.\n",
    "# if we pass only a start or end date, we must pass a number of periods to generate\n",
    "\n",
    "pd.date_range(start=\"2025-04-01\", periods=20)"
   ]
  },
  {
   "cell_type": "code",
   "execution_count": 60,
   "metadata": {},
   "outputs": [
    {
     "data": {
      "text/plain": [
       "DatetimeIndex(['2025-04-01', '2025-04-02', '2025-04-03', '2025-04-04',\n",
       "               '2025-04-05', '2025-04-06', '2025-04-07', '2025-04-08',\n",
       "               '2025-04-09', '2025-04-10', '2025-04-11', '2025-04-12',\n",
       "               '2025-04-13', '2025-04-14', '2025-04-15', '2025-04-16',\n",
       "               '2025-04-17', '2025-04-18', '2025-04-19', '2025-04-20'],\n",
       "              dtype='datetime64[ns]', freq='D')"
      ]
     },
     "execution_count": 60,
     "metadata": {},
     "output_type": "execute_result"
    }
   ],
   "source": [
    "pd.date_range(end=\"2025-04-20\", periods=20)"
   ]
  },
  {
   "cell_type": "code",
   "execution_count": 61,
   "metadata": {},
   "outputs": [
    {
     "data": {
      "text/plain": [
       "DatetimeIndex(['2024-01-31', '2024-02-29', '2024-03-29', '2024-04-30',\n",
       "               '2024-05-31', '2024-06-28', '2024-07-31', '2024-08-30',\n",
       "               '2024-09-30', '2024-10-31', '2024-11-29', '2024-12-31',\n",
       "               '2025-01-31', '2025-02-28', '2025-03-31', '2025-04-30',\n",
       "               '2025-05-30', '2025-06-30', '2025-07-31', '2025-08-29',\n",
       "               '2025-09-30', '2025-10-31', '2025-11-28', '2025-12-31'],\n",
       "              dtype='datetime64[ns]', freq='BME')"
      ]
     },
     "execution_count": 61,
     "metadata": {},
     "output_type": "execute_result"
    }
   ],
   "source": [
    "# the start and end dates define strict boundaries for the generated date index.\n",
    "# example:\n",
    "    # if you wanted a date index containing the last business day of each month, you would pass the \"BME\" frequency  and only dates falling on or inside the date interval will be included\n",
    "\n",
    "pd.date_range(\"2024-01-01\", \"2026-01-01\", freq=\"BME\")"
   ]
  },
  {
   "cell_type": "markdown",
   "metadata": {},
   "source": [
    "\n",
    "###  **Date Offset Aliases (Frequencies) in Pandas**\n",
    "\n",
    "#### 📅 **Calendar Frequencies**\n",
    "\n",
    "| Code      | Description                         |\n",
    "|-----------|-------------------------------------|\n",
    "| `B`       | Business day frequency              |\n",
    "| `C`       | Custom business day (requires calendar) |\n",
    "| `D`       | Calendar day frequency              |\n",
    "| `W`       | Weekly frequency                    |\n",
    "| `W-MON`...`W-SUN` | Weekly on specific weekday   |\n",
    "| `M`       | Month end frequency                 |\n",
    "| `MS`      | Month start frequency               |\n",
    "| `BM`      | Business month end frequency        |\n",
    "| `BMS`     | Business month start frequency      |\n",
    "| `CBM`     | Custom business month end frequency |\n",
    "| `CBMS`    | Custom business month start frequency|\n",
    "| `Q`       | Quarter end frequency               |\n",
    "| `QS`      | Quarter start frequency             |\n",
    "| `BQ`      | Business quarter end frequency      |\n",
    "| `BQS`     | Business quarter start frequency    |\n",
    "| `A` or `Y`| Year end frequency                  |\n",
    "| `AS` or `YS` | Year start frequency             |\n",
    "| `BA` or `BY`| Business year end frequency       |\n",
    "| `BAS` or `BYS` | Business year start frequency  |\n",
    "| `BH`      | Business hour frequency             |\n",
    "\n",
    "\n",
    "\n",
    "#### ⏰ **Time Frequencies**\n",
    "\n",
    "| Code      | Description                         |\n",
    "|-----------|-------------------------------------|\n",
    "| `H`       | Hourly frequency                    |\n",
    "| `T` or `min` | Minutely frequency               |\n",
    "| `S`       | Secondly frequency                  |\n",
    "| `L` or `ms` | Millisecond frequency             |\n",
    "| `U` or `us` | Microsecond frequency             |\n",
    "| `N`       | Nanosecond frequency                |\n",
    "\n",
    "\n",
    "#### 🧪 **Special / Experimental Frequencies**\n",
    "\n",
    "| Code      | Description                         |\n",
    "|-----------|-------------------------------------|\n",
    "| `WOM-1MON` to `WOM-5SUN` | Week of month (e.g., 2nd Friday of month) |\n",
    "| `Q-JAN`, `Q-FEB`, ..., `Q-DEC` | Quarter ending in a specific month |\n",
    "| `A-JAN`, `A-FEB`, ..., `A-DEC` | Year ending in a specific month    |\n",
    "\n",
    "\n",
    "#### 🛠️ **Custom Frequencies**\n",
    "\n",
    "You can also define **custom intervals** using multiples:\n",
    "\n",
    "| Example  | Meaning                            |\n",
    "|----------|------------------------------------|\n",
    "| `2D`     | Every 2 days                       |\n",
    "| `15T`    | Every 15 minutes                   |\n",
    "| `3H`     | Every 3 hours                      |\n",
    "| `10S`    | Every 10 seconds                   |\n",
    "| `5B`     | Every 5 business days              |\n",
    "\n",
    "\n",
    "### 📝 Notes:\n",
    "\n",
    "- Some composite/custom frequencies (like `2W-MON`) are also valid.\n",
    "- `C`, `CBM`, `CBMS`, `CBQ`, `CBQS` require a custom business calendar.\n",
    "- For business/financial data, these variations are helpful for real-world schedules.\n"
   ]
  },
  {
   "cell_type": "code",
   "execution_count": 62,
   "metadata": {},
   "outputs": [
    {
     "data": {
      "text/plain": [
       "DatetimeIndex(['2025-05-02 12:56:31', '2025-05-03 12:56:31',\n",
       "               '2025-05-04 12:56:31', '2025-05-05 12:56:31',\n",
       "               '2025-05-06 12:56:31'],\n",
       "              dtype='datetime64[ns]', freq='D')"
      ]
     },
     "execution_count": 62,
     "metadata": {},
     "output_type": "execute_result"
    }
   ],
   "source": [
    "# pandas.date_range by default preserves the time (if any) of the start or end timestamp\n",
    "pd.date_range(\"2025-05-02 12:56:31\", periods=5)"
   ]
  },
  {
   "cell_type": "code",
   "execution_count": 63,
   "metadata": {},
   "outputs": [
    {
     "data": {
      "text/plain": [
       "DatetimeIndex(['2025-01-01', '2025-01-02', '2025-01-03', '2025-01-04',\n",
       "               '2025-01-05'],\n",
       "              dtype='datetime64[ns]', freq='D')"
      ]
     },
     "execution_count": 63,
     "metadata": {},
     "output_type": "execute_result"
    }
   ],
   "source": [
    "# sometimes we will have start or end dates with time information but want to generate a set of timestamps normalized to midnight as a convention.\n",
    "# to do this, there is a normalize option\n",
    "\n",
    "pd.date_range(\"2025-01-01 12:56:31\", periods=5, normalize=True)\n",
    "\n",
    "# When you create or work with timestamps (dates and times), some may include time parts like 10:30 AM, 15:00, etc. But in many time series tasks, we don't need the time — we only care about the date part, and we want all timestamps to be set to midnight (00:00:00).\n",
    "\n",
    "# This is called normalizing the timestamp."
   ]
  },
  {
   "cell_type": "markdown",
   "metadata": {},
   "source": [
    "## [ Frequencies and Date Offsets ]\n",
    "- frequencies in pandas are composed of a \"base frequency\" and a multiplier\n",
    "- base frequencies are typically referred to by a string alias, like \"M\" for monthly or \"H\" for hourly.\n",
    "- for each base frequency, there is an object referred to as a `date offset`. "
   ]
  },
  {
   "cell_type": "code",
   "execution_count": 64,
   "metadata": {},
   "outputs": [
    {
     "data": {
      "text/plain": [
       "<Hour>"
      ]
     },
     "execution_count": 64,
     "metadata": {},
     "output_type": "execute_result"
    }
   ],
   "source": [
    "# for example, hourly frequency can be represented with the Hour class\n",
    "from pandas.tseries.offsets import Hour, Minute\n",
    "hour = Hour()\n",
    "hour"
   ]
  },
  {
   "cell_type": "code",
   "execution_count": 65,
   "metadata": {},
   "outputs": [
    {
     "data": {
      "text/plain": [
       "<4 * Hours>"
      ]
     },
     "execution_count": 65,
     "metadata": {},
     "output_type": "execute_result"
    }
   ],
   "source": [
    "# we can define a multiple of an offset by passing an integer\n",
    "four_hours = Hour(4)\n",
    "four_hours"
   ]
  },
  {
   "cell_type": "code",
   "execution_count": 66,
   "metadata": {},
   "outputs": [
    {
     "data": {
      "text/plain": [
       "DatetimeIndex(['2025-01-01 00:00:00', '2025-01-01 04:00:00',\n",
       "               '2025-01-01 08:00:00', '2025-01-01 12:00:00',\n",
       "               '2025-01-01 16:00:00', '2025-01-01 20:00:00',\n",
       "               '2025-01-02 00:00:00', '2025-01-02 04:00:00',\n",
       "               '2025-01-02 08:00:00', '2025-01-02 12:00:00',\n",
       "               '2025-01-02 16:00:00', '2025-01-02 20:00:00',\n",
       "               '2025-01-03 00:00:00', '2025-01-03 04:00:00',\n",
       "               '2025-01-03 08:00:00', '2025-01-03 12:00:00',\n",
       "               '2025-01-03 16:00:00', '2025-01-03 20:00:00',\n",
       "               '2025-01-04 00:00:00', '2025-01-04 04:00:00',\n",
       "               '2025-01-04 08:00:00', '2025-01-04 12:00:00',\n",
       "               '2025-01-04 16:00:00', '2025-01-04 20:00:00'],\n",
       "              dtype='datetime64[ns]', freq='4h')"
      ]
     },
     "execution_count": 66,
     "metadata": {},
     "output_type": "execute_result"
    }
   ],
   "source": [
    "# in most applications, you would never need to explicitly create one of these objects; instead you'd use a string like \"H\" or \"4H\".\n",
    "#putting an integer before the base frequency creates a multiple \n",
    "\n",
    "pd.date_range(\"2025-01-01\", \"2025-01-04 23:59\", freq=\"4h\")"
   ]
  },
  {
   "cell_type": "code",
   "execution_count": 67,
   "metadata": {},
   "outputs": [
    {
     "data": {
      "text/plain": [
       "<150 * Minutes>"
      ]
     },
     "execution_count": 67,
     "metadata": {},
     "output_type": "execute_result"
    }
   ],
   "source": [
    "# many offsets can be combined by addition\n",
    "Hour(2) + Minute(30)"
   ]
  },
  {
   "cell_type": "code",
   "execution_count": 68,
   "metadata": {},
   "outputs": [
    {
     "data": {
      "text/plain": [
       "DatetimeIndex(['2000-01-01 00:00:00', '2000-01-01 01:30:00',\n",
       "               '2000-01-01 03:00:00', '2000-01-01 04:30:00',\n",
       "               '2000-01-01 06:00:00', '2000-01-01 07:30:00',\n",
       "               '2000-01-01 09:00:00', '2000-01-01 10:30:00',\n",
       "               '2000-01-01 12:00:00', '2000-01-01 13:30:00'],\n",
       "              dtype='datetime64[ns]', freq='90min')"
      ]
     },
     "execution_count": 68,
     "metadata": {},
     "output_type": "execute_result"
    }
   ],
   "source": [
    "# similarly, we can pass frequency strings, like \"1h30min\", that will efectively be parsed to the same expression\n",
    "\n",
    "pd.date_range(\"2000-01-01\", periods=10, freq=\"1h30min\")"
   ]
  },
  {
   "cell_type": "markdown",
   "metadata": {},
   "source": [
    "- some frequencies describe points in time that are not evenly spaced.\n",
    "- for example, \"M\" (calendar month end) and \"BM\" (last business/weekday of month) depend on the number of days in a month and, in the latter case, whether the month ends on a weekend or not.\n",
    "- We refer to these as anchored offsets.\n",
    "- Users can define their own custom frequency classes to provide date logic not available in pandas"
   ]
  },
  {
   "cell_type": "code",
   "execution_count": 69,
   "metadata": {},
   "outputs": [
    {
     "data": {
      "text/plain": [
       "[Timestamp('2025-01-17 00:00:00'),\n",
       " Timestamp('2025-02-21 00:00:00'),\n",
       " Timestamp('2025-03-21 00:00:00'),\n",
       " Timestamp('2025-04-18 00:00:00'),\n",
       " Timestamp('2025-05-16 00:00:00'),\n",
       " Timestamp('2025-06-20 00:00:00'),\n",
       " Timestamp('2025-07-18 00:00:00'),\n",
       " Timestamp('2025-08-15 00:00:00'),\n",
       " Timestamp('2025-09-19 00:00:00')]"
      ]
     },
     "execution_count": 69,
     "metadata": {},
     "output_type": "execute_result"
    }
   ],
   "source": [
    "## Week of month dates\n",
    "    # one useful frequency class is \"week of month\" starting with WOM. \n",
    "    # this enables you to get dates like the third Friday of each month\n",
    "\n",
    "monthly_dates = pd.date_range(\"2025-01-01\", \"2025-10-01\", freq=\"WOM-3FRI\")\n",
    "# monthly_dates\n",
    "list(monthly_dates)"
   ]
  },
  {
   "cell_type": "markdown",
   "metadata": {},
   "source": [
    "## [ Shifting (Leading and Lagging) Data ]\n",
    "- 'Shifting' refers to moving data backward and forward through time.\n",
    "- Both Series and DataFrame have a 'shift' method for doing naive shifts forward or backward, leaving the index unmodified"
   ]
  },
  {
   "cell_type": "code",
   "execution_count": 70,
   "metadata": {},
   "outputs": [
    {
     "data": {
      "text/plain": [
       "2000-01-01    1.405658\n",
       "2000-02-01   -0.739220\n",
       "2000-03-01    0.927926\n",
       "2000-04-01    0.656792\n",
       "Freq: MS, dtype: float64"
      ]
     },
     "execution_count": 70,
     "metadata": {},
     "output_type": "execute_result"
    }
   ],
   "source": [
    "ts = pd.Series(np.random.standard_normal(4), index=pd.date_range(\"2000-01-01\", periods=4, freq=\"MS\"))\n",
    "ts"
   ]
  },
  {
   "cell_type": "code",
   "execution_count": 71,
   "metadata": {},
   "outputs": [
    {
     "data": {
      "text/plain": [
       "2000-01-01         NaN\n",
       "2000-02-01         NaN\n",
       "2000-03-01    1.405658\n",
       "2000-04-01   -0.739220\n",
       "Freq: MS, dtype: float64"
      ]
     },
     "execution_count": 71,
     "metadata": {},
     "output_type": "execute_result"
    }
   ],
   "source": [
    "ts.shift(2)"
   ]
  },
  {
   "cell_type": "code",
   "execution_count": 72,
   "metadata": {},
   "outputs": [
    {
     "data": {
      "text/plain": [
       "2000-01-01    0.927926\n",
       "2000-02-01    0.656792\n",
       "2000-03-01         NaN\n",
       "2000-04-01         NaN\n",
       "Freq: MS, dtype: float64"
      ]
     },
     "execution_count": 72,
     "metadata": {},
     "output_type": "execute_result"
    }
   ],
   "source": [
    "ts.shift(-2)"
   ]
  },
  {
   "cell_type": "markdown",
   "metadata": {},
   "source": [
    "When we shift like this, missing data is introduced either at the start or the end of the time series.\n"
   ]
  },
  {
   "cell_type": "markdown",
   "metadata": {},
   "source": [
    "- A common use of `shift` is calculating the percentage change between each value and the one before it in a time series or multiple time series as DataFrame columns\n",
    "- This is expressed as: `ts / ts.shift(1) - 1`"
   ]
  },
  {
   "cell_type": "code",
   "execution_count": 73,
   "metadata": {},
   "outputs": [
    {
     "name": "stdout",
     "output_type": "stream",
     "text": [
      "2000-01-01    1.405658\n",
      "2000-02-01   -0.739220\n",
      "2000-03-01    0.927926\n",
      "2000-04-01    0.656792\n",
      "Freq: MS, dtype: float64\n",
      "2000-01-01         NaN\n",
      "2000-02-01   -1.525889\n",
      "2000-03-01   -2.255278\n",
      "2000-04-01   -0.292194\n",
      "Freq: MS, dtype: float64\n"
     ]
    }
   ],
   "source": [
    "print(ts)\n",
    "print(ts / ts.shift(1) - 1)"
   ]
  },
  {
   "cell_type": "markdown",
   "metadata": {},
   "source": [
    "- Naive Shift (default behavior)\n",
    "    - this shifts the data values down by 1 but leaves the index (timestamps) unchanged.\n",
    "    - The first value becomes NaN because there's no earlier data to use\n",
    "\n",
    "- Timestamp-Aware Shift\n",
    "    - if your time series has a known frequency, you can pass it to `shift()`\n",
    "    - instead of moving data down, move the timestamps forward by 1 .."
   ]
  },
  {
   "cell_type": "code",
   "execution_count": 74,
   "metadata": {},
   "outputs": [
    {
     "data": {
      "text/plain": [
       "2000-03-01    1.405658\n",
       "2000-04-01   -0.739220\n",
       "2000-05-01    0.927926\n",
       "2000-06-01    0.656792\n",
       "Freq: MS, dtype: float64"
      ]
     },
     "execution_count": 74,
     "metadata": {},
     "output_type": "execute_result"
    }
   ],
   "source": [
    "ts.shift(2, freq=\"MS\")"
   ]
  },
  {
   "cell_type": "code",
   "execution_count": 75,
   "metadata": {},
   "outputs": [
    {
     "data": {
      "text/plain": [
       "2000-01-04    1.405658\n",
       "2000-02-04   -0.739220\n",
       "2000-03-04    0.927926\n",
       "2000-04-04    0.656792\n",
       "dtype: float64"
      ]
     },
     "execution_count": 75,
     "metadata": {},
     "output_type": "execute_result"
    }
   ],
   "source": [
    "# other frequencies can be passed, too, giving you some flexibility in how to lead and lag the data\n",
    "ts.shift(3, freq=\"D\")"
   ]
  },
  {
   "cell_type": "code",
   "execution_count": 76,
   "metadata": {},
   "outputs": [
    {
     "data": {
      "text/plain": [
       "2000-01-01 01:30:00    1.405658\n",
       "2000-02-01 01:30:00   -0.739220\n",
       "2000-03-01 01:30:00    0.927926\n",
       "2000-04-01 01:30:00    0.656792\n",
       "dtype: float64"
      ]
     },
     "execution_count": 76,
     "metadata": {},
     "output_type": "execute_result"
    }
   ],
   "source": [
    "ts.shift(1, freq=\"90min\")"
   ]
  },
  {
   "cell_type": "markdown",
   "metadata": {},
   "source": [
    "### Shifting Dates with Offsets\n",
    "- pandas provide special objects like `MonthEnd`, `YearBegin`, `Week`, etc., to represent **calendar-based time offsets** (called **anchored offsets**).\n",
    "- we can add these to `datetime` of `Timestamp` objects to shift dates according to calendar logic\n",
    "\n",
    "##### What does \"roll forward\" mean?\n",
    "if you add an offset like MonthEnd() to a date that is not already the end of the month, pandas will \"roll forward\" to the next month-end\n",
    "\n",
    "##### Summary\n",
    "- Anchored offset (like MonthEnd) aligns with a calendar rule.\n",
    "- If the date is not aligned, it rolls forward to the next valid date.\n",
    "- Useful for financial, monthly reporting, forecasting, etc"
   ]
  },
  {
   "cell_type": "code",
   "execution_count": 77,
   "metadata": {},
   "outputs": [
    {
     "data": {
      "text/plain": [
       "Timestamp('2025-04-18 00:00:00')"
      ]
     },
     "execution_count": 77,
     "metadata": {},
     "output_type": "execute_result"
    }
   ],
   "source": [
    "# the pandas date offsets can also be used with datetime or Timestamp objects\n",
    "from pandas.tseries.offsets import Day, MonthEnd\n",
    "\n",
    "now = datetime(2025, 4, 15)\n",
    "\n",
    "now + 3 * Day()"
   ]
  },
  {
   "cell_type": "markdown",
   "metadata": {},
   "source": [
    "- In pandas, an offset is a special object that represents a time-based increment -- like \"1 day\", \"2 months\", etc.\n",
    "- An offset is a rule-based time interval you can add to or subtract from a date (like a `datetime` or `Timestamp`) to move forward or backward in time.\n",
    "\n",
    "- Why use offsets?\n",
    "    - To shift dates meaningfully (e.g., to the end of the month).\n",
    "    - To resample time series (e.g., daily to monthly)\n",
    "    - To generate date ranges (e.g., every 3rd Friday).\n",
    "    - To align irregular dates to regular calendar periods."
   ]
  },
  {
   "cell_type": "code",
   "execution_count": 78,
   "metadata": {},
   "outputs": [
    {
     "data": {
      "text/plain": [
       "Timestamp('2025-04-30 00:00:00')"
      ]
     },
     "execution_count": 78,
     "metadata": {},
     "output_type": "execute_result"
    }
   ],
   "source": [
    "# If you add an anchored offset like MonthEnd, the first increment will “roll forward” a date to the next date according to the frequency rule\n",
    "\n",
    "now + MonthEnd()"
   ]
  },
  {
   "cell_type": "code",
   "execution_count": 79,
   "metadata": {},
   "outputs": [
    {
     "data": {
      "text/plain": [
       "Timestamp('2025-05-31 00:00:00')"
      ]
     },
     "execution_count": 79,
     "metadata": {},
     "output_type": "execute_result"
    }
   ],
   "source": [
    "now + MonthEnd(2)"
   ]
  },
  {
   "cell_type": "code",
   "execution_count": 80,
   "metadata": {},
   "outputs": [
    {
     "data": {
      "text/plain": [
       "Timestamp('2025-04-30 00:00:00')"
      ]
     },
     "execution_count": 80,
     "metadata": {},
     "output_type": "execute_result"
    }
   ],
   "source": [
    "# anchored offsets can explicitly \"roll\" dates forward or backward by simply using their `rollforward` and `rollback` methods, respectively\n",
    "\n",
    "offset = MonthEnd()\n",
    "\n",
    "offset.rollforward(now)"
   ]
  },
  {
   "cell_type": "code",
   "execution_count": 81,
   "metadata": {},
   "outputs": [
    {
     "data": {
      "text/plain": [
       "Timestamp('2025-03-31 00:00:00')"
      ]
     },
     "execution_count": 81,
     "metadata": {},
     "output_type": "execute_result"
    }
   ],
   "source": [
    "offset.rollback(now)"
   ]
  },
  {
   "cell_type": "code",
   "execution_count": 82,
   "metadata": {},
   "outputs": [
    {
     "data": {
      "text/plain": [
       "2000-01-15    0.510918\n",
       "2000-01-19   -0.574625\n",
       "2000-01-23    1.115692\n",
       "2000-01-27    0.627061\n",
       "2000-01-31    1.934287\n",
       "2000-02-04    0.418243\n",
       "2000-02-08   -0.049342\n",
       "2000-02-12    0.516524\n",
       "2000-02-16    0.576193\n",
       "2000-02-20    0.043990\n",
       "2000-02-24   -1.297040\n",
       "2000-02-28    0.352054\n",
       "2000-03-03    1.245451\n",
       "2000-03-07   -0.286880\n",
       "2000-03-11    0.090543\n",
       "2000-03-15   -1.114484\n",
       "2000-03-19    0.535872\n",
       "2000-03-23    0.706531\n",
       "2000-03-27    1.092861\n",
       "2000-03-31   -0.062034\n",
       "Freq: 4D, dtype: float64"
      ]
     },
     "execution_count": 82,
     "metadata": {},
     "output_type": "execute_result"
    }
   ],
   "source": [
    "# a creative use of date offsets is to use these methods with groupby\n",
    "\n",
    "ts = pd.Series(np.random.standard_normal(20), index=pd.date_range(\"2000-01-15\", periods=20, freq=\"4d\"))\n",
    "\n",
    "ts"
   ]
  },
  {
   "cell_type": "code",
   "execution_count": 83,
   "metadata": {},
   "outputs": [
    {
     "data": {
      "text/plain": [
       "2000-01-31    0.722667\n",
       "2000-02-29    0.080089\n",
       "2000-03-31    0.275982\n",
       "dtype: float64"
      ]
     },
     "execution_count": 83,
     "metadata": {},
     "output_type": "execute_result"
    }
   ],
   "source": [
    "ts.groupby(MonthEnd().rollforward).mean()"
   ]
  },
  {
   "cell_type": "code",
   "execution_count": 84,
   "metadata": {},
   "outputs": [
    {
     "data": {
      "text/plain": [
       "2000-01-31    0.722667\n",
       "2000-02-29    0.080089\n",
       "2000-03-31    0.275982\n",
       "Freq: ME, dtype: float64"
      ]
     },
     "execution_count": 84,
     "metadata": {},
     "output_type": "execute_result"
    }
   ],
   "source": [
    "# an easier and faster way to do this is with resample\n",
    "\n",
    "ts.resample(\"ME\").mean()"
   ]
  }
 ],
 "metadata": {
  "kernelspec": {
   "display_name": "env1",
   "language": "python",
   "name": "python3"
  },
  "language_info": {
   "codemirror_mode": {
    "name": "ipython",
    "version": 3
   },
   "file_extension": ".py",
   "mimetype": "text/x-python",
   "name": "python",
   "nbconvert_exporter": "python",
   "pygments_lexer": "ipython3",
   "version": "3.13.2"
  }
 },
 "nbformat": 4,
 "nbformat_minor": 2
}
