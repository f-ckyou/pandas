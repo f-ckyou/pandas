{
 "cells": [
  {
   "cell_type": "markdown",
   "metadata": {},
   "source": [
    "## [ Time Series Basics ]\n",
    "A basic kind of time series object in pandas is a `Series` indexed by timestamps, which is often represented outside of pandas as Python strings or datetime objects"
   ]
  },
  {
   "cell_type": "code",
   "execution_count": 4,
   "metadata": {},
   "outputs": [
    {
     "data": {
      "text/plain": [
       "2011-01-02    0.672367\n",
       "2011-01-05    0.735144\n",
       "2011-01-07    0.527393\n",
       "2011-01-08   -0.412556\n",
       "2011-01-10   -1.455057\n",
       "2011-01-12   -0.234365\n",
       "dtype: float64"
      ]
     },
     "execution_count": 4,
     "metadata": {},
     "output_type": "execute_result"
    }
   ],
   "source": [
    "import numpy as np \n",
    "import pandas as pd \n",
    "from datetime import datetime\n",
    "\n",
    "dates = [datetime(2011, 1, 2), datetime(2011, 1, 5),\n",
    "         datetime(2011, 1, 7), datetime(2011, 1, 8),\n",
    "         datetime(2011, 1, 10), datetime(2011, 1, 12)]\n",
    "\n",
    "ts = pd.Series(np.random.standard_normal(6), index=dates)\n",
    "ts"
   ]
  },
  {
   "cell_type": "code",
   "execution_count": 5,
   "metadata": {},
   "outputs": [
    {
     "data": {
      "text/plain": [
       "DatetimeIndex(['2011-01-02', '2011-01-05', '2011-01-07', '2011-01-08',\n",
       "               '2011-01-10', '2011-01-12'],\n",
       "              dtype='datetime64[ns]', freq=None)"
      ]
     },
     "execution_count": 5,
     "metadata": {},
     "output_type": "execute_result"
    }
   ],
   "source": [
    "# under the hood, these datetime objects have been put in a DatetimeIndex\n",
    "ts.index\n",
    "\n",
    "# DatetimeIndex\n",
    "    # it's an index made up of datetime values\n",
    "    # used in time series DataFrames or Series\n",
    "    # allows for easy date/time filtering, grouping, resampling, and frequency conversion\n",
    "    # it makes pandas time-aware\n",
    "    # it enhances performance and flexibility for time-related operations"
   ]
  },
  {
   "cell_type": "code",
   "execution_count": 6,
   "metadata": {},
   "outputs": [
    {
     "data": {
      "text/plain": [
       "2011-01-02    1.344735\n",
       "2011-01-05         NaN\n",
       "2011-01-07    1.054786\n",
       "2011-01-08         NaN\n",
       "2011-01-10   -2.910115\n",
       "2011-01-12         NaN\n",
       "dtype: float64"
      ]
     },
     "execution_count": 6,
     "metadata": {},
     "output_type": "execute_result"
    }
   ],
   "source": [
    "# like other series, arithmetic operations between differently indexed time series automatically align on the dates\n",
    "\n",
    "ts + ts[::2] # ts[::2] selects every second element in ts"
   ]
  },
  {
   "cell_type": "code",
   "execution_count": 7,
   "metadata": {},
   "outputs": [
    {
     "data": {
      "text/plain": [
       "dtype('<M8[ns]')"
      ]
     },
     "execution_count": 7,
     "metadata": {},
     "output_type": "execute_result"
    }
   ],
   "source": [
    "# pandas store timestamps using NumPy's datetime64 data type at the nanosecond resolution\n",
    "ts.index.dtype"
   ]
  },
  {
   "cell_type": "code",
   "execution_count": 9,
   "metadata": {},
   "outputs": [
    {
     "data": {
      "text/plain": [
       "Timestamp('2011-01-02 00:00:00')"
      ]
     },
     "execution_count": 9,
     "metadata": {},
     "output_type": "execute_result"
    }
   ],
   "source": [
    "# scalar values from a DatetimeIndex are pandas Timestamp objects\n",
    "stamp = ts.index[0]\n",
    "stamp"
   ]
  },
  {
   "cell_type": "markdown",
   "metadata": {},
   "source": [
    "- `pd.TimeStamp` can be substituted most place where you would use a `datetime` object. The reverse is not true.\n",
    "- however, because `pd.Timestamp` can store nanosecond precision data, while `datetime` stores only up to microseconds.\n",
    "- additionally, `pd.Timestamp` can store frequency information (if any) and understands how to do time zone conversions and other kinds of manipulations."
   ]
  },
  {
   "cell_type": "markdown",
   "metadata": {},
   "source": [
    "## [ Indexing, Selection, Subsetting ]"
   ]
  },
  {
   "cell_type": "code",
   "execution_count": 12,
   "metadata": {},
   "outputs": [
    {
     "data": {
      "text/plain": [
       "np.float64(0.5273930212284165)"
      ]
     },
     "execution_count": 12,
     "metadata": {},
     "output_type": "execute_result"
    }
   ],
   "source": [
    "# time series behaves like any other Series when you are indexing and selecting data based on the label\n",
    "stamp = ts.index[2]\n",
    "ts[stamp]"
   ]
  },
  {
   "cell_type": "code",
   "execution_count": 13,
   "metadata": {},
   "outputs": [
    {
     "data": {
      "text/plain": [
       "np.float64(-1.4550573267274463)"
      ]
     },
     "execution_count": 13,
     "metadata": {},
     "output_type": "execute_result"
    }
   ],
   "source": [
    "# as a convenience, you can also pass a string that is interpretable as a date\n",
    "ts[\"2011-01-10\"]"
   ]
  },
  {
   "cell_type": "markdown",
   "metadata": {},
   "source": [
    "For longer time seris, a year or only a year and month can be passed to easily select slices of data"
   ]
  },
  {
   "cell_type": "code",
   "execution_count": 14,
   "metadata": {},
   "outputs": [
    {
     "data": {
      "text/plain": [
       "2000-01-01    0.493957\n",
       "2000-01-02   -1.296484\n",
       "2000-01-03    0.526959\n",
       "2000-01-04   -1.668260\n",
       "2000-01-05   -1.028617\n",
       "                ...   \n",
       "2002-09-22   -1.537204\n",
       "2002-09-23   -0.048205\n",
       "2002-09-24   -1.239156\n",
       "2002-09-25    0.375952\n",
       "2002-09-26    1.559289\n",
       "Freq: D, Length: 1000, dtype: float64"
      ]
     },
     "execution_count": 14,
     "metadata": {},
     "output_type": "execute_result"
    }
   ],
   "source": [
    "longer_ts = pd.Series(np.random.standard_normal(1000), index=pd.date_range(\"2000-01-01\", periods=1000))\n",
    "longer_ts"
   ]
  },
  {
   "cell_type": "code",
   "execution_count": 15,
   "metadata": {},
   "outputs": [
    {
     "data": {
      "text/plain": [
       "2001-01-01   -0.117729\n",
       "2001-01-02   -0.826312\n",
       "2001-01-03    0.450641\n",
       "2001-01-04    0.003617\n",
       "2001-01-05   -1.505236\n",
       "                ...   \n",
       "2001-12-27   -0.049941\n",
       "2001-12-28   -2.369377\n",
       "2001-12-29   -0.107348\n",
       "2001-12-30   -1.217106\n",
       "2001-12-31    0.535427\n",
       "Freq: D, Length: 365, dtype: float64"
      ]
     },
     "execution_count": 15,
     "metadata": {},
     "output_type": "execute_result"
    }
   ],
   "source": [
    "longer_ts[\"2001\"]\n",
    "# here the string \"2001\" is interpreted as a year and selects that time period. This also works if you specify the month"
   ]
  },
  {
   "cell_type": "code",
   "execution_count": 20,
   "metadata": {},
   "outputs": [
    {
     "data": {
      "text/plain": [
       "2001-05-03    1.353820\n",
       "2001-05-04   -0.452741\n",
       "2001-05-05    0.229028\n",
       "2001-05-06    0.274359\n",
       "2001-05-07    0.804381\n",
       "2001-05-08    1.687818\n",
       "2001-05-09    0.078153\n",
       "2001-05-10    1.294241\n",
       "Freq: D, dtype: float64"
      ]
     },
     "execution_count": 20,
     "metadata": {},
     "output_type": "execute_result"
    }
   ],
   "source": [
    "may = longer_ts[\"2001-05\"]\n",
    "may[2:10]"
   ]
  },
  {
   "cell_type": "code",
   "execution_count": 21,
   "metadata": {},
   "outputs": [
    {
     "data": {
      "text/plain": [
       "2011-01-07    0.527393\n",
       "2011-01-08   -0.412556\n",
       "2011-01-10   -1.455057\n",
       "2011-01-12   -0.234365\n",
       "dtype: float64"
      ]
     },
     "execution_count": 21,
     "metadata": {},
     "output_type": "execute_result"
    }
   ],
   "source": [
    "# slicing with datetime objects work as well\n",
    "ts[datetime(2011, 1, 7):]"
   ]
  },
  {
   "cell_type": "code",
   "execution_count": 22,
   "metadata": {},
   "outputs": [
    {
     "data": {
      "text/plain": [
       "2011-01-07    0.527393\n",
       "2011-01-08   -0.412556\n",
       "2011-01-10   -1.455057\n",
       "dtype: float64"
      ]
     },
     "execution_count": 22,
     "metadata": {},
     "output_type": "execute_result"
    }
   ],
   "source": [
    "ts[datetime(2011, 1, 7):datetime(2011, 1, 10)]"
   ]
  },
  {
   "cell_type": "code",
   "execution_count": 23,
   "metadata": {},
   "outputs": [
    {
     "data": {
      "text/plain": [
       "2011-01-02    0.672367\n",
       "2011-01-05    0.735144\n",
       "2011-01-07    0.527393\n",
       "2011-01-08   -0.412556\n",
       "2011-01-10   -1.455057\n",
       "2011-01-12   -0.234365\n",
       "dtype: float64"
      ]
     },
     "execution_count": 23,
     "metadata": {},
     "output_type": "execute_result"
    }
   ],
   "source": [
    "# Since time series data is usually arranged in order by date/time, you can use dates that aren't even in the data to select a range of values between two points.\n",
    "ts"
   ]
  },
  {
   "cell_type": "code",
   "execution_count": 24,
   "metadata": {},
   "outputs": [
    {
     "data": {
      "text/plain": [
       "2011-01-07    0.527393\n",
       "2011-01-08   -0.412556\n",
       "2011-01-10   -1.455057\n",
       "dtype: float64"
      ]
     },
     "execution_count": 24,
     "metadata": {},
     "output_type": "execute_result"
    }
   ],
   "source": [
    "ts[\"2011-01-06\":\"2011-01-11\"]"
   ]
  },
  {
   "cell_type": "markdown",
   "metadata": {},
   "source": [
    "- As before, you can pass a string date, datetime, or timestamp. Remember that slicing in this manner produces views on the source time series, like slicing NumPy arrays.\n",
    "- This means that no data is copied, and modifications on the slice will be reflected in the original data."
   ]
  },
  {
   "cell_type": "code",
   "execution_count": 25,
   "metadata": {},
   "outputs": [
    {
     "data": {
      "text/plain": [
       "2011-01-02    0.672367\n",
       "2011-01-05    0.735144\n",
       "2011-01-07    0.527393\n",
       "2011-01-08   -0.412556\n",
       "dtype: float64"
      ]
     },
     "execution_count": 25,
     "metadata": {},
     "output_type": "execute_result"
    }
   ],
   "source": [
    "# pandas has a built-in method called truncate() that you can use to cut out a part of a time series between two dates (start and end)\n",
    "\n",
    "ts.truncate(after=\"2011-01-09\")"
   ]
  },
  {
   "cell_type": "code",
   "execution_count": 27,
   "metadata": {},
   "outputs": [
    {
     "data": {
      "text/html": [
       "<div>\n",
       "<style scoped>\n",
       "    .dataframe tbody tr th:only-of-type {\n",
       "        vertical-align: middle;\n",
       "    }\n",
       "\n",
       "    .dataframe tbody tr th {\n",
       "        vertical-align: top;\n",
       "    }\n",
       "\n",
       "    .dataframe thead th {\n",
       "        text-align: right;\n",
       "    }\n",
       "</style>\n",
       "<table border=\"1\" class=\"dataframe\">\n",
       "  <thead>\n",
       "    <tr style=\"text-align: right;\">\n",
       "      <th></th>\n",
       "      <th>Colorado</th>\n",
       "      <th>Texas</th>\n",
       "      <th>New York</th>\n",
       "      <th>Ohio</th>\n",
       "    </tr>\n",
       "  </thead>\n",
       "  <tbody>\n",
       "    <tr>\n",
       "      <th>2000-01-05</th>\n",
       "      <td>-0.168608</td>\n",
       "      <td>2.164293</td>\n",
       "      <td>-1.565414</td>\n",
       "      <td>-0.393080</td>\n",
       "    </tr>\n",
       "    <tr>\n",
       "      <th>2000-01-12</th>\n",
       "      <td>1.137607</td>\n",
       "      <td>-0.984427</td>\n",
       "      <td>-0.191096</td>\n",
       "      <td>0.954420</td>\n",
       "    </tr>\n",
       "    <tr>\n",
       "      <th>2000-01-19</th>\n",
       "      <td>-1.803073</td>\n",
       "      <td>0.282805</td>\n",
       "      <td>-0.475744</td>\n",
       "      <td>1.176564</td>\n",
       "    </tr>\n",
       "    <tr>\n",
       "      <th>2000-01-26</th>\n",
       "      <td>-2.402191</td>\n",
       "      <td>-0.488424</td>\n",
       "      <td>-0.358143</td>\n",
       "      <td>0.728807</td>\n",
       "    </tr>\n",
       "    <tr>\n",
       "      <th>2000-02-02</th>\n",
       "      <td>0.346653</td>\n",
       "      <td>-0.477836</td>\n",
       "      <td>0.838453</td>\n",
       "      <td>1.923924</td>\n",
       "    </tr>\n",
       "    <tr>\n",
       "      <th>...</th>\n",
       "      <td>...</td>\n",
       "      <td>...</td>\n",
       "      <td>...</td>\n",
       "      <td>...</td>\n",
       "    </tr>\n",
       "    <tr>\n",
       "      <th>2001-10-31</th>\n",
       "      <td>-0.380216</td>\n",
       "      <td>-0.785883</td>\n",
       "      <td>-0.095600</td>\n",
       "      <td>-0.314055</td>\n",
       "    </tr>\n",
       "    <tr>\n",
       "      <th>2001-11-07</th>\n",
       "      <td>0.023920</td>\n",
       "      <td>-2.478984</td>\n",
       "      <td>-0.705827</td>\n",
       "      <td>0.386737</td>\n",
       "    </tr>\n",
       "    <tr>\n",
       "      <th>2001-11-14</th>\n",
       "      <td>0.012912</td>\n",
       "      <td>0.072805</td>\n",
       "      <td>1.264567</td>\n",
       "      <td>-0.452869</td>\n",
       "    </tr>\n",
       "    <tr>\n",
       "      <th>2001-11-21</th>\n",
       "      <td>0.380315</td>\n",
       "      <td>0.112513</td>\n",
       "      <td>-0.034569</td>\n",
       "      <td>0.755669</td>\n",
       "    </tr>\n",
       "    <tr>\n",
       "      <th>2001-11-28</th>\n",
       "      <td>0.525306</td>\n",
       "      <td>0.002523</td>\n",
       "      <td>1.566118</td>\n",
       "      <td>-0.566237</td>\n",
       "    </tr>\n",
       "  </tbody>\n",
       "</table>\n",
       "<p>100 rows × 4 columns</p>\n",
       "</div>"
      ],
      "text/plain": [
       "            Colorado     Texas  New York      Ohio\n",
       "2000-01-05 -0.168608  2.164293 -1.565414 -0.393080\n",
       "2000-01-12  1.137607 -0.984427 -0.191096  0.954420\n",
       "2000-01-19 -1.803073  0.282805 -0.475744  1.176564\n",
       "2000-01-26 -2.402191 -0.488424 -0.358143  0.728807\n",
       "2000-02-02  0.346653 -0.477836  0.838453  1.923924\n",
       "...              ...       ...       ...       ...\n",
       "2001-10-31 -0.380216 -0.785883 -0.095600 -0.314055\n",
       "2001-11-07  0.023920 -2.478984 -0.705827  0.386737\n",
       "2001-11-14  0.012912  0.072805  1.264567 -0.452869\n",
       "2001-11-21  0.380315  0.112513 -0.034569  0.755669\n",
       "2001-11-28  0.525306  0.002523  1.566118 -0.566237\n",
       "\n",
       "[100 rows x 4 columns]"
      ]
     },
     "execution_count": 27,
     "metadata": {},
     "output_type": "execute_result"
    }
   ],
   "source": [
    "# all of this holds true for dataframe as well, indexing on its rows\n",
    "dates = pd.date_range(\"2000-01-01\", periods=100, freq=\"W-WED\")\n",
    "\n",
    "# W-WED: means weekly frequency, where each date will be the wednesday of each week\n",
    "\n",
    "long_df = pd.DataFrame(np.random.standard_normal((100, 4)), index=dates, \n",
    "                       columns=[\"Colorado\", \"Texas\", \"New York\", \"Ohio\"])\n",
    "\n",
    "long_df\n",
    "# long_df.loc[\"2001-05\"]"
   ]
  },
  {
   "cell_type": "code",
   "execution_count": 29,
   "metadata": {},
   "outputs": [
    {
     "data": {
      "text/html": [
       "<div>\n",
       "<style scoped>\n",
       "    .dataframe tbody tr th:only-of-type {\n",
       "        vertical-align: middle;\n",
       "    }\n",
       "\n",
       "    .dataframe tbody tr th {\n",
       "        vertical-align: top;\n",
       "    }\n",
       "\n",
       "    .dataframe thead th {\n",
       "        text-align: right;\n",
       "    }\n",
       "</style>\n",
       "<table border=\"1\" class=\"dataframe\">\n",
       "  <thead>\n",
       "    <tr style=\"text-align: right;\">\n",
       "      <th></th>\n",
       "      <th>Colorado</th>\n",
       "      <th>Texas</th>\n",
       "      <th>New York</th>\n",
       "      <th>Ohio</th>\n",
       "    </tr>\n",
       "  </thead>\n",
       "  <tbody>\n",
       "    <tr>\n",
       "      <th>2001-05-02</th>\n",
       "      <td>-1.038414</td>\n",
       "      <td>-0.325998</td>\n",
       "      <td>-0.994882</td>\n",
       "      <td>-0.037020</td>\n",
       "    </tr>\n",
       "    <tr>\n",
       "      <th>2001-05-09</th>\n",
       "      <td>-0.890256</td>\n",
       "      <td>0.478504</td>\n",
       "      <td>0.681179</td>\n",
       "      <td>2.464736</td>\n",
       "    </tr>\n",
       "    <tr>\n",
       "      <th>2001-05-16</th>\n",
       "      <td>-0.143593</td>\n",
       "      <td>-0.652569</td>\n",
       "      <td>1.384029</td>\n",
       "      <td>-1.187708</td>\n",
       "    </tr>\n",
       "    <tr>\n",
       "      <th>2001-05-23</th>\n",
       "      <td>-0.972669</td>\n",
       "      <td>-0.537878</td>\n",
       "      <td>-0.578028</td>\n",
       "      <td>-0.706344</td>\n",
       "    </tr>\n",
       "    <tr>\n",
       "      <th>2001-05-30</th>\n",
       "      <td>0.376854</td>\n",
       "      <td>0.218363</td>\n",
       "      <td>1.094460</td>\n",
       "      <td>-2.703103</td>\n",
       "    </tr>\n",
       "  </tbody>\n",
       "</table>\n",
       "</div>"
      ],
      "text/plain": [
       "            Colorado     Texas  New York      Ohio\n",
       "2001-05-02 -1.038414 -0.325998 -0.994882 -0.037020\n",
       "2001-05-09 -0.890256  0.478504  0.681179  2.464736\n",
       "2001-05-16 -0.143593 -0.652569  1.384029 -1.187708\n",
       "2001-05-23 -0.972669 -0.537878 -0.578028 -0.706344\n",
       "2001-05-30  0.376854  0.218363  1.094460 -2.703103"
      ]
     },
     "execution_count": 29,
     "metadata": {},
     "output_type": "execute_result"
    }
   ],
   "source": [
    "long_df.loc[\"2001-05\"]"
   ]
  },
  {
   "cell_type": "markdown",
   "metadata": {},
   "source": [
    "## [ Time Series with Duplicate Indices ]\n"
   ]
  },
  {
   "cell_type": "code",
   "execution_count": 30,
   "metadata": {},
   "outputs": [
    {
     "data": {
      "text/plain": [
       "2000-01-01    0\n",
       "2000-01-02    1\n",
       "2000-01-02    2\n",
       "2000-01-02    3\n",
       "2000-01-03    4\n",
       "dtype: int64"
      ]
     },
     "execution_count": 30,
     "metadata": {},
     "output_type": "execute_result"
    }
   ],
   "source": [
    "# in some applications, there may be multiple data observations falling on a particular timestamp\n",
    "\n",
    "dates = pd.DatetimeIndex([\"2000-01-01\", \"2000-01-02\", \"2000-01-02\",\n",
    "                          \"2000-01-02\", \"2000-01-03\"])\n",
    "\n",
    "dup_ts = pd.Series(np.arange(5), index=dates)\n",
    "dup_ts"
   ]
  },
  {
   "cell_type": "code",
   "execution_count": 31,
   "metadata": {},
   "outputs": [
    {
     "data": {
      "text/plain": [
       "False"
      ]
     },
     "execution_count": 31,
     "metadata": {},
     "output_type": "execute_result"
    }
   ],
   "source": [
    "# we can tell that the index is not unique by checking its is_unique property\n",
    "dup_ts.index.is_unique"
   ]
  },
  {
   "cell_type": "code",
   "execution_count": 32,
   "metadata": {},
   "outputs": [
    {
     "data": {
      "text/plain": [
       "np.int64(4)"
      ]
     },
     "execution_count": 32,
     "metadata": {},
     "output_type": "execute_result"
    }
   ],
   "source": [
    "# indexing into this time series will now either produce scalar values or slices, depending on whether a timestamp is duplicated\n",
    "\n",
    "dup_ts[\"2000-01-03\"] # not duplicated"
   ]
  },
  {
   "cell_type": "code",
   "execution_count": 33,
   "metadata": {},
   "outputs": [
    {
     "data": {
      "text/plain": [
       "2000-01-02    1\n",
       "2000-01-02    2\n",
       "2000-01-02    3\n",
       "dtype: int64"
      ]
     },
     "execution_count": 33,
     "metadata": {},
     "output_type": "execute_result"
    }
   ],
   "source": [
    "dup_ts[\"2000-01-02\"] # duplicated"
   ]
  },
  {
   "cell_type": "code",
   "execution_count": 34,
   "metadata": {},
   "outputs": [
    {
     "data": {
      "text/plain": [
       "2000-01-01    0.0\n",
       "2000-01-02    2.0\n",
       "2000-01-03    4.0\n",
       "dtype: float64"
      ]
     },
     "execution_count": 34,
     "metadata": {},
     "output_type": "execute_result"
    }
   ],
   "source": [
    "# to aggregate the data having nonunique timestamps\n",
    "# one way to do this is to use groupby and pass level=0 (the one and only level)\n",
    "\n",
    "grouped = dup_ts.groupby(level=0)\n",
    "grouped.mean()"
   ]
  },
  {
   "cell_type": "code",
   "execution_count": 35,
   "metadata": {},
   "outputs": [
    {
     "data": {
      "text/plain": [
       "2000-01-01    1\n",
       "2000-01-02    3\n",
       "2000-01-03    1\n",
       "dtype: int64"
      ]
     },
     "execution_count": 35,
     "metadata": {},
     "output_type": "execute_result"
    }
   ],
   "source": [
    "grouped.count()"
   ]
  }
 ],
 "metadata": {
  "kernelspec": {
   "display_name": "env1",
   "language": "python",
   "name": "python3"
  },
  "language_info": {
   "codemirror_mode": {
    "name": "ipython",
    "version": 3
   },
   "file_extension": ".py",
   "mimetype": "text/x-python",
   "name": "python",
   "nbconvert_exporter": "python",
   "pygments_lexer": "ipython3",
   "version": "3.13.2"
  }
 },
 "nbformat": 4,
 "nbformat_minor": 2
}
