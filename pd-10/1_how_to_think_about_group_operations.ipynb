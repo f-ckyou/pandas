{
 "cells": [
  {
   "cell_type": "markdown",
   "metadata": {},
   "source": [
    "\n",
    "#### What is Data Aggregation and Group Operations?\n",
    "\n",
    "Data aggregation and group operations involve **splitting** a dataset into **groups**, then applying **functions** (like aggregation, transformation, or filtering) on each group. This process is central to many data analysis workflows, especially for **summarizing data**, **creating reports**, or **visualizations**.\n",
    "\n",
    "#### Importance in Data Analysis\n",
    "\n",
    "- After loading, merging, and cleaning data, often you'll need to **analyze groups** of data separately.\n",
    "- Examples: \n",
    "  - Calculating average income by region,\n",
    "  - Normalizing scores within categories,\n",
    "  - Running regressions per group.\n",
    "\n",
    "#### The Role of `groupby` in pandas\n",
    "\n",
    "The `groupby()` method in pandas allows you to:\n",
    "1. **Split** the data into groups based on a key (or multiple keys),\n",
    "2. **Apply** a function to each group,\n",
    "3. **Combine** the results back into a useful structure.\n",
    "\n",
    "This is often referred to as the **Split–Apply–Combine** strategy.\n",
    "\n",
    "#### Why Not Just SQL?\n",
    "\n",
    "- SQL is great for filtering, joining, and basic aggregations.\n",
    "- However, SQL is **limited** in performing:\n",
    "  - Complex group transformations,\n",
    "  - Custom logic for each group,\n",
    "  - Advanced statistical computations.\n",
    "- Python and pandas allow you to **write custom Python functions** for these operations — making it highly flexible and expressive.\n",
    "\n",
    "#### Key Capabilities of pandas Group Operations\n",
    "\n",
    "##### 1. **Split** Data Using Keys\n",
    "- Keys can be:\n",
    "  - **Column names** (e.g., `df.groupby('city')`)\n",
    "  - **Multiple columns** (e.g., `df.groupby(['city', 'gender'])`)\n",
    "  - **Functions** (e.g., `df.groupby(lambda x: x[:3])`)\n",
    "  - **Arrays** (e.g., an array specifying labels for grouping)\n",
    "\n",
    "\n",
    "##### 2. **Aggregate** Data\n",
    "- Built-in aggregation methods:\n",
    "  - `count()`, `sum()`, `mean()`, `median()`, `min()`, `max()`, `std()`, etc.\n",
    "- Custom aggregations:\n",
    "  - Use `agg()` with a **dictionary** or **custom functions**.\n",
    "- Example:\n",
    "  ```python\n",
    "  df.groupby('category')['sales'].agg(['sum', 'mean'])\n",
    "  ```\n",
    "\n",
    "##### 3. **Transform** Data Within Groups\n",
    "- The `transform()` method returns an object **same size as input**.\n",
    "- Useful for:\n",
    "  - **Normalization** (e.g., z-score within group),\n",
    "  - **Filling missing values by group mean**,\n",
    "  - **Ranking** elements within a group.\n",
    "- Example:\n",
    "  ```python\n",
    "  df['normalized'] = df.groupby('group')['value'].transform(lambda x: (x - x.mean()) / x.std())\n",
    "  ```\n",
    "\n",
    "##### 4. **Filter Groups**\n",
    "- You can filter groups based on a **condition**.\n",
    "- Example: Keep groups with size > 3:\n",
    "  ```python\n",
    "  df.groupby('category').filter(lambda x: len(x) > 3)\n",
    "  ```\n",
    "\n",
    "##### 5. **Apply Custom Functions**\n",
    "- `apply()` allows full flexibility:\n",
    "  - You can define custom operations per group,\n",
    "  - Can return scalars, Series, or DataFrames.\n",
    "- Example:\n",
    "  ```python\n",
    "  def top_n(df, n=3):\n",
    "      return df.sort_values('score', ascending=False).head(n)\n",
    "\n",
    "  df.groupby('class').apply(top_n)\n",
    "  ```\n",
    "\n",
    "##### 6. **Pivot Tables and Cross-tabulations**\n",
    "- `pivot_table()` creates summary tables:\n",
    "  ```python\n",
    "  df.pivot_table(values='sales', index='region', columns='product', aggfunc='sum')\n",
    "  ```\n",
    "- `crosstab()` is used for frequency tables:\n",
    "  ```python\n",
    "  pd.crosstab(df['gender'], df['product'])\n",
    "  ```\n",
    "\n",
    "##### 7. **Statistical Group Analysis**\n",
    "- **Quantile analysis**, regression, correlation by group:\n",
    "  ```python\n",
    "  df.groupby('group')['score'].quantile(0.75)\n",
    "  ```\n",
    "\n",
    "#### Summary of Key Concepts\n",
    "\n",
    "| Concept                          | Description |\n",
    "|----------------------------------|-------------|\n",
    "| `groupby()`                      | Splits data into groups |\n",
    "| Aggregation                      | Computes statistics like sum, mean, etc. |\n",
    "| `agg()`                          | Allows multiple or custom aggregation |\n",
    "| `transform()`                    | Transforms each group, keeping original shape |\n",
    "| `filter()`                       | Drops groups based on a condition |\n",
    "| `apply()`                        | Fully flexible, applies custom function to each group |\n",
    "| `pivot_table()` / `crosstab()`   | Summary and frequency tables |\n",
    "| Advanced Analysis                | Quantiles, correlations, regressions by group |\n",
    "\n",
    "> Time-based aggregation of time series data , a special use case of groupby -- will do it later"
   ]
  },
  {
   "cell_type": "code",
   "execution_count": 21,
   "metadata": {},
   "outputs": [],
   "source": [
    "import numpy as np \n",
    "import pandas as pd "
   ]
  },
  {
   "cell_type": "markdown",
   "metadata": {},
   "source": [
    "## [ How to Think about Group Operations ]\n",
    "- Hadley Wickham, an author of many popular packages for the R programming langauge, coined the term split-apply-combine for describing group operations.\n",
    "- In the first stage of the process, data contained in a pandas object is split into groups based on one or more keys that we provide.\n",
    "- The splitting is performed on a particular axis of an object.\n",
    "- Once this is done, a function is applied to each group, producing a new value.\n",
    "- Finally, the results of all those function applications are combined into a result object.\n",
    "- The form of the resulting object will usually depend on what's being done to the data\n",
    "\n",
    "- The grouping keys tell pandas how to divide the data -- and pandas supports several flexible ways to define those keys.\n",
    "\n",
    "#### **Types of Grouping Keys in pandas**\n",
    "\n",
    "1. ##### **Column name**\n",
    "   - Group by values in a column.\n",
    "   - 📌 Example: `df.groupby('city')`\n",
    "\n",
    "2. ##### **List or array of values**\n",
    "   - A list/array of same length as the DataFrame/Series axis.\n",
    "   - Each element indicates the group label for the corresponding row.\n",
    "   - 📌 Example: `df.groupby(['A', 'A', 'B', 'B'])`\n",
    "\n",
    "3. ##### **Multiple column names (list of labels)**\n",
    "   - Group by combinations of multiple columns.\n",
    "   - 📌 Example: `df.groupby(['city', 'gender'])`\n",
    "\n",
    "4. ##### **Dictionary**\n",
    "   - Map index labels to group names.\n",
    "   - 📌 Example: `df.groupby({'a': 'group1', 'b': 'group1', 'c': 'group2'})`\n",
    "\n",
    "5. ##### **Series**\n",
    "   - A Series mapping each row (or column) to a group.\n",
    "   - 📌 Example:\n",
    "     ```python\n",
    "     group_map = pd.Series(['X', 'X', 'Y'], index=df.index)\n",
    "     df.groupby(group_map)\n",
    "     ```\n",
    "\n",
    "6. ##### **Function**\n",
    "   - A function applied to the index (or column names) that returns the group label.\n",
    "   - 📌 Examples:\n",
    "     - Group by first letter of index: `df.groupby(lambda x: x[0])`\n",
    "     - Group by row length: `df.groupby(lambda x: len(x))`\n",
    "     \n",
    "7. ##### **Combinations (Mix of types)**\n",
    "   - You can combine any of the above types in a list.\n",
    "   - 📌 Example:\n",
    "     ```python\n",
    "     df.groupby([array, 'column_name', lambda x: x[-1]])\n",
    "     ```\n"
   ]
  },
  {
   "cell_type": "code",
   "execution_count": 22,
   "metadata": {},
   "outputs": [
    {
     "data": {
      "text/html": [
       "<div>\n",
       "<style scoped>\n",
       "    .dataframe tbody tr th:only-of-type {\n",
       "        vertical-align: middle;\n",
       "    }\n",
       "\n",
       "    .dataframe tbody tr th {\n",
       "        vertical-align: top;\n",
       "    }\n",
       "\n",
       "    .dataframe thead th {\n",
       "        text-align: right;\n",
       "    }\n",
       "</style>\n",
       "<table border=\"1\" class=\"dataframe\">\n",
       "  <thead>\n",
       "    <tr style=\"text-align: right;\">\n",
       "      <th></th>\n",
       "      <th>key1</th>\n",
       "      <th>key2</th>\n",
       "      <th>data1</th>\n",
       "      <th>data2</th>\n",
       "    </tr>\n",
       "  </thead>\n",
       "  <tbody>\n",
       "    <tr>\n",
       "      <th>0</th>\n",
       "      <td>a</td>\n",
       "      <td>1</td>\n",
       "      <td>-1.667753</td>\n",
       "      <td>1.192453</td>\n",
       "    </tr>\n",
       "    <tr>\n",
       "      <th>1</th>\n",
       "      <td>a</td>\n",
       "      <td>2</td>\n",
       "      <td>-0.244164</td>\n",
       "      <td>-0.197482</td>\n",
       "    </tr>\n",
       "    <tr>\n",
       "      <th>2</th>\n",
       "      <td>None</td>\n",
       "      <td>1</td>\n",
       "      <td>0.854690</td>\n",
       "      <td>2.362503</td>\n",
       "    </tr>\n",
       "    <tr>\n",
       "      <th>3</th>\n",
       "      <td>b</td>\n",
       "      <td>2</td>\n",
       "      <td>-1.626087</td>\n",
       "      <td>-0.477084</td>\n",
       "    </tr>\n",
       "    <tr>\n",
       "      <th>4</th>\n",
       "      <td>b</td>\n",
       "      <td>1</td>\n",
       "      <td>-0.853424</td>\n",
       "      <td>2.019757</td>\n",
       "    </tr>\n",
       "    <tr>\n",
       "      <th>5</th>\n",
       "      <td>a</td>\n",
       "      <td>&lt;NA&gt;</td>\n",
       "      <td>-1.249935</td>\n",
       "      <td>-1.183894</td>\n",
       "    </tr>\n",
       "    <tr>\n",
       "      <th>6</th>\n",
       "      <td>None</td>\n",
       "      <td>1</td>\n",
       "      <td>0.138188</td>\n",
       "      <td>0.562949</td>\n",
       "    </tr>\n",
       "  </tbody>\n",
       "</table>\n",
       "</div>"
      ],
      "text/plain": [
       "   key1  key2     data1     data2\n",
       "0     a     1 -1.667753  1.192453\n",
       "1     a     2 -0.244164 -0.197482\n",
       "2  None     1  0.854690  2.362503\n",
       "3     b     2 -1.626087 -0.477084\n",
       "4     b     1 -0.853424  2.019757\n",
       "5     a  <NA> -1.249935 -1.183894\n",
       "6  None     1  0.138188  0.562949"
      ]
     },
     "execution_count": 22,
     "metadata": {},
     "output_type": "execute_result"
    }
   ],
   "source": [
    "# Now Examples\n",
    "# here is a small tabular dataset as a DataFrame\n",
    "\n",
    "df = pd.DataFrame({\"key1\" : [\"a\", \"a\", None, \"b\", \"b\", \"a\", None],\n",
    "                   \"key2\" : pd.Series([1, 2, 1, 2, 1, None, 1], dtype=\"Int64\"),\n",
    "                   \"data1\" : np.random.standard_normal(7),\n",
    "                   \"data2\" : np.random.standard_normal(7)})\n",
    "df"
   ]
  },
  {
   "cell_type": "code",
   "execution_count": 23,
   "metadata": {},
   "outputs": [
    {
     "data": {
      "text/plain": [
       "<pandas.core.groupby.generic.SeriesGroupBy object at 0x723df90691d0>"
      ]
     },
     "execution_count": 23,
     "metadata": {},
     "output_type": "execute_result"
    }
   ],
   "source": [
    "# suppose you wanted to compute the mean of the data1 column using the labels from key1\n",
    "# there are a number of ways to do this.\n",
    "# one is to access data1 and call groupby with the column (a series) at key1\n",
    "\n",
    "grouped = df[\"data1\"].groupby(df[\"key1\"])\n",
    "grouped\n",
    "# this grouped variable is now a special \"GroupBy\" object. \n",
    "# this object has all of the information needed to then apply some operation to each of the groups."
   ]
  },
  {
   "cell_type": "code",
   "execution_count": 24,
   "metadata": {},
   "outputs": [
    {
     "data": {
      "text/plain": [
       "key1\n",
       "a   -1.053951\n",
       "b   -1.239755\n",
       "Name: data1, dtype: float64"
      ]
     },
     "execution_count": 24,
     "metadata": {},
     "output_type": "execute_result"
    }
   ],
   "source": [
    "# for ex, to compute group means we can call the GroupBy's mean method\n",
    "grouped.mean()"
   ]
  },
  {
   "cell_type": "code",
   "execution_count": 25,
   "metadata": {},
   "outputs": [
    {
     "data": {
      "text/plain": [
       "key1  key2\n",
       "a     1      -1.667753\n",
       "      2      -0.244164\n",
       "b     1      -0.853424\n",
       "      2      -1.626087\n",
       "Name: data1, dtype: float64"
      ]
     },
     "execution_count": 25,
     "metadata": {},
     "output_type": "execute_result"
    }
   ],
   "source": [
    "# passing multiple arrays as a list\n",
    "means = df[\"data1\"].groupby([df[\"key1\"], df[\"key2\"]]).mean()\n",
    "means"
   ]
  },
  {
   "cell_type": "code",
   "execution_count": 26,
   "metadata": {},
   "outputs": [
    {
     "data": {
      "text/html": [
       "<div>\n",
       "<style scoped>\n",
       "    .dataframe tbody tr th:only-of-type {\n",
       "        vertical-align: middle;\n",
       "    }\n",
       "\n",
       "    .dataframe tbody tr th {\n",
       "        vertical-align: top;\n",
       "    }\n",
       "\n",
       "    .dataframe thead th {\n",
       "        text-align: right;\n",
       "    }\n",
       "</style>\n",
       "<table border=\"1\" class=\"dataframe\">\n",
       "  <thead>\n",
       "    <tr style=\"text-align: right;\">\n",
       "      <th>key2</th>\n",
       "      <th>1</th>\n",
       "      <th>2</th>\n",
       "    </tr>\n",
       "    <tr>\n",
       "      <th>key1</th>\n",
       "      <th></th>\n",
       "      <th></th>\n",
       "    </tr>\n",
       "  </thead>\n",
       "  <tbody>\n",
       "    <tr>\n",
       "      <th>a</th>\n",
       "      <td>-1.667753</td>\n",
       "      <td>-0.244164</td>\n",
       "    </tr>\n",
       "    <tr>\n",
       "      <th>b</th>\n",
       "      <td>-0.853424</td>\n",
       "      <td>-1.626087</td>\n",
       "    </tr>\n",
       "  </tbody>\n",
       "</table>\n",
       "</div>"
      ],
      "text/plain": [
       "key2         1         2\n",
       "key1                    \n",
       "a    -1.667753 -0.244164\n",
       "b    -0.853424 -1.626087"
      ]
     },
     "execution_count": 26,
     "metadata": {},
     "output_type": "execute_result"
    }
   ],
   "source": [
    "# here we grouped the data using two keys, and the resulting Series now has a hierarchical index consisting of the unique pairs of keys observed\n",
    "means.unstack()"
   ]
  },
  {
   "cell_type": "code",
   "execution_count": 27,
   "metadata": {},
   "outputs": [
    {
     "data": {
      "text/plain": [
       "CA  2005   -0.747049\n",
       "    2006    0.854690\n",
       "OH  2005   -1.646920\n",
       "    2006   -0.357618\n",
       "Name: data1, dtype: float64"
      ]
     },
     "execution_count": 27,
     "metadata": {},
     "output_type": "execute_result"
    }
   ],
   "source": [
    "# in this example, the group keys are all series, though they could be any arrays of the right length\n",
    "\n",
    "states = np.array([\"OH\", \"CA\", \"CA\", \"OH\", \"OH\", \"CA\", \"OH\"])\n",
    "years = [2005, 2005, 2006, 2005, 2006, 2005, 2006]\n",
    "\n",
    "df[\"data1\"].groupby([states, years]).mean()"
   ]
  },
  {
   "cell_type": "code",
   "execution_count": 28,
   "metadata": {},
   "outputs": [
    {
     "data": {
      "text/html": [
       "<div>\n",
       "<style scoped>\n",
       "    .dataframe tbody tr th:only-of-type {\n",
       "        vertical-align: middle;\n",
       "    }\n",
       "\n",
       "    .dataframe tbody tr th {\n",
       "        vertical-align: top;\n",
       "    }\n",
       "\n",
       "    .dataframe thead th {\n",
       "        text-align: right;\n",
       "    }\n",
       "</style>\n",
       "<table border=\"1\" class=\"dataframe\">\n",
       "  <thead>\n",
       "    <tr style=\"text-align: right;\">\n",
       "      <th></th>\n",
       "      <th>key2</th>\n",
       "      <th>data1</th>\n",
       "      <th>data2</th>\n",
       "    </tr>\n",
       "    <tr>\n",
       "      <th>key1</th>\n",
       "      <th></th>\n",
       "      <th></th>\n",
       "      <th></th>\n",
       "    </tr>\n",
       "  </thead>\n",
       "  <tbody>\n",
       "    <tr>\n",
       "      <th>a</th>\n",
       "      <td>1.5</td>\n",
       "      <td>-1.053951</td>\n",
       "      <td>-0.062974</td>\n",
       "    </tr>\n",
       "    <tr>\n",
       "      <th>b</th>\n",
       "      <td>1.5</td>\n",
       "      <td>-1.239755</td>\n",
       "      <td>0.771337</td>\n",
       "    </tr>\n",
       "  </tbody>\n",
       "</table>\n",
       "</div>"
      ],
      "text/plain": [
       "      key2     data1     data2\n",
       "key1                          \n",
       "a      1.5 -1.053951 -0.062974\n",
       "b      1.5 -1.239755  0.771337"
      ]
     },
     "execution_count": 28,
     "metadata": {},
     "output_type": "execute_result"
    }
   ],
   "source": [
    "# frequently, the grouping information is found in the same DataFrame as the data you want to work on\n",
    "\n",
    "df.groupby(\"key1\").mean()"
   ]
  },
  {
   "cell_type": "code",
   "execution_count": 29,
   "metadata": {},
   "outputs": [],
   "source": [
    "# df.groupby(\"key2\").mean()"
   ]
  },
  {
   "cell_type": "code",
   "execution_count": 30,
   "metadata": {},
   "outputs": [
    {
     "data": {
      "text/html": [
       "<div>\n",
       "<style scoped>\n",
       "    .dataframe tbody tr th:only-of-type {\n",
       "        vertical-align: middle;\n",
       "    }\n",
       "\n",
       "    .dataframe tbody tr th {\n",
       "        vertical-align: top;\n",
       "    }\n",
       "\n",
       "    .dataframe thead th {\n",
       "        text-align: right;\n",
       "    }\n",
       "</style>\n",
       "<table border=\"1\" class=\"dataframe\">\n",
       "  <thead>\n",
       "    <tr style=\"text-align: right;\">\n",
       "      <th></th>\n",
       "      <th></th>\n",
       "      <th>data1</th>\n",
       "      <th>data2</th>\n",
       "    </tr>\n",
       "    <tr>\n",
       "      <th>key1</th>\n",
       "      <th>key2</th>\n",
       "      <th></th>\n",
       "      <th></th>\n",
       "    </tr>\n",
       "  </thead>\n",
       "  <tbody>\n",
       "    <tr>\n",
       "      <th rowspan=\"2\" valign=\"top\">a</th>\n",
       "      <th>1</th>\n",
       "      <td>-1.667753</td>\n",
       "      <td>1.192453</td>\n",
       "    </tr>\n",
       "    <tr>\n",
       "      <th>2</th>\n",
       "      <td>-0.244164</td>\n",
       "      <td>-0.197482</td>\n",
       "    </tr>\n",
       "    <tr>\n",
       "      <th rowspan=\"2\" valign=\"top\">b</th>\n",
       "      <th>1</th>\n",
       "      <td>-0.853424</td>\n",
       "      <td>2.019757</td>\n",
       "    </tr>\n",
       "    <tr>\n",
       "      <th>2</th>\n",
       "      <td>-1.626087</td>\n",
       "      <td>-0.477084</td>\n",
       "    </tr>\n",
       "  </tbody>\n",
       "</table>\n",
       "</div>"
      ],
      "text/plain": [
       "              data1     data2\n",
       "key1 key2                    \n",
       "a    1    -1.667753  1.192453\n",
       "     2    -0.244164 -0.197482\n",
       "b    1    -0.853424  2.019757\n",
       "     2    -1.626087 -0.477084"
      ]
     },
     "execution_count": 30,
     "metadata": {},
     "output_type": "execute_result"
    }
   ],
   "source": [
    "df.groupby([\"key1\", \"key2\"]).mean()"
   ]
  },
  {
   "cell_type": "code",
   "execution_count": 31,
   "metadata": {},
   "outputs": [
    {
     "data": {
      "text/plain": [
       "key1  key2\n",
       "a     1       1\n",
       "      2       1\n",
       "b     1       1\n",
       "      2       1\n",
       "dtype: int64"
      ]
     },
     "execution_count": 31,
     "metadata": {},
     "output_type": "execute_result"
    }
   ],
   "source": [
    "# regardless of why we're using groupby, sometimes we just want to know how many rows are in each group.\n",
    "df.groupby([\"key1\", \"key2\"]).size()"
   ]
  },
  {
   "cell_type": "code",
   "execution_count": 32,
   "metadata": {},
   "outputs": [
    {
     "data": {
      "text/plain": [
       "key1\n",
       "a      3\n",
       "b      2\n",
       "NaN    2\n",
       "dtype: int64"
      ]
     },
     "execution_count": 32,
     "metadata": {},
     "output_type": "execute_result"
    }
   ],
   "source": [
    "# note that any missing values in a group key are excluded from result by default\n",
    "# this behavior can be disabled by passing dropna=False to groupby\n",
    "df.groupby(\"key1\", dropna=False).size()"
   ]
  },
  {
   "cell_type": "code",
   "execution_count": 33,
   "metadata": {},
   "outputs": [
    {
     "data": {
      "text/plain": [
       "key1  key2\n",
       "a     1       1\n",
       "      2       1\n",
       "      <NA>    1\n",
       "b     1       1\n",
       "      2       1\n",
       "NaN   1       2\n",
       "dtype: int64"
      ]
     },
     "execution_count": 33,
     "metadata": {},
     "output_type": "execute_result"
    }
   ],
   "source": [
    "df.groupby([\"key1\", \"key2\"], dropna=False).size()"
   ]
  },
  {
   "cell_type": "code",
   "execution_count": 34,
   "metadata": {},
   "outputs": [
    {
     "data": {
      "text/html": [
       "<div>\n",
       "<style scoped>\n",
       "    .dataframe tbody tr th:only-of-type {\n",
       "        vertical-align: middle;\n",
       "    }\n",
       "\n",
       "    .dataframe tbody tr th {\n",
       "        vertical-align: top;\n",
       "    }\n",
       "\n",
       "    .dataframe thead th {\n",
       "        text-align: right;\n",
       "    }\n",
       "</style>\n",
       "<table border=\"1\" class=\"dataframe\">\n",
       "  <thead>\n",
       "    <tr style=\"text-align: right;\">\n",
       "      <th></th>\n",
       "      <th>key2</th>\n",
       "      <th>data1</th>\n",
       "      <th>data2</th>\n",
       "    </tr>\n",
       "    <tr>\n",
       "      <th>key1</th>\n",
       "      <th></th>\n",
       "      <th></th>\n",
       "      <th></th>\n",
       "    </tr>\n",
       "  </thead>\n",
       "  <tbody>\n",
       "    <tr>\n",
       "      <th>a</th>\n",
       "      <td>2</td>\n",
       "      <td>3</td>\n",
       "      <td>3</td>\n",
       "    </tr>\n",
       "    <tr>\n",
       "      <th>b</th>\n",
       "      <td>2</td>\n",
       "      <td>2</td>\n",
       "      <td>2</td>\n",
       "    </tr>\n",
       "  </tbody>\n",
       "</table>\n",
       "</div>"
      ],
      "text/plain": [
       "      key2  data1  data2\n",
       "key1                    \n",
       "a        2      3      3\n",
       "b        2      2      2"
      ]
     },
     "execution_count": 34,
     "metadata": {},
     "output_type": "execute_result"
    }
   ],
   "source": [
    "# a group function similar in spirit to size is count, which computes the number of nonnull values in each group\n",
    "df.groupby(\"key1\").count()"
   ]
  }
 ],
 "metadata": {
  "kernelspec": {
   "display_name": "env1",
   "language": "python",
   "name": "python3"
  },
  "language_info": {
   "codemirror_mode": {
    "name": "ipython",
    "version": 3
   },
   "file_extension": ".py",
   "mimetype": "text/x-python",
   "name": "python",
   "nbconvert_exporter": "python",
   "pygments_lexer": "ipython3",
   "version": "3.13.2"
  }
 },
 "nbformat": 4,
 "nbformat_minor": 2
}
